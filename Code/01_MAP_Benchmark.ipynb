{
 "cells": [
  {
   "cell_type": "code",
   "id": "initial_id",
   "metadata": {
    "collapsed": true,
    "ExecuteTime": {
     "end_time": "2025-03-07T15:41:26.856319Z",
     "start_time": "2025-03-07T15:41:25.659233Z"
    }
   },
   "source": [
    "import src.generate_encodings as ge\n",
    "import src.prediction_models as pm\n",
    "import tqdm\n",
    "import os, sys\n",
    "from joblib import parallel_backend\n",
    "import warnings\n",
    "import ast"
   ],
   "outputs": [],
   "execution_count": 1
  },
  {
   "cell_type": "code",
   "id": "689c486d623f961e",
   "metadata": {
    "ExecuteTime": {
     "end_time": "2025-03-19T16:20:15.824299Z",
     "start_time": "2025-03-19T16:20:15.822066Z"
    }
   },
   "source": [
    "class HiddenPrints:\n",
    "    def __enter__(self):\n",
    "        self._original_stdout = sys.stdout\n",
    "        sys.stdout = open(os.devnull, 'w')\n",
    "\n",
    "    def __exit__(self, exc_type, exc_val, exc_tb):\n",
    "        sys.stdout.close()\n",
    "        sys.stdout = self._original_stdout\n",
    "\n",
    "\n",
    "class HiddenWarnings():\n",
    "    def __enter__(self):\n",
    "        # Save the current filter settings before changing them\n",
    "        self._previous_filters = warnings.filters[:]\n",
    "        # Ignore all warnings\n",
    "        warnings.filterwarnings(\"ignore\")\n",
    "\n",
    "    def __exit__(self, exc_type, exc_val, exc_tb):\n",
    "        # Restore the original warning filter settings\n",
    "        warnings.filters = self._previous_filters\n"
   ],
   "outputs": [],
   "execution_count": 1
  },
  {
   "cell_type": "code",
   "id": "317ec8d47370df9b",
   "metadata": {
    "ExecuteTime": {
     "end_time": "2025-03-07T15:41:26.968870Z",
     "start_time": "2025-03-07T15:41:26.967294Z"
    }
   },
   "source": [
    "data_file = \"../Data/NOD.csv\"\n",
    "k_folds = 5\n",
    "model_data = []\n",
    "\n",
    "benchmark_results = dict()\n",
    "number_examples = 50\n",
    "\n",
    "e_types = [\"esmc_300m\", \"esmc_600m\", \"georgiev\", \"one_hot\", \"blosum45\", \"blosum50\", \"blosum62\", \"blosum80\",\n",
    "           \"blosum90\", ][-2:-1]\n",
    "models = [\"lightgbm\", \"xgboost\", \"rf\", \"xgboost_rf\", \"adaboost\", \"svr\"][0:1]"
   ],
   "outputs": [],
   "execution_count": 3
  },
  {
   "cell_type": "code",
   "id": "21a6c097f900f807",
   "metadata": {
    "ExecuteTime": {
     "end_time": "2025-03-07T15:41:39.359309Z",
     "start_time": "2025-03-07T15:41:27.009082Z"
    }
   },
   "source": [
    "import torch\n",
    "import gc\n",
    "\n",
    "# import pdb; pdb.set_trace()\n",
    "for e_type in e_types:\n",
    "    model_data = []\n",
    "    with open(data_file, \"r\") as infile:\n",
    "        lines = infile.readlines()[1:]\n",
    "        print(f\"generate {e_type} encodings\")\n",
    "        with tqdm.tqdm(total=len(lines)) as pbar:\n",
    "            for line in lines:\n",
    "                line = line[:-1].split(\",\")\n",
    "                to_encode = [line[0]]\n",
    "                representation = ge.generate_sequence_encodings(e_type, to_encode)\n",
    "                score = float(line[2])\n",
    "                model_data.append((representation[0], score))\n",
    "                pbar.update(1)\n",
    "\n",
    "    with tqdm.tqdm(total=(len(models) * number_examples)) as pbar:\n",
    "        with parallel_backend('threading', n_jobs=12):\n",
    "            for m_type in models:\n",
    "                scores = []\n",
    "                for i in range(number_examples):\n",
    "                    # use random seed\n",
    "                    model = pm.ActivityPredictor(model_type=m_type, data=model_data, x_column_index=0,\n",
    "                                                 y_column_index=1)\n",
    "                    with HiddenPrints():\n",
    "                        with HiddenWarnings():\n",
    "                            model.train(k_folds)\n",
    "                        scores.append(model.get_performance())\n",
    "                    pbar.update()\n",
    "                benchmark_results.update({f'{e_type}_{m_type}': scores})\n",
    "    gc.collect()\n",
    "    torch.cuda.empty_cache()"
   ],
   "outputs": [
    {
     "name": "stdout",
     "output_type": "stream",
     "text": [
      "generate blosum80 encodings\n"
     ]
    },
    {
     "name": "stderr",
     "output_type": "stream",
     "text": [
      "100%|██████████| 566/566 [00:00<00:00, 3399.52it/s]\n",
      "100%|██████████| 50/50 [00:12<00:00,  4.13it/s]\n"
     ]
    }
   ],
   "execution_count": 4
  },
  {
   "cell_type": "code",
   "id": "e7ad35a7f8091be2",
   "metadata": {
    "ExecuteTime": {
     "end_time": "2025-03-07T15:41:39.366524Z",
     "start_time": "2025-03-07T15:41:39.364775Z"
    }
   },
   "source": [
    "out = \"bl_lgbm.csv\"\n",
    "with open(out, \"a\") as outfile:\n",
    "    for key in benchmark_results.keys():\n",
    "        outfile.write(f\"{key} \\t {[(round(float(a), 3), round(float(b), 3)) for a, b in benchmark_results[key]]} \\n\")"
   ],
   "outputs": [],
   "execution_count": 5
  },
  {
   "cell_type": "code",
   "id": "f0936ff744ed9919",
   "metadata": {
    "ExecuteTime": {
     "end_time": "2025-03-07T15:41:39.407732Z",
     "start_time": "2025-03-07T15:41:39.406058Z"
    }
   },
   "source": [
    "print(benchmark_results)"
   ],
   "outputs": [
    {
     "name": "stdout",
     "output_type": "stream",
     "text": [
      "{'blosum80_lightgbm': [(0.7077307951427297, 0.20324797901413832), (0.7630661594384968, 0.17749796562056633), (0.619996204854276, 0.23203646654255153), (0.6933255043936438, 0.20476653232387565), (0.6355294990499714, 0.22513930558842307), (0.7878787153926969, 0.2024945908729646), (0.44662376025271106, 0.2376671378640582), (0.7061913816008868, 0.22115587386804286), (0.5775966248269186, 0.2108062758726385), (0.6034898679624479, 0.24721808389145875), (0.7265857088455923, 0.18237160455144127), (0.7565313710915273, 0.1750722546736129), (0.6409691667027577, 0.19880446625594322), (0.7207077447178498, 0.2213755951072351), (0.6433442067874064, 0.2228394242680954), (0.6929981099179241, 0.23258417391175673), (0.7500297191132963, 0.20601044548402564), (0.7277995445460079, 0.19414788962878185), (0.8133475211149233, 0.18805337656520266), (0.8070705029473938, 0.1899825797231421), (0.6987492020229062, 0.20114078154533957), (0.6881120536783503, 0.189029041607905), (0.6621586453950239, 0.24442147304541498), (0.7713209407323182, 0.1702766127835621), (0.535182457442063, 0.212056110650455), (0.6691885315437073, 0.20475743978206942), (0.6679193500083099, 0.22982998457373688), (0.6437060309309875, 0.250336434369338), (0.763263124561723, 0.18093060497088795), (0.7217409982509532, 0.21462438750699592), (0.8494763663036717, 0.16156970863492134), (0.6046118806512085, 0.2515807745856645), (0.6480973798041793, 0.22398268559452505), (0.6661156427073761, 0.21245780714327983), (0.763909760561121, 0.16904688726207634), (0.6901699637925521, 0.22193866505065102), (0.7975166533923881, 0.15567605813243623), (0.6529294242193798, 0.21238078489478815), (0.6906951106775807, 0.17774206598117678), (0.6329419519216654, 0.23722787123877093), (0.6521984647471413, 0.19367870169136114), (0.7437503718807092, 0.17293199473964876), (0.7793182034504867, 0.16468899078391105), (0.7230489698169561, 0.18893699012383602), (0.6305177555309898, 0.22809735903303602), (0.6794532606400214, 0.2231636325589748), (0.5330798766037574, 0.23051353045333012), (0.8338995470423823, 0.15212869412181168), (0.6499853612738088, 0.20911948119393037), (0.6530690967033104, 0.2127824630269855)]}\n"
     ]
    }
   ],
   "execution_count": 6
  },
  {
   "cell_type": "code",
   "id": "cc7e1fdb83f7b43a",
   "metadata": {
    "ExecuteTime": {
     "end_time": "2025-03-07T15:41:39.450661Z",
     "start_time": "2025-03-07T15:41:39.449234Z"
    }
   },
   "source": [
    "# for key in benchmark_results.keys():\n",
    "#     print(key, [(round(float(a), 3), round(float(b), 3)) for a, b in benchmark_results[key]])"
   ],
   "outputs": [],
   "execution_count": 7
  },
  {
   "cell_type": "code",
   "id": "62fc438017efa051",
   "metadata": {
    "ExecuteTime": {
     "end_time": "2025-03-07T15:41:39.506857Z",
     "start_time": "2025-03-07T15:41:39.505506Z"
    }
   },
   "source": [
    "# esm2_results = benchmark_results\n",
    "# out = \"results_all.csv\"\n",
    "# with open(out, \"w\") as outfile:\n",
    "#     for key in esm2_results.keys():\n",
    "#         outfile.write(f\"{key} \\t {[(round(float(a), 3), round(float(b), 3)) for a, b in benchmark_results[key]]} \\n\")"
   ],
   "outputs": [],
   "execution_count": 8
  },
  {
   "cell_type": "code",
   "id": "5a3addba375b9764",
   "metadata": {
    "ExecuteTime": {
     "end_time": "2025-03-07T15:41:39.550061Z",
     "start_time": "2025-03-07T15:41:39.548677Z"
    }
   },
   "source": [
    "# \"\"\"recovering the Results script :)\"\"\"\n",
    "#\n",
    "# infile = \"Results/results_all.csv\"\n",
    "# results = dict()\n",
    "# with open(infile, \"r\") as infile:\n",
    "#     for line in infile.readlines():\n",
    "#         key = line[:-1].split(\" , \")[0]\n",
    "#         value = line[:-1].split(\" , \")[1]\n",
    "#         value = ast.literal_eval(value)\n",
    "#         results.update({key: value})\n",
    "#\n",
    "# outfile = \"results_all_recovered.csv\"\n",
    "# with open(outfile, \"w\") as outfile:\n",
    "#     for key in results.keys():\n",
    "#         outfile.write(f\"{key} \\t {[(round(float(a), 3), round(float(b), 3)) for a, b in results[key]]} \\n\")"
   ],
   "outputs": [],
   "execution_count": 9
  },
  {
   "cell_type": "code",
   "id": "81b8b69c3a955fca",
   "metadata": {
    "ExecuteTime": {
     "end_time": "2025-03-07T15:41:39.592974Z",
     "start_time": "2025-03-07T15:41:39.591468Z"
    }
   },
   "source": [
    "x = [3.63, 3.02, 3.82, 3.42, 3.59, 2.87, 3.03, 3.46, 3.36, 3.3]\n",
    "y = [53.1, 49.7, 48.4, 54.2, 54.9, 43.7, 47.2, 45.2, 54.4, 50.4]"
   ],
   "outputs": [],
   "execution_count": 10
  },
  {
   "cell_type": "code",
   "id": "b03d959f656d5db0",
   "metadata": {
    "ExecuteTime": {
     "end_time": "2025-03-07T15:41:39.636878Z",
     "start_time": "2025-03-07T15:41:39.634636Z"
    }
   },
   "source": [
    "import numpy as np\n",
    "import math\n",
    "\n",
    "\n",
    "def PearsonCorrelationCoefficient(x_arr, y_arr):\n",
    "    x_arr = np.array(x_arr)\n",
    "    x_av = np.mean(x_arr)\n",
    "    y_arr = np.array(y_arr)\n",
    "    y_av = np.mean(y_arr)\n",
    "    numerator = sum([(x_i - x_av) * (y_i - y_av) for x_i, y_i in zip(x_arr, y_arr)])\n",
    "    denominator = np.sqrt(sum([(x_i - x_av) ** 2 for x_i in x_arr]) * sum([(y_i - y_av) ** 2 for y_i in y_arr]))\n",
    "    if denominator == 0:\n",
    "        r = 1\n",
    "    else:\n",
    "        r = numerator / denominator\n",
    "    return r\n",
    "\n",
    "\n",
    "print(PearsonCorrelationCoefficient(x, y))"
   ],
   "outputs": [
    {
     "name": "stdout",
     "output_type": "stream",
     "text": [
      "0.47017723296840297\n"
     ]
    }
   ],
   "execution_count": 11
  }
 ],
 "metadata": {
  "kernelspec": {
   "display_name": "MAP",
   "language": "python",
   "name": "python3"
  },
  "language_info": {
   "codemirror_mode": {
    "name": "ipython",
    "version": 3
   },
   "file_extension": ".py",
   "mimetype": "text/x-python",
   "name": "python",
   "nbconvert_exporter": "python",
   "pygments_lexer": "ipython3",
   "version": "3.12.9"
  }
 },
 "nbformat": 4,
 "nbformat_minor": 5
}
