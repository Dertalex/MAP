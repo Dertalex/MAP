{
 "cells": [
  {
   "cell_type": "code",
   "id": "initial_id",
   "metadata": {
    "collapsed": true,
    "ExecuteTime": {
     "end_time": "2025-03-31T11:33:00.869947Z",
     "start_time": "2025-03-31T11:32:59.555474Z"
    }
   },
   "source": [
    "import random\n",
    "import src.prediction_models as pm\n",
    "from typing import Literal, Optional\n",
    "import src.generate_encodings as ge\n",
    "import optuna\n",
    "import warnings\n",
    "\n",
    "import os, sys"
   ],
   "outputs": [],
   "execution_count": 1
  },
  {
   "metadata": {
    "ExecuteTime": {
     "end_time": "2025-03-31T11:33:00.874631Z",
     "start_time": "2025-03-31T11:33:00.872454Z"
    }
   },
   "cell_type": "code",
   "source": [
    "class HiddenPrints:\n",
    "    def __enter__(self):\n",
    "        self._original_stdout = sys.stdout\n",
    "        sys.stdout = open(os.devnull, 'w')\n",
    "\n",
    "    def __exit__(self, exc_type, exc_val, exc_tb):\n",
    "        sys.stdout.close()\n",
    "        sys.stdout = self._original_stdout\n",
    "\n",
    "\n",
    "class HiddenWarnings():\n",
    "    def __enter__(self):\n",
    "        # Save the current filter settings before changing them\n",
    "        self._previous_filters = warnings.filters[:]\n",
    "        # Ignore all warnings\n",
    "        warnings.filterwarnings(\"ignore\")\n",
    "\n",
    "    def __exit__(self, exc_type, exc_val, exc_tb):\n",
    "        # Restore the original warning filter settings\n",
    "        warnings.filters = self._previous_filters\n"
   ],
   "id": "689c486d623f961e",
   "outputs": [],
   "execution_count": 2
  },
  {
   "metadata": {
    "ExecuteTime": {
     "end_time": "2025-03-31T11:33:12.636073Z",
     "start_time": "2025-03-31T11:33:00.921846Z"
    }
   },
   "cell_type": "code",
   "source": [
    "\"\"\"Extract Sequence-Embeddings and Scores \"\"\"\n",
    "\n",
    "e_type = \"blosum80\"\n",
    "dataset = \"D7PM05_CLYGR_Somermeyer_2022\"\n",
    "data_set_name_shortened = dataset.split(\"_\")[0]\n",
    "\n",
    "import_data = f\"../Data/Protein_Gym_Datasets/{dataset}.csv\"\n",
    "x_arr = []\n",
    "y_arr = []\n",
    "with open(import_data, \"r\") as infile:\n",
    "    for line in infile.readlines()[1:]:\n",
    "        line = line[:-1].split(\",\")\n",
    "        sequence = line[1]\n",
    "        label = line[2]\n",
    "        x_arr.append(ge.generate_sequence_encodings(e_type, [sequence])[0])\n",
    "        y_arr.append(label)"
   ],
   "id": "48fff39a67af6cf7",
   "outputs": [],
   "execution_count": 3
  },
  {
   "metadata": {
    "ExecuteTime": {
     "end_time": "2025-03-31T11:33:12.641278Z",
     "start_time": "2025-03-31T11:33:12.640066Z"
    }
   },
   "cell_type": "code",
   "source": [
    "# random.shuffle(data)\n",
    "# x_train = [xy[0] for xy in data[:int(len(data) * 0.80)]]\n",
    "# y_train = [xy[1] for xy in data[:int(len(data) * 0.80)]]\n",
    "#\n",
    "# x_val = [xy[0] for xy in data[int(len(data) * 0.80):int(len(data) * 0.90)]]\n",
    "# y_val = [xy[1] for xy in data[int(len(data) * 0.80):int(len(data) * 0.90)]]\n",
    "#\n",
    "# x_test = [xy[0] for xy in data[int(len(data) * 0.90):]]\n",
    "# y_test = [xy[1] for xy in data[int(len(data) * 0.90):]]"
   ],
   "id": "8523c65e694f50fc",
   "outputs": [],
   "execution_count": 4
  },
  {
   "metadata": {
    "ExecuteTime": {
     "end_time": "2025-03-31T11:33:12.682789Z",
     "start_time": "2025-03-31T11:33:12.681403Z"
    }
   },
   "cell_type": "code",
   "source": [
    "# \"\"\"To Do:\n",
    "# Training-Script for XGB (Regressor)\n",
    "# Provide used Hyperparameter via Arguments e.g. sys.argv[]\n",
    "# return and print R2 and RMSE\n",
    "# Command: Python xgboost_train.py <max_depth> <eta> <n_esti> ... --> RMSE = 0.18\n",
    "# NEXT USE OPTUNA for running the script xgboost_train.py:\n",
    "#\n",
    "# \"\"\"\n",
    "#\n",
    "# xgb_hyperCV = {\n",
    "#     \"max_depth\": [4, 5, 6, 7, 8, 9, 10, 11, 12, 13],\n",
    "#     \"eta\": [0.1, 0.2, 0.3, 0.4, 0.5, 0.6],\n",
    "#     \"n_estimators\": [50, 100, 200, 300, 400, 500],\n",
    "#     \"reg_alpha\": [0.0, 0.1, 0.5, 1, 1.5],\n",
    "#     \"reg_lambda\": [0.0, 0.1, 0.5, 1, 1.5],\n",
    "#     # \"min_samples_split\": [2, 3, 4, 5],\n",
    "#     # \"min_samples_leaf\": [1, 2, 3, 4, 5],\n",
    "#     # \"bootstrap\": [False, True]\n",
    "# }"
   ],
   "id": "58187b754169cb08",
   "outputs": [],
   "execution_count": 5
  },
  {
   "metadata": {
    "ExecuteTime": {
     "end_time": "2025-03-31T11:33:12.725047Z",
     "start_time": "2025-03-31T11:33:12.723834Z"
    }
   },
   "cell_type": "code",
   "source": [
    "model = \"lightgbm\"\n",
    "cv_folds = 5\n"
   ],
   "id": "15b2b69280cf9a94",
   "outputs": [],
   "execution_count": 6
  },
  {
   "metadata": {
    "ExecuteTime": {
     "end_time": "2025-03-31T11:33:12.769777Z",
     "start_time": "2025-03-31T11:33:12.767916Z"
    }
   },
   "cell_type": "code",
   "source": [
    "def train_with_params(model: Literal[\"rf\", \"xgboost\", \"gxboost_rf\", \"lightgbm\", \"svr\", \"adaboost\"], x_arr, y_arr,\n",
    "                      params: dict,\n",
    "                      early_stopping: Optional[int] = False, seed: Optional[int] = random.seed()) -> (float, float):\n",
    "    regressor = pm.ActivityPredictor(model_type=model, x_arr=x_arr, y_arr=y_arr, params=params,\n",
    "                                     early_stopping=early_stopping, shuffle_data=False,\n",
    "                                     seed=seed)\n",
    "\n",
    "    with HiddenPrints():\n",
    "        with HiddenWarnings():\n",
    "            regressor.train(k_folds=cv_folds)\n",
    "        performance = regressor.get_performance()\n",
    "    print('------------------------------------------------')\n",
    "    print(f\"R2: {round(performance[0], 4)}, RMSE: {round(performance[1], 4)}\")\n",
    "    return performance\n"
   ],
   "id": "4862465341dc5e2a",
   "outputs": [],
   "execution_count": 7
  },
  {
   "metadata": {
    "ExecuteTime": {
     "end_time": "2025-03-31T11:33:12.813962Z",
     "start_time": "2025-03-31T11:33:12.812Z"
    }
   },
   "cell_type": "code",
   "source": [
    "def objective(trial: optuna.Trial) -> (float, float):\n",
    "    params = dict()\n",
    "    seed = 42\n",
    "    params['max_depth'] = trial.suggest_int('max_depth', 3, 30)\n",
    "    params['min_child_weight'] = trial.suggest_float('min_child_weight', 0.01, 10)\n",
    "    params['subsample'] = trial.suggest_float('subsample', 0.2, 1)\n",
    "    params['colsample_bytree'] = trial.suggest_float('colsample_bytree', 0.2, 0.9)\n",
    "    params['eta'] = trial.suggest_float('eta', 0, 0.3)\n",
    "    # params['num_boost_round'] = trial.suggest_int('num_boost_round', 100, 1000)\n",
    "\n",
    "    try:\n",
    "        early_stopping = int(params['num_boost_round'] / 10)\n",
    "    except KeyError:\n",
    "        early_stopping = 10\n",
    "\n",
    "    results = train_with_params(model, x_arr, y_arr, params, early_stopping=early_stopping, seed=seed)\n",
    "    r2 = round(results[0], 4)\n",
    "    rmse = round(results[1], 4)\n",
    "\n",
    "    return r2, rmse\n",
    "\n"
   ],
   "id": "c2b9a799c5113064",
   "outputs": [],
   "execution_count": 8
  },
  {
   "metadata": {
    "ExecuteTime": {
     "end_time": "2025-03-31T12:13:36.484835Z",
     "start_time": "2025-03-31T11:33:12.858348Z"
    }
   },
   "cell_type": "code",
   "source": [
    "n_studies = 5\n",
    "n_trials = 100\n",
    "direction = [\"maximize\", \"minimize\"]\n",
    "\n",
    "studies_name = f\"{data_set_name_shortened}_{model}_{e_type}\"\n",
    "overall_best_trials = []\n",
    "for i in range(n_studies):\n",
    "    study_name = f\"{studies_name}_{i}\"\n",
    "    run_id = f\"{i}\"\n",
    "\n",
    "    study = optuna.create_study(directions=[\"maximize\", \"minimize\"], study_name=study_name)\n",
    "\n",
    "    with HiddenPrints():\n",
    "        study.optimize(objective, n_trials=n_trials, show_progress_bar=True)\n",
    "    print('------------------------------------------------')\n",
    "    for b_trial in study.best_trials:\n",
    "        overall_best_trials.append((b_trial, run_id))\n",
    "        print(\n",
    "            f\"{study_name}, Best hyperparameters for run {i}:, Best Trial: {b_trial.number}, Best Score: {b_trial.values}, \"\n",
    "            f\"Best Params{b_trial.params}\")\n",
    "\n",
    "    outpath = \"../Models/Hypertuned/\"\n",
    "    if not os.path.exists(outpath):\n",
    "        os.makedirs(outpath)\n",
    "    outfile = study_name + run_id + \".txt\"\n",
    "\n",
    "    with open(os.path.join(outpath, outfile), \"w\") as out:\n",
    "        out.write(f\"Study-ID: {i}_{model}_{e_type}_{dataset}\\n\")\n",
    "        out.write(\"\\n\")\n",
    "        for j, b_trial in enumerate(study.best_trials):\n",
    "\n",
    "            out.write(\n",
    "                f\"Study {j}, Best hyperparameters for run {run_id}:\\nBest Trial: {b_trial.number}\\nBest Score: {b_trial.values}\\n\"\n",
    "                f\"Best Params: {b_trial.params} \\n\")\n",
    "            if j < len(study.best_trials)-1:\n",
    "                out.write(\"---\\n\")\n",
    "\n",
    "        out.write(\"\\n\")\n",
    "        for trial in study.trials:\n",
    "            out.write('------------------------------------------------\\n')\n",
    "            out.write(f\"Study {trial.number}\\nScores: {trial.values}\\n\")\n",
    "            out.write(f\"Parameters: {trial.params}\\n\")\n",
    "\n"
   ],
   "id": "cd0d4e5b440a74e4",
   "outputs": [
    {
     "name": "stderr",
     "output_type": "stream",
     "text": [
      "[I 2025-03-31 13:33:12,860] A new study created in memory with name: D7PM05_lightgbm_blosum80_0\n"
     ]
    },
    {
     "data": {
      "text/plain": [
       "  0%|          | 0/100 [00:00<?, ?it/s]"
      ],
      "application/vnd.jupyter.widget-view+json": {
       "version_major": 2,
       "version_minor": 0,
       "model_id": "c286573018904732a4ae88d16d285459"
      }
     },
     "metadata": {},
     "output_type": "display_data"
    },
    {
     "ename": "KeyboardInterrupt",
     "evalue": "",
     "output_type": "error",
     "traceback": [
      "\u001B[0;31m---------------------------------------------------------------------------\u001B[0m",
      "\u001B[0;31mKeyboardInterrupt\u001B[0m                         Traceback (most recent call last)",
      "Cell \u001B[0;32mIn[9], line 14\u001B[0m\n\u001B[1;32m     11\u001B[0m study \u001B[38;5;241m=\u001B[39m optuna\u001B[38;5;241m.\u001B[39mcreate_study(directions\u001B[38;5;241m=\u001B[39m[\u001B[38;5;124m\"\u001B[39m\u001B[38;5;124mmaximize\u001B[39m\u001B[38;5;124m\"\u001B[39m, \u001B[38;5;124m\"\u001B[39m\u001B[38;5;124mminimize\u001B[39m\u001B[38;5;124m\"\u001B[39m], study_name\u001B[38;5;241m=\u001B[39mstudy_name)\n\u001B[1;32m     13\u001B[0m \u001B[38;5;28;01mwith\u001B[39;00m HiddenPrints():\n\u001B[0;32m---> 14\u001B[0m     \u001B[43mstudy\u001B[49m\u001B[38;5;241;43m.\u001B[39;49m\u001B[43moptimize\u001B[49m\u001B[43m(\u001B[49m\u001B[43mobjective\u001B[49m\u001B[43m,\u001B[49m\u001B[43m \u001B[49m\u001B[43mn_trials\u001B[49m\u001B[38;5;241;43m=\u001B[39;49m\u001B[43mn_trials\u001B[49m\u001B[43m,\u001B[49m\u001B[43m \u001B[49m\u001B[43mshow_progress_bar\u001B[49m\u001B[38;5;241;43m=\u001B[39;49m\u001B[38;5;28;43;01mTrue\u001B[39;49;00m\u001B[43m)\u001B[49m\n\u001B[1;32m     15\u001B[0m \u001B[38;5;28mprint\u001B[39m(\u001B[38;5;124m'\u001B[39m\u001B[38;5;124m------------------------------------------------\u001B[39m\u001B[38;5;124m'\u001B[39m)\n\u001B[1;32m     16\u001B[0m \u001B[38;5;28;01mfor\u001B[39;00m b_trial \u001B[38;5;129;01min\u001B[39;00m study\u001B[38;5;241m.\u001B[39mbest_trials:\n",
      "File \u001B[0;32m/opt/conda/conda/envs/MAP/lib/python3.12/site-packages/optuna/study/study.py:475\u001B[0m, in \u001B[0;36mStudy.optimize\u001B[0;34m(self, func, n_trials, timeout, n_jobs, catch, callbacks, gc_after_trial, show_progress_bar)\u001B[0m\n\u001B[1;32m    373\u001B[0m \u001B[38;5;28;01mdef\u001B[39;00m\u001B[38;5;250m \u001B[39m\u001B[38;5;21moptimize\u001B[39m(\n\u001B[1;32m    374\u001B[0m     \u001B[38;5;28mself\u001B[39m,\n\u001B[1;32m    375\u001B[0m     func: ObjectiveFuncType,\n\u001B[0;32m   (...)\u001B[0m\n\u001B[1;32m    382\u001B[0m     show_progress_bar: \u001B[38;5;28mbool\u001B[39m \u001B[38;5;241m=\u001B[39m \u001B[38;5;28;01mFalse\u001B[39;00m,\n\u001B[1;32m    383\u001B[0m ) \u001B[38;5;241m-\u001B[39m\u001B[38;5;241m>\u001B[39m \u001B[38;5;28;01mNone\u001B[39;00m:\n\u001B[1;32m    384\u001B[0m \u001B[38;5;250m    \u001B[39m\u001B[38;5;124;03m\"\"\"Optimize an objective function.\u001B[39;00m\n\u001B[1;32m    385\u001B[0m \n\u001B[1;32m    386\u001B[0m \u001B[38;5;124;03m    Optimization is done by choosing a suitable set of hyperparameter values from a given\u001B[39;00m\n\u001B[0;32m   (...)\u001B[0m\n\u001B[1;32m    473\u001B[0m \u001B[38;5;124;03m            If nested invocation of this method occurs.\u001B[39;00m\n\u001B[1;32m    474\u001B[0m \u001B[38;5;124;03m    \"\"\"\u001B[39;00m\n\u001B[0;32m--> 475\u001B[0m     \u001B[43m_optimize\u001B[49m\u001B[43m(\u001B[49m\n\u001B[1;32m    476\u001B[0m \u001B[43m        \u001B[49m\u001B[43mstudy\u001B[49m\u001B[38;5;241;43m=\u001B[39;49m\u001B[38;5;28;43mself\u001B[39;49m\u001B[43m,\u001B[49m\n\u001B[1;32m    477\u001B[0m \u001B[43m        \u001B[49m\u001B[43mfunc\u001B[49m\u001B[38;5;241;43m=\u001B[39;49m\u001B[43mfunc\u001B[49m\u001B[43m,\u001B[49m\n\u001B[1;32m    478\u001B[0m \u001B[43m        \u001B[49m\u001B[43mn_trials\u001B[49m\u001B[38;5;241;43m=\u001B[39;49m\u001B[43mn_trials\u001B[49m\u001B[43m,\u001B[49m\n\u001B[1;32m    479\u001B[0m \u001B[43m        \u001B[49m\u001B[43mtimeout\u001B[49m\u001B[38;5;241;43m=\u001B[39;49m\u001B[43mtimeout\u001B[49m\u001B[43m,\u001B[49m\n\u001B[1;32m    480\u001B[0m \u001B[43m        \u001B[49m\u001B[43mn_jobs\u001B[49m\u001B[38;5;241;43m=\u001B[39;49m\u001B[43mn_jobs\u001B[49m\u001B[43m,\u001B[49m\n\u001B[1;32m    481\u001B[0m \u001B[43m        \u001B[49m\u001B[43mcatch\u001B[49m\u001B[38;5;241;43m=\u001B[39;49m\u001B[38;5;28;43mtuple\u001B[39;49m\u001B[43m(\u001B[49m\u001B[43mcatch\u001B[49m\u001B[43m)\u001B[49m\u001B[43m \u001B[49m\u001B[38;5;28;43;01mif\u001B[39;49;00m\u001B[43m \u001B[49m\u001B[38;5;28;43misinstance\u001B[39;49m\u001B[43m(\u001B[49m\u001B[43mcatch\u001B[49m\u001B[43m,\u001B[49m\u001B[43m \u001B[49m\u001B[43mIterable\u001B[49m\u001B[43m)\u001B[49m\u001B[43m \u001B[49m\u001B[38;5;28;43;01melse\u001B[39;49;00m\u001B[43m \u001B[49m\u001B[43m(\u001B[49m\u001B[43mcatch\u001B[49m\u001B[43m,\u001B[49m\u001B[43m)\u001B[49m\u001B[43m,\u001B[49m\n\u001B[1;32m    482\u001B[0m \u001B[43m        \u001B[49m\u001B[43mcallbacks\u001B[49m\u001B[38;5;241;43m=\u001B[39;49m\u001B[43mcallbacks\u001B[49m\u001B[43m,\u001B[49m\n\u001B[1;32m    483\u001B[0m \u001B[43m        \u001B[49m\u001B[43mgc_after_trial\u001B[49m\u001B[38;5;241;43m=\u001B[39;49m\u001B[43mgc_after_trial\u001B[49m\u001B[43m,\u001B[49m\n\u001B[1;32m    484\u001B[0m \u001B[43m        \u001B[49m\u001B[43mshow_progress_bar\u001B[49m\u001B[38;5;241;43m=\u001B[39;49m\u001B[43mshow_progress_bar\u001B[49m\u001B[43m,\u001B[49m\n\u001B[1;32m    485\u001B[0m \u001B[43m    \u001B[49m\u001B[43m)\u001B[49m\n",
      "File \u001B[0;32m/opt/conda/conda/envs/MAP/lib/python3.12/site-packages/optuna/study/_optimize.py:63\u001B[0m, in \u001B[0;36m_optimize\u001B[0;34m(study, func, n_trials, timeout, n_jobs, catch, callbacks, gc_after_trial, show_progress_bar)\u001B[0m\n\u001B[1;32m     61\u001B[0m \u001B[38;5;28;01mtry\u001B[39;00m:\n\u001B[1;32m     62\u001B[0m     \u001B[38;5;28;01mif\u001B[39;00m n_jobs \u001B[38;5;241m==\u001B[39m \u001B[38;5;241m1\u001B[39m:\n\u001B[0;32m---> 63\u001B[0m         \u001B[43m_optimize_sequential\u001B[49m\u001B[43m(\u001B[49m\n\u001B[1;32m     64\u001B[0m \u001B[43m            \u001B[49m\u001B[43mstudy\u001B[49m\u001B[43m,\u001B[49m\n\u001B[1;32m     65\u001B[0m \u001B[43m            \u001B[49m\u001B[43mfunc\u001B[49m\u001B[43m,\u001B[49m\n\u001B[1;32m     66\u001B[0m \u001B[43m            \u001B[49m\u001B[43mn_trials\u001B[49m\u001B[43m,\u001B[49m\n\u001B[1;32m     67\u001B[0m \u001B[43m            \u001B[49m\u001B[43mtimeout\u001B[49m\u001B[43m,\u001B[49m\n\u001B[1;32m     68\u001B[0m \u001B[43m            \u001B[49m\u001B[43mcatch\u001B[49m\u001B[43m,\u001B[49m\n\u001B[1;32m     69\u001B[0m \u001B[43m            \u001B[49m\u001B[43mcallbacks\u001B[49m\u001B[43m,\u001B[49m\n\u001B[1;32m     70\u001B[0m \u001B[43m            \u001B[49m\u001B[43mgc_after_trial\u001B[49m\u001B[43m,\u001B[49m\n\u001B[1;32m     71\u001B[0m \u001B[43m            \u001B[49m\u001B[43mreseed_sampler_rng\u001B[49m\u001B[38;5;241;43m=\u001B[39;49m\u001B[38;5;28;43;01mFalse\u001B[39;49;00m\u001B[43m,\u001B[49m\n\u001B[1;32m     72\u001B[0m \u001B[43m            \u001B[49m\u001B[43mtime_start\u001B[49m\u001B[38;5;241;43m=\u001B[39;49m\u001B[38;5;28;43;01mNone\u001B[39;49;00m\u001B[43m,\u001B[49m\n\u001B[1;32m     73\u001B[0m \u001B[43m            \u001B[49m\u001B[43mprogress_bar\u001B[49m\u001B[38;5;241;43m=\u001B[39;49m\u001B[43mprogress_bar\u001B[49m\u001B[43m,\u001B[49m\n\u001B[1;32m     74\u001B[0m \u001B[43m        \u001B[49m\u001B[43m)\u001B[49m\n\u001B[1;32m     75\u001B[0m     \u001B[38;5;28;01melse\u001B[39;00m:\n\u001B[1;32m     76\u001B[0m         \u001B[38;5;28;01mif\u001B[39;00m n_jobs \u001B[38;5;241m==\u001B[39m \u001B[38;5;241m-\u001B[39m\u001B[38;5;241m1\u001B[39m:\n",
      "File \u001B[0;32m/opt/conda/conda/envs/MAP/lib/python3.12/site-packages/optuna/study/_optimize.py:160\u001B[0m, in \u001B[0;36m_optimize_sequential\u001B[0;34m(study, func, n_trials, timeout, catch, callbacks, gc_after_trial, reseed_sampler_rng, time_start, progress_bar)\u001B[0m\n\u001B[1;32m    157\u001B[0m         \u001B[38;5;28;01mbreak\u001B[39;00m\n\u001B[1;32m    159\u001B[0m \u001B[38;5;28;01mtry\u001B[39;00m:\n\u001B[0;32m--> 160\u001B[0m     frozen_trial \u001B[38;5;241m=\u001B[39m \u001B[43m_run_trial\u001B[49m\u001B[43m(\u001B[49m\u001B[43mstudy\u001B[49m\u001B[43m,\u001B[49m\u001B[43m \u001B[49m\u001B[43mfunc\u001B[49m\u001B[43m,\u001B[49m\u001B[43m \u001B[49m\u001B[43mcatch\u001B[49m\u001B[43m)\u001B[49m\n\u001B[1;32m    161\u001B[0m \u001B[38;5;28;01mfinally\u001B[39;00m:\n\u001B[1;32m    162\u001B[0m     \u001B[38;5;66;03m# The following line mitigates memory problems that can be occurred in some\u001B[39;00m\n\u001B[1;32m    163\u001B[0m     \u001B[38;5;66;03m# environments (e.g., services that use computing containers such as GitHub Actions).\u001B[39;00m\n\u001B[1;32m    164\u001B[0m     \u001B[38;5;66;03m# Please refer to the following PR for further details:\u001B[39;00m\n\u001B[1;32m    165\u001B[0m     \u001B[38;5;66;03m# https://github.com/optuna/optuna/pull/325.\u001B[39;00m\n\u001B[1;32m    166\u001B[0m     \u001B[38;5;28;01mif\u001B[39;00m gc_after_trial:\n",
      "File \u001B[0;32m/opt/conda/conda/envs/MAP/lib/python3.12/site-packages/optuna/study/_optimize.py:248\u001B[0m, in \u001B[0;36m_run_trial\u001B[0;34m(study, func, catch)\u001B[0m\n\u001B[1;32m    241\u001B[0m         \u001B[38;5;28;01massert\u001B[39;00m \u001B[38;5;28;01mFalse\u001B[39;00m, \u001B[38;5;124m\"\u001B[39m\u001B[38;5;124mShould not reach.\u001B[39m\u001B[38;5;124m\"\u001B[39m\n\u001B[1;32m    243\u001B[0m \u001B[38;5;28;01mif\u001B[39;00m (\n\u001B[1;32m    244\u001B[0m     frozen_trial\u001B[38;5;241m.\u001B[39mstate \u001B[38;5;241m==\u001B[39m TrialState\u001B[38;5;241m.\u001B[39mFAIL\n\u001B[1;32m    245\u001B[0m     \u001B[38;5;129;01mand\u001B[39;00m func_err \u001B[38;5;129;01mis\u001B[39;00m \u001B[38;5;129;01mnot\u001B[39;00m \u001B[38;5;28;01mNone\u001B[39;00m\n\u001B[1;32m    246\u001B[0m     \u001B[38;5;129;01mand\u001B[39;00m \u001B[38;5;129;01mnot\u001B[39;00m \u001B[38;5;28misinstance\u001B[39m(func_err, catch)\n\u001B[1;32m    247\u001B[0m ):\n\u001B[0;32m--> 248\u001B[0m     \u001B[38;5;28;01mraise\u001B[39;00m func_err\n\u001B[1;32m    249\u001B[0m \u001B[38;5;28;01mreturn\u001B[39;00m frozen_trial\n",
      "File \u001B[0;32m/opt/conda/conda/envs/MAP/lib/python3.12/site-packages/optuna/study/_optimize.py:197\u001B[0m, in \u001B[0;36m_run_trial\u001B[0;34m(study, func, catch)\u001B[0m\n\u001B[1;32m    195\u001B[0m \u001B[38;5;28;01mwith\u001B[39;00m get_heartbeat_thread(trial\u001B[38;5;241m.\u001B[39m_trial_id, study\u001B[38;5;241m.\u001B[39m_storage):\n\u001B[1;32m    196\u001B[0m     \u001B[38;5;28;01mtry\u001B[39;00m:\n\u001B[0;32m--> 197\u001B[0m         value_or_values \u001B[38;5;241m=\u001B[39m \u001B[43mfunc\u001B[49m\u001B[43m(\u001B[49m\u001B[43mtrial\u001B[49m\u001B[43m)\u001B[49m\n\u001B[1;32m    198\u001B[0m     \u001B[38;5;28;01mexcept\u001B[39;00m exceptions\u001B[38;5;241m.\u001B[39mTrialPruned \u001B[38;5;28;01mas\u001B[39;00m e:\n\u001B[1;32m    199\u001B[0m         \u001B[38;5;66;03m# TODO(mamu): Handle multi-objective cases.\u001B[39;00m\n\u001B[1;32m    200\u001B[0m         state \u001B[38;5;241m=\u001B[39m TrialState\u001B[38;5;241m.\u001B[39mPRUNED\n",
      "Cell \u001B[0;32mIn[8], line 16\u001B[0m, in \u001B[0;36mobjective\u001B[0;34m(trial)\u001B[0m\n\u001B[1;32m     13\u001B[0m \u001B[38;5;28;01mexcept\u001B[39;00m \u001B[38;5;167;01mKeyError\u001B[39;00m:\n\u001B[1;32m     14\u001B[0m     early_stopping \u001B[38;5;241m=\u001B[39m \u001B[38;5;241m10\u001B[39m\n\u001B[0;32m---> 16\u001B[0m results \u001B[38;5;241m=\u001B[39m \u001B[43mtrain_with_params\u001B[49m\u001B[43m(\u001B[49m\u001B[43mmodel\u001B[49m\u001B[43m,\u001B[49m\u001B[43m \u001B[49m\u001B[43mx_arr\u001B[49m\u001B[43m,\u001B[49m\u001B[43m \u001B[49m\u001B[43my_arr\u001B[49m\u001B[43m,\u001B[49m\u001B[43m \u001B[49m\u001B[43mparams\u001B[49m\u001B[43m,\u001B[49m\u001B[43m \u001B[49m\u001B[43mearly_stopping\u001B[49m\u001B[38;5;241;43m=\u001B[39;49m\u001B[43mearly_stopping\u001B[49m\u001B[43m,\u001B[49m\u001B[43m \u001B[49m\u001B[43mseed\u001B[49m\u001B[38;5;241;43m=\u001B[39;49m\u001B[43mseed\u001B[49m\u001B[43m)\u001B[49m\n\u001B[1;32m     17\u001B[0m r2 \u001B[38;5;241m=\u001B[39m \u001B[38;5;28mround\u001B[39m(results[\u001B[38;5;241m0\u001B[39m], \u001B[38;5;241m4\u001B[39m)\n\u001B[1;32m     18\u001B[0m rmse \u001B[38;5;241m=\u001B[39m \u001B[38;5;28mround\u001B[39m(results[\u001B[38;5;241m1\u001B[39m], \u001B[38;5;241m4\u001B[39m)\n",
      "Cell \u001B[0;32mIn[7], line 10\u001B[0m, in \u001B[0;36mtrain_with_params\u001B[0;34m(model, x_arr, y_arr, params, early_stopping, seed)\u001B[0m\n\u001B[1;32m      8\u001B[0m \u001B[38;5;28;01mwith\u001B[39;00m HiddenPrints():\n\u001B[1;32m      9\u001B[0m     \u001B[38;5;28;01mwith\u001B[39;00m HiddenWarnings():\n\u001B[0;32m---> 10\u001B[0m         \u001B[43mregressor\u001B[49m\u001B[38;5;241;43m.\u001B[39;49m\u001B[43mtrain\u001B[49m\u001B[43m(\u001B[49m\u001B[43mk_folds\u001B[49m\u001B[38;5;241;43m=\u001B[39;49m\u001B[43mcv_folds\u001B[49m\u001B[43m)\u001B[49m\n\u001B[1;32m     11\u001B[0m     performance \u001B[38;5;241m=\u001B[39m regressor\u001B[38;5;241m.\u001B[39mget_performance()\n\u001B[1;32m     12\u001B[0m \u001B[38;5;28mprint\u001B[39m(\u001B[38;5;124m'\u001B[39m\u001B[38;5;124m------------------------------------------------\u001B[39m\u001B[38;5;124m'\u001B[39m)\n",
      "File \u001B[0;32m~/Documents/Enzyme_Activity_Prediction/02_Playground/MAP/Code/src/prediction_models.py:154\u001B[0m, in \u001B[0;36mActivityPredictor.train\u001B[0;34m(self, k_folds)\u001B[0m\n\u001B[1;32m    151\u001B[0m     \u001B[38;5;28mself\u001B[39m\u001B[38;5;241m.\u001B[39m_model\u001B[38;5;241m.\u001B[39mfit(x_train_fold, y_train_fold, eval_set\u001B[38;5;241m=\u001B[39m[(x_test_fold, y_test_fold)])\n\u001B[1;32m    153\u001B[0m \u001B[38;5;28;01melif\u001B[39;00m \u001B[38;5;28mself\u001B[39m\u001B[38;5;241m.\u001B[39m_model_type \u001B[38;5;241m==\u001B[39m \u001B[38;5;124m\"\u001B[39m\u001B[38;5;124mlightgbm\u001B[39m\u001B[38;5;124m\"\u001B[39m \u001B[38;5;129;01mand\u001B[39;00m \u001B[38;5;28mself\u001B[39m\u001B[38;5;241m.\u001B[39m_early_stopping:\n\u001B[0;32m--> 154\u001B[0m     \u001B[38;5;28;43mself\u001B[39;49m\u001B[38;5;241;43m.\u001B[39;49m\u001B[43m_model\u001B[49m\u001B[38;5;241;43m.\u001B[39;49m\u001B[43mfit\u001B[49m\u001B[43m(\u001B[49m\u001B[43mx_train_fold\u001B[49m\u001B[43m,\u001B[49m\u001B[43m \u001B[49m\u001B[43my_train_fold\u001B[49m\u001B[43m,\u001B[49m\u001B[43m \u001B[49m\u001B[43meval_set\u001B[49m\u001B[38;5;241;43m=\u001B[39;49m\u001B[43m[\u001B[49m\u001B[43m(\u001B[49m\u001B[43mx_test_fold\u001B[49m\u001B[43m,\u001B[49m\u001B[43m \u001B[49m\u001B[43my_test_fold\u001B[49m\u001B[43m)\u001B[49m\u001B[43m]\u001B[49m\u001B[43m,\u001B[49m\n\u001B[1;32m    155\u001B[0m \u001B[43m                    \u001B[49m\u001B[43meval_metric\u001B[49m\u001B[38;5;241;43m=\u001B[39;49m\u001B[38;5;124;43m\"\u001B[39;49m\u001B[38;5;124;43ml1\u001B[39;49m\u001B[38;5;124;43m\"\u001B[39;49m\u001B[43m,\u001B[49m\n\u001B[1;32m    156\u001B[0m \u001B[43m                    \u001B[49m\u001B[43mcallbacks\u001B[49m\u001B[38;5;241;43m=\u001B[39;49m\u001B[43m[\u001B[49m\u001B[43mlgb\u001B[49m\u001B[38;5;241;43m.\u001B[39;49m\u001B[43mearly_stopping\u001B[49m\u001B[43m(\u001B[49m\u001B[43mstopping_rounds\u001B[49m\u001B[38;5;241;43m=\u001B[39;49m\u001B[38;5;241;43m5\u001B[39;49m\u001B[43m)\u001B[49m\u001B[43m]\u001B[49m\u001B[43m)\u001B[49m\n\u001B[1;32m    158\u001B[0m \u001B[38;5;28;01melse\u001B[39;00m:\n\u001B[1;32m    159\u001B[0m     \u001B[38;5;28;01mwith\u001B[39;00m parallel_backend(\u001B[38;5;124m\"\u001B[39m\u001B[38;5;124mthreading\u001B[39m\u001B[38;5;124m\"\u001B[39m, n_jobs\u001B[38;5;241m=\u001B[39mos\u001B[38;5;241m.\u001B[39mcpu_count() \u001B[38;5;241m-\u001B[39m \u001B[38;5;241m3\u001B[39m):\n",
      "File \u001B[0;32m/opt/conda/conda/envs/MAP/lib/python3.12/site-packages/lightgbm/sklearn.py:1398\u001B[0m, in \u001B[0;36mLGBMRegressor.fit\u001B[0;34m(self, X, y, sample_weight, init_score, eval_set, eval_names, eval_sample_weight, eval_init_score, eval_metric, feature_name, categorical_feature, callbacks, init_model)\u001B[0m\n\u001B[1;32m   1381\u001B[0m \u001B[38;5;28;01mdef\u001B[39;00m\u001B[38;5;250m \u001B[39m\u001B[38;5;21mfit\u001B[39m(  \u001B[38;5;66;03m# type: ignore[override]\u001B[39;00m\n\u001B[1;32m   1382\u001B[0m     \u001B[38;5;28mself\u001B[39m,\n\u001B[1;32m   1383\u001B[0m     X: _LGBM_ScikitMatrixLike,\n\u001B[0;32m   (...)\u001B[0m\n\u001B[1;32m   1395\u001B[0m     init_model: Optional[Union[\u001B[38;5;28mstr\u001B[39m, Path, Booster, LGBMModel]] \u001B[38;5;241m=\u001B[39m \u001B[38;5;28;01mNone\u001B[39;00m,\n\u001B[1;32m   1396\u001B[0m ) \u001B[38;5;241m-\u001B[39m\u001B[38;5;241m>\u001B[39m \u001B[38;5;124m\"\u001B[39m\u001B[38;5;124mLGBMRegressor\u001B[39m\u001B[38;5;124m\"\u001B[39m:\n\u001B[1;32m   1397\u001B[0m \u001B[38;5;250m    \u001B[39m\u001B[38;5;124;03m\"\"\"Docstring is inherited from the LGBMModel.\"\"\"\u001B[39;00m\n\u001B[0;32m-> 1398\u001B[0m     \u001B[38;5;28;43msuper\u001B[39;49m\u001B[43m(\u001B[49m\u001B[43m)\u001B[49m\u001B[38;5;241;43m.\u001B[39;49m\u001B[43mfit\u001B[49m\u001B[43m(\u001B[49m\n\u001B[1;32m   1399\u001B[0m \u001B[43m        \u001B[49m\u001B[43mX\u001B[49m\u001B[43m,\u001B[49m\n\u001B[1;32m   1400\u001B[0m \u001B[43m        \u001B[49m\u001B[43my\u001B[49m\u001B[43m,\u001B[49m\n\u001B[1;32m   1401\u001B[0m \u001B[43m        \u001B[49m\u001B[43msample_weight\u001B[49m\u001B[38;5;241;43m=\u001B[39;49m\u001B[43msample_weight\u001B[49m\u001B[43m,\u001B[49m\n\u001B[1;32m   1402\u001B[0m \u001B[43m        \u001B[49m\u001B[43minit_score\u001B[49m\u001B[38;5;241;43m=\u001B[39;49m\u001B[43minit_score\u001B[49m\u001B[43m,\u001B[49m\n\u001B[1;32m   1403\u001B[0m \u001B[43m        \u001B[49m\u001B[43meval_set\u001B[49m\u001B[38;5;241;43m=\u001B[39;49m\u001B[43meval_set\u001B[49m\u001B[43m,\u001B[49m\n\u001B[1;32m   1404\u001B[0m \u001B[43m        \u001B[49m\u001B[43meval_names\u001B[49m\u001B[38;5;241;43m=\u001B[39;49m\u001B[43meval_names\u001B[49m\u001B[43m,\u001B[49m\n\u001B[1;32m   1405\u001B[0m \u001B[43m        \u001B[49m\u001B[43meval_sample_weight\u001B[49m\u001B[38;5;241;43m=\u001B[39;49m\u001B[43meval_sample_weight\u001B[49m\u001B[43m,\u001B[49m\n\u001B[1;32m   1406\u001B[0m \u001B[43m        \u001B[49m\u001B[43meval_init_score\u001B[49m\u001B[38;5;241;43m=\u001B[39;49m\u001B[43meval_init_score\u001B[49m\u001B[43m,\u001B[49m\n\u001B[1;32m   1407\u001B[0m \u001B[43m        \u001B[49m\u001B[43meval_metric\u001B[49m\u001B[38;5;241;43m=\u001B[39;49m\u001B[43meval_metric\u001B[49m\u001B[43m,\u001B[49m\n\u001B[1;32m   1408\u001B[0m \u001B[43m        \u001B[49m\u001B[43mfeature_name\u001B[49m\u001B[38;5;241;43m=\u001B[39;49m\u001B[43mfeature_name\u001B[49m\u001B[43m,\u001B[49m\n\u001B[1;32m   1409\u001B[0m \u001B[43m        \u001B[49m\u001B[43mcategorical_feature\u001B[49m\u001B[38;5;241;43m=\u001B[39;49m\u001B[43mcategorical_feature\u001B[49m\u001B[43m,\u001B[49m\n\u001B[1;32m   1410\u001B[0m \u001B[43m        \u001B[49m\u001B[43mcallbacks\u001B[49m\u001B[38;5;241;43m=\u001B[39;49m\u001B[43mcallbacks\u001B[49m\u001B[43m,\u001B[49m\n\u001B[1;32m   1411\u001B[0m \u001B[43m        \u001B[49m\u001B[43minit_model\u001B[49m\u001B[38;5;241;43m=\u001B[39;49m\u001B[43minit_model\u001B[49m\u001B[43m,\u001B[49m\n\u001B[1;32m   1412\u001B[0m \u001B[43m    \u001B[49m\u001B[43m)\u001B[49m\n\u001B[1;32m   1413\u001B[0m     \u001B[38;5;28;01mreturn\u001B[39;00m \u001B[38;5;28mself\u001B[39m\n",
      "File \u001B[0;32m/opt/conda/conda/envs/MAP/lib/python3.12/site-packages/lightgbm/sklearn.py:1049\u001B[0m, in \u001B[0;36mLGBMModel.fit\u001B[0;34m(self, X, y, sample_weight, init_score, group, eval_set, eval_names, eval_sample_weight, eval_class_weight, eval_init_score, eval_group, eval_metric, feature_name, categorical_feature, callbacks, init_model)\u001B[0m\n\u001B[1;32m   1046\u001B[0m evals_result: _EvalResultDict \u001B[38;5;241m=\u001B[39m {}\n\u001B[1;32m   1047\u001B[0m callbacks\u001B[38;5;241m.\u001B[39mappend(record_evaluation(evals_result))\n\u001B[0;32m-> 1049\u001B[0m \u001B[38;5;28mself\u001B[39m\u001B[38;5;241m.\u001B[39m_Booster \u001B[38;5;241m=\u001B[39m \u001B[43mtrain\u001B[49m\u001B[43m(\u001B[49m\n\u001B[1;32m   1050\u001B[0m \u001B[43m    \u001B[49m\u001B[43mparams\u001B[49m\u001B[38;5;241;43m=\u001B[39;49m\u001B[43mparams\u001B[49m\u001B[43m,\u001B[49m\n\u001B[1;32m   1051\u001B[0m \u001B[43m    \u001B[49m\u001B[43mtrain_set\u001B[49m\u001B[38;5;241;43m=\u001B[39;49m\u001B[43mtrain_set\u001B[49m\u001B[43m,\u001B[49m\n\u001B[1;32m   1052\u001B[0m \u001B[43m    \u001B[49m\u001B[43mnum_boost_round\u001B[49m\u001B[38;5;241;43m=\u001B[39;49m\u001B[38;5;28;43mself\u001B[39;49m\u001B[38;5;241;43m.\u001B[39;49m\u001B[43mn_estimators\u001B[49m\u001B[43m,\u001B[49m\n\u001B[1;32m   1053\u001B[0m \u001B[43m    \u001B[49m\u001B[43mvalid_sets\u001B[49m\u001B[38;5;241;43m=\u001B[39;49m\u001B[43mvalid_sets\u001B[49m\u001B[43m,\u001B[49m\n\u001B[1;32m   1054\u001B[0m \u001B[43m    \u001B[49m\u001B[43mvalid_names\u001B[49m\u001B[38;5;241;43m=\u001B[39;49m\u001B[43meval_names\u001B[49m\u001B[43m,\u001B[49m\n\u001B[1;32m   1055\u001B[0m \u001B[43m    \u001B[49m\u001B[43mfeval\u001B[49m\u001B[38;5;241;43m=\u001B[39;49m\u001B[43meval_metrics_callable\u001B[49m\u001B[43m,\u001B[49m\u001B[43m  \u001B[49m\u001B[38;5;66;43;03m# type: ignore[arg-type]\u001B[39;49;00m\n\u001B[1;32m   1056\u001B[0m \u001B[43m    \u001B[49m\u001B[43minit_model\u001B[49m\u001B[38;5;241;43m=\u001B[39;49m\u001B[43minit_model\u001B[49m\u001B[43m,\u001B[49m\n\u001B[1;32m   1057\u001B[0m \u001B[43m    \u001B[49m\u001B[43mcallbacks\u001B[49m\u001B[38;5;241;43m=\u001B[39;49m\u001B[43mcallbacks\u001B[49m\u001B[43m,\u001B[49m\n\u001B[1;32m   1058\u001B[0m \u001B[43m\u001B[49m\u001B[43m)\u001B[49m\n\u001B[1;32m   1060\u001B[0m \u001B[38;5;66;03m# This populates the property self.n_features_, the number of features in the fitted model,\u001B[39;00m\n\u001B[1;32m   1061\u001B[0m \u001B[38;5;66;03m# and so should only be set after fitting.\u001B[39;00m\n\u001B[1;32m   1062\u001B[0m \u001B[38;5;66;03m#\u001B[39;00m\n\u001B[1;32m   1063\u001B[0m \u001B[38;5;66;03m# The related property self._n_features_in, which populates self.n_features_in_,\u001B[39;00m\n\u001B[1;32m   1064\u001B[0m \u001B[38;5;66;03m# is set BEFORE fitting.\u001B[39;00m\n\u001B[1;32m   1065\u001B[0m \u001B[38;5;28mself\u001B[39m\u001B[38;5;241m.\u001B[39m_n_features \u001B[38;5;241m=\u001B[39m \u001B[38;5;28mself\u001B[39m\u001B[38;5;241m.\u001B[39m_Booster\u001B[38;5;241m.\u001B[39mnum_feature()\n",
      "File \u001B[0;32m/opt/conda/conda/envs/MAP/lib/python3.12/site-packages/lightgbm/engine.py:297\u001B[0m, in \u001B[0;36mtrain\u001B[0;34m(params, train_set, num_boost_round, valid_sets, valid_names, feval, init_model, keep_training_booster, callbacks)\u001B[0m\n\u001B[1;32m    295\u001B[0m \u001B[38;5;66;03m# construct booster\u001B[39;00m\n\u001B[1;32m    296\u001B[0m \u001B[38;5;28;01mtry\u001B[39;00m:\n\u001B[0;32m--> 297\u001B[0m     booster \u001B[38;5;241m=\u001B[39m \u001B[43mBooster\u001B[49m\u001B[43m(\u001B[49m\u001B[43mparams\u001B[49m\u001B[38;5;241;43m=\u001B[39;49m\u001B[43mparams\u001B[49m\u001B[43m,\u001B[49m\u001B[43m \u001B[49m\u001B[43mtrain_set\u001B[49m\u001B[38;5;241;43m=\u001B[39;49m\u001B[43mtrain_set\u001B[49m\u001B[43m)\u001B[49m\n\u001B[1;32m    298\u001B[0m     \u001B[38;5;28;01mif\u001B[39;00m is_valid_contain_train:\n\u001B[1;32m    299\u001B[0m         booster\u001B[38;5;241m.\u001B[39mset_train_data_name(train_data_name)\n",
      "File \u001B[0;32m/opt/conda/conda/envs/MAP/lib/python3.12/site-packages/lightgbm/basic.py:3656\u001B[0m, in \u001B[0;36mBooster.__init__\u001B[0;34m(self, params, train_set, model_file, model_str)\u001B[0m\n\u001B[1;32m   3649\u001B[0m     \u001B[38;5;28mself\u001B[39m\u001B[38;5;241m.\u001B[39mset_network(\n\u001B[1;32m   3650\u001B[0m         machines\u001B[38;5;241m=\u001B[39mmachines,\n\u001B[1;32m   3651\u001B[0m         local_listen_port\u001B[38;5;241m=\u001B[39mparams[\u001B[38;5;124m\"\u001B[39m\u001B[38;5;124mlocal_listen_port\u001B[39m\u001B[38;5;124m\"\u001B[39m],\n\u001B[1;32m   3652\u001B[0m         listen_time_out\u001B[38;5;241m=\u001B[39mparams\u001B[38;5;241m.\u001B[39mget(\u001B[38;5;124m\"\u001B[39m\u001B[38;5;124mtime_out\u001B[39m\u001B[38;5;124m\"\u001B[39m, \u001B[38;5;241m120\u001B[39m),\n\u001B[1;32m   3653\u001B[0m         num_machines\u001B[38;5;241m=\u001B[39mparams[\u001B[38;5;124m\"\u001B[39m\u001B[38;5;124mnum_machines\u001B[39m\u001B[38;5;124m\"\u001B[39m],\n\u001B[1;32m   3654\u001B[0m     )\n\u001B[1;32m   3655\u001B[0m \u001B[38;5;66;03m# construct booster object\u001B[39;00m\n\u001B[0;32m-> 3656\u001B[0m \u001B[43mtrain_set\u001B[49m\u001B[38;5;241;43m.\u001B[39;49m\u001B[43mconstruct\u001B[49m\u001B[43m(\u001B[49m\u001B[43m)\u001B[49m\n\u001B[1;32m   3657\u001B[0m \u001B[38;5;66;03m# copy the parameters from train_set\u001B[39;00m\n\u001B[1;32m   3658\u001B[0m params\u001B[38;5;241m.\u001B[39mupdate(train_set\u001B[38;5;241m.\u001B[39mget_params())\n",
      "File \u001B[0;32m/opt/conda/conda/envs/MAP/lib/python3.12/site-packages/lightgbm/basic.py:2590\u001B[0m, in \u001B[0;36mDataset.construct\u001B[0;34m(self)\u001B[0m\n\u001B[1;32m   2585\u001B[0m             \u001B[38;5;28mself\u001B[39m\u001B[38;5;241m.\u001B[39m_set_init_score_by_predictor(\n\u001B[1;32m   2586\u001B[0m                 predictor\u001B[38;5;241m=\u001B[39m\u001B[38;5;28mself\u001B[39m\u001B[38;5;241m.\u001B[39m_predictor, data\u001B[38;5;241m=\u001B[39m\u001B[38;5;28mself\u001B[39m\u001B[38;5;241m.\u001B[39mdata, used_indices\u001B[38;5;241m=\u001B[39mused_indices\n\u001B[1;32m   2587\u001B[0m             )\n\u001B[1;32m   2588\u001B[0m \u001B[38;5;28;01melse\u001B[39;00m:\n\u001B[1;32m   2589\u001B[0m     \u001B[38;5;66;03m# create train\u001B[39;00m\n\u001B[0;32m-> 2590\u001B[0m     \u001B[38;5;28;43mself\u001B[39;49m\u001B[38;5;241;43m.\u001B[39;49m\u001B[43m_lazy_init\u001B[49m\u001B[43m(\u001B[49m\n\u001B[1;32m   2591\u001B[0m \u001B[43m        \u001B[49m\u001B[43mdata\u001B[49m\u001B[38;5;241;43m=\u001B[39;49m\u001B[38;5;28;43mself\u001B[39;49m\u001B[38;5;241;43m.\u001B[39;49m\u001B[43mdata\u001B[49m\u001B[43m,\u001B[49m\n\u001B[1;32m   2592\u001B[0m \u001B[43m        \u001B[49m\u001B[43mlabel\u001B[49m\u001B[38;5;241;43m=\u001B[39;49m\u001B[38;5;28;43mself\u001B[39;49m\u001B[38;5;241;43m.\u001B[39;49m\u001B[43mlabel\u001B[49m\u001B[43m,\u001B[49m\n\u001B[1;32m   2593\u001B[0m \u001B[43m        \u001B[49m\u001B[43mreference\u001B[49m\u001B[38;5;241;43m=\u001B[39;49m\u001B[38;5;28;43;01mNone\u001B[39;49;00m\u001B[43m,\u001B[49m\n\u001B[1;32m   2594\u001B[0m \u001B[43m        \u001B[49m\u001B[43mweight\u001B[49m\u001B[38;5;241;43m=\u001B[39;49m\u001B[38;5;28;43mself\u001B[39;49m\u001B[38;5;241;43m.\u001B[39;49m\u001B[43mweight\u001B[49m\u001B[43m,\u001B[49m\n\u001B[1;32m   2595\u001B[0m \u001B[43m        \u001B[49m\u001B[43mgroup\u001B[49m\u001B[38;5;241;43m=\u001B[39;49m\u001B[38;5;28;43mself\u001B[39;49m\u001B[38;5;241;43m.\u001B[39;49m\u001B[43mgroup\u001B[49m\u001B[43m,\u001B[49m\n\u001B[1;32m   2596\u001B[0m \u001B[43m        \u001B[49m\u001B[43minit_score\u001B[49m\u001B[38;5;241;43m=\u001B[39;49m\u001B[38;5;28;43mself\u001B[39;49m\u001B[38;5;241;43m.\u001B[39;49m\u001B[43minit_score\u001B[49m\u001B[43m,\u001B[49m\n\u001B[1;32m   2597\u001B[0m \u001B[43m        \u001B[49m\u001B[43mpredictor\u001B[49m\u001B[38;5;241;43m=\u001B[39;49m\u001B[38;5;28;43mself\u001B[39;49m\u001B[38;5;241;43m.\u001B[39;49m\u001B[43m_predictor\u001B[49m\u001B[43m,\u001B[49m\n\u001B[1;32m   2598\u001B[0m \u001B[43m        \u001B[49m\u001B[43mfeature_name\u001B[49m\u001B[38;5;241;43m=\u001B[39;49m\u001B[38;5;28;43mself\u001B[39;49m\u001B[38;5;241;43m.\u001B[39;49m\u001B[43mfeature_name\u001B[49m\u001B[43m,\u001B[49m\n\u001B[1;32m   2599\u001B[0m \u001B[43m        \u001B[49m\u001B[43mcategorical_feature\u001B[49m\u001B[38;5;241;43m=\u001B[39;49m\u001B[38;5;28;43mself\u001B[39;49m\u001B[38;5;241;43m.\u001B[39;49m\u001B[43mcategorical_feature\u001B[49m\u001B[43m,\u001B[49m\n\u001B[1;32m   2600\u001B[0m \u001B[43m        \u001B[49m\u001B[43mparams\u001B[49m\u001B[38;5;241;43m=\u001B[39;49m\u001B[38;5;28;43mself\u001B[39;49m\u001B[38;5;241;43m.\u001B[39;49m\u001B[43mparams\u001B[49m\u001B[43m,\u001B[49m\n\u001B[1;32m   2601\u001B[0m \u001B[43m        \u001B[49m\u001B[43mposition\u001B[49m\u001B[38;5;241;43m=\u001B[39;49m\u001B[38;5;28;43mself\u001B[39;49m\u001B[38;5;241;43m.\u001B[39;49m\u001B[43mposition\u001B[49m\u001B[43m,\u001B[49m\n\u001B[1;32m   2602\u001B[0m \u001B[43m    \u001B[49m\u001B[43m)\u001B[49m\n\u001B[1;32m   2603\u001B[0m \u001B[38;5;28;01mif\u001B[39;00m \u001B[38;5;28mself\u001B[39m\u001B[38;5;241m.\u001B[39mfree_raw_data:\n\u001B[1;32m   2604\u001B[0m     \u001B[38;5;28mself\u001B[39m\u001B[38;5;241m.\u001B[39mdata \u001B[38;5;241m=\u001B[39m \u001B[38;5;28;01mNone\u001B[39;00m\n",
      "File \u001B[0;32m/opt/conda/conda/envs/MAP/lib/python3.12/site-packages/lightgbm/basic.py:2187\u001B[0m, in \u001B[0;36mDataset._lazy_init\u001B[0;34m(self, data, label, reference, weight, group, init_score, predictor, feature_name, categorical_feature, params, position)\u001B[0m\n\u001B[1;32m   2185\u001B[0m     \u001B[38;5;28mself\u001B[39m\u001B[38;5;241m.\u001B[39m__init_from_csc(data, params_str, ref_dataset)\n\u001B[1;32m   2186\u001B[0m \u001B[38;5;28;01melif\u001B[39;00m \u001B[38;5;28misinstance\u001B[39m(data, np\u001B[38;5;241m.\u001B[39mndarray):\n\u001B[0;32m-> 2187\u001B[0m     \u001B[38;5;28;43mself\u001B[39;49m\u001B[38;5;241;43m.\u001B[39;49m\u001B[43m__init_from_np2d\u001B[49m\u001B[43m(\u001B[49m\u001B[43mdata\u001B[49m\u001B[43m,\u001B[49m\u001B[43m \u001B[49m\u001B[43mparams_str\u001B[49m\u001B[43m,\u001B[49m\u001B[43m \u001B[49m\u001B[43mref_dataset\u001B[49m\u001B[43m)\u001B[49m\n\u001B[1;32m   2188\u001B[0m \u001B[38;5;28;01melif\u001B[39;00m _is_pyarrow_table(data):\n\u001B[1;32m   2189\u001B[0m     \u001B[38;5;28mself\u001B[39m\u001B[38;5;241m.\u001B[39m__init_from_pyarrow_table(data, params_str, ref_dataset)\n",
      "File \u001B[0;32m/opt/conda/conda/envs/MAP/lib/python3.12/site-packages/lightgbm/basic.py:2319\u001B[0m, in \u001B[0;36mDataset.__init_from_np2d\u001B[0;34m(self, mat, params_str, ref_dataset)\u001B[0m\n\u001B[1;32m   2316\u001B[0m data, layout \u001B[38;5;241m=\u001B[39m _np2d_to_np1d(mat)\n\u001B[1;32m   2317\u001B[0m ptr_data, type_ptr_data, _ \u001B[38;5;241m=\u001B[39m _c_float_array(data)\n\u001B[1;32m   2318\u001B[0m _safe_call(\n\u001B[0;32m-> 2319\u001B[0m     \u001B[43m_LIB\u001B[49m\u001B[38;5;241;43m.\u001B[39;49m\u001B[43mLGBM_DatasetCreateFromMat\u001B[49m\u001B[43m(\u001B[49m\n\u001B[1;32m   2320\u001B[0m \u001B[43m        \u001B[49m\u001B[43mptr_data\u001B[49m\u001B[43m,\u001B[49m\n\u001B[1;32m   2321\u001B[0m \u001B[43m        \u001B[49m\u001B[43mctypes\u001B[49m\u001B[38;5;241;43m.\u001B[39;49m\u001B[43mc_int\u001B[49m\u001B[43m(\u001B[49m\u001B[43mtype_ptr_data\u001B[49m\u001B[43m)\u001B[49m\u001B[43m,\u001B[49m\n\u001B[1;32m   2322\u001B[0m \u001B[43m        \u001B[49m\u001B[43mctypes\u001B[49m\u001B[38;5;241;43m.\u001B[39;49m\u001B[43mc_int32\u001B[49m\u001B[43m(\u001B[49m\u001B[43mmat\u001B[49m\u001B[38;5;241;43m.\u001B[39;49m\u001B[43mshape\u001B[49m\u001B[43m[\u001B[49m\u001B[38;5;241;43m0\u001B[39;49m\u001B[43m]\u001B[49m\u001B[43m)\u001B[49m\u001B[43m,\u001B[49m\n\u001B[1;32m   2323\u001B[0m \u001B[43m        \u001B[49m\u001B[43mctypes\u001B[49m\u001B[38;5;241;43m.\u001B[39;49m\u001B[43mc_int32\u001B[49m\u001B[43m(\u001B[49m\u001B[43mmat\u001B[49m\u001B[38;5;241;43m.\u001B[39;49m\u001B[43mshape\u001B[49m\u001B[43m[\u001B[49m\u001B[38;5;241;43m1\u001B[39;49m\u001B[43m]\u001B[49m\u001B[43m)\u001B[49m\u001B[43m,\u001B[49m\n\u001B[1;32m   2324\u001B[0m \u001B[43m        \u001B[49m\u001B[43mctypes\u001B[49m\u001B[38;5;241;43m.\u001B[39;49m\u001B[43mc_int\u001B[49m\u001B[43m(\u001B[49m\u001B[43mlayout\u001B[49m\u001B[43m)\u001B[49m\u001B[43m,\u001B[49m\n\u001B[1;32m   2325\u001B[0m \u001B[43m        \u001B[49m\u001B[43m_c_str\u001B[49m\u001B[43m(\u001B[49m\u001B[43mparams_str\u001B[49m\u001B[43m)\u001B[49m\u001B[43m,\u001B[49m\n\u001B[1;32m   2326\u001B[0m \u001B[43m        \u001B[49m\u001B[43mref_dataset\u001B[49m\u001B[43m,\u001B[49m\n\u001B[1;32m   2327\u001B[0m \u001B[43m        \u001B[49m\u001B[43mctypes\u001B[49m\u001B[38;5;241;43m.\u001B[39;49m\u001B[43mbyref\u001B[49m\u001B[43m(\u001B[49m\u001B[38;5;28;43mself\u001B[39;49m\u001B[38;5;241;43m.\u001B[39;49m\u001B[43m_handle\u001B[49m\u001B[43m)\u001B[49m\u001B[43m,\u001B[49m\n\u001B[1;32m   2328\u001B[0m \u001B[43m    \u001B[49m\u001B[43m)\u001B[49m\n\u001B[1;32m   2329\u001B[0m )\n\u001B[1;32m   2330\u001B[0m \u001B[38;5;28;01mreturn\u001B[39;00m \u001B[38;5;28mself\u001B[39m\n",
      "\u001B[0;31mKeyboardInterrupt\u001B[0m: "
     ]
    }
   ],
   "execution_count": 9
  },
  {
   "metadata": {},
   "cell_type": "markdown",
   "source": "",
   "id": "c5813acd4c51a154"
  },
  {
   "metadata": {},
   "cell_type": "code",
   "source": [
    "outpath = \"../Models/Hypertuned/\"\n",
    "summary_file = f\"Summary_{studies_name}.txt\"\n",
    "values = overall_best_trials[0]\n",
    "overall_best_trials = sorted(overall_best_trials, key=lambda x: x[0].values[0], reverse=True)\n",
    "\n",
    "with open(os.path.join(outpath, summary_file), \"w\") as out:\n",
    "    out.write(f\"{studies_name} with {n_studies} Studies with each {n_trials} trials\\n\")\n",
    "    out.write(f\"all scores: {[trial[0].values for trial in overall_best_trials]}\\n\")\n",
    "    for i, btrail in enumerate(overall_best_trials):\n",
    "        if i != 0:\n",
    "            out.write('------------------------------------------------\\n')\n",
    "        out.write(f\"Study {btrail[1]},Trial {btrail[0].number}, Scores: {btrail[0].values}\\n\")\n",
    "        out.write(f\"Parameters: {btrail[0].params}\\n\")\n"
   ],
   "id": "2e24e9d5abf01e3f",
   "outputs": [],
   "execution_count": null
  }
 ],
 "metadata": {
  "kernelspec": {
   "display_name": "Python 3",
   "language": "python",
   "name": "python3"
  },
  "language_info": {
   "codemirror_mode": {
    "name": "ipython",
    "version": 2
   },
   "file_extension": ".py",
   "mimetype": "text/x-python",
   "name": "python",
   "nbconvert_exporter": "python",
   "pygments_lexer": "ipython2",
   "version": "2.7.6"
  }
 },
 "nbformat": 4,
 "nbformat_minor": 5
}
