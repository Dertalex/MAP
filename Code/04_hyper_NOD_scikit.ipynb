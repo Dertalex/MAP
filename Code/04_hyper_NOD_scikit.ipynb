{
 "cells": [
  {
   "cell_type": "code",
   "id": "initial_id",
   "metadata": {
    "collapsed": true,
    "ExecuteTime": {
     "end_time": "2025-03-13T13:55:25.932152Z",
     "start_time": "2025-03-13T13:55:25.928577Z"
    }
   },
   "source": [
    "import copy\n",
    "\n",
    "from sklearn.experimental import enable_halving_search_cv\n",
    "from sklearn.model_selection import HalvingRandomSearchCV\n",
    "from sklearn.metrics import r2_score\n",
    "from sklearn.model_selection import HalvingGridSearchCV\n",
    "from sklearn.metrics import root_mean_squared_error\n",
    "import src.generate_encodings as ge\n",
    "import src.prediction_models_es as pm\n",
    "import tqdm\n",
    "import os, sys\n",
    "from joblib import parallel_backend\n",
    "import ast\n"
   ],
   "outputs": [],
   "execution_count": 17
  },
  {
   "metadata": {
    "ExecuteTime": {
     "end_time": "2025-03-13T13:55:27.538885Z",
     "start_time": "2025-03-13T13:55:27.536946Z"
    }
   },
   "cell_type": "code",
   "source": [
    "class HiddenPrints:\n",
    "    def __enter__(self):\n",
    "        self._original_stdout = sys.stdout\n",
    "        sys.stdout = open(os.devnull, 'w')\n",
    "\n",
    "    def __exit__(self, exc_type, exc_val, exc_tb):\n",
    "        sys.stdout.close()\n",
    "        sys.stdout = self._original_stdout"
   ],
   "id": "689c486d623f961e",
   "outputs": [],
   "execution_count": 18
  },
  {
   "metadata": {
    "ExecuteTime": {
     "end_time": "2025-03-13T13:55:34.687193Z",
     "start_time": "2025-03-13T13:55:34.518460Z"
    }
   },
   "cell_type": "code",
   "source": [
    "\"\"\"Extract Sequence-Embeddings and Scores \"\"\"\n",
    "\n",
    "e_type = \"blosum80\"\n",
    "\n",
    "import_data = \"../Data/NOD.csv\"\n",
    "embeddings = []\n",
    "labels = []\n",
    "with open(import_data, \"r\") as infile:\n",
    "    for line in infile.readlines()[1:]:\n",
    "        line = line[:-1].split(\",\")\n",
    "        sequence = line[0]\n",
    "        label = line[2]\n",
    "        representation = ge.generate_sequence_encodings(e_type, [sequence])[0]\n",
    "        embeddings.append(representation)\n",
    "        labels.append(label)\n",
    "\n",
    "# print(labels)\n",
    "# print(embeddings)\n"
   ],
   "id": "48fff39a67af6cf7",
   "outputs": [],
   "execution_count": 19
  },
  {
   "metadata": {
    "ExecuteTime": {
     "end_time": "2025-03-13T13:56:27.745210Z",
     "start_time": "2025-03-13T13:56:24.171787Z"
    }
   },
   "cell_type": "code",
   "source": [
    "import random\n",
    "\n",
    "\"\"\"Train the Model\"\"\"\n",
    "rmse = 999\n",
    "regressor = pm.ActivityPredictor(model_type=\"xgboost\", x_arr=embeddings, y_arr=labels,\n",
    "                                 split=(80, 10, 10))\n",
    "regressor.train(k_folds=5)\n",
    "while rmse > 0.18:\n",
    "    with HiddenPrints():\n",
    "        regressor = pm.ActivityPredictor(model_type=\"xgboost\", x_arr=embeddings, y_arr=labels)\n",
    "        regressor.train(k_folds=5)\n",
    "    rmse = regressor.get_performance()[1]\n",
    "\n",
    "x_train = regressor.get_data(prepared=True)[\"x_train\"]\n",
    "y_train = regressor.get_data(prepared=True)[\"y_train\"]\n",
    "\n",
    "x_valr = regressor.get_data(prepared=False)[\"x_val\"]\n",
    "y_valr = regressor.get_data(prepared=False)[\"y_val\"]\n"
   ],
   "id": "2865a84f0135e387",
   "outputs": [
    {
     "name": "stdout",
     "output_type": "stream",
     "text": [
      "[0]\tvalidation_0-rmse:0.32696\n",
      "[1]\tvalidation_0-rmse:0.28319\n",
      "[2]\tvalidation_0-rmse:0.26110\n",
      "[3]\tvalidation_0-rmse:0.24661\n",
      "[4]\tvalidation_0-rmse:0.24132\n",
      "[5]\tvalidation_0-rmse:0.24141\n",
      "[6]\tvalidation_0-rmse:0.23873\n",
      "[7]\tvalidation_0-rmse:0.23779\n",
      "[8]\tvalidation_0-rmse:0.23751\n",
      "[9]\tvalidation_0-rmse:0.23561\n",
      "[10]\tvalidation_0-rmse:0.23407\n",
      "[11]\tvalidation_0-rmse:0.23286\n",
      "[12]\tvalidation_0-rmse:0.23418\n",
      "[13]\tvalidation_0-rmse:0.23331\n",
      "[14]\tvalidation_0-rmse:0.23401\n",
      "[15]\tvalidation_0-rmse:0.23424\n",
      "[16]\tvalidation_0-rmse:0.23460\n",
      "[17]\tvalidation_0-rmse:0.23583\n",
      "[18]\tvalidation_0-rmse:0.23589\n",
      "[19]\tvalidation_0-rmse:0.23537\n",
      "[20]\tvalidation_0-rmse:0.23589\n",
      "[21]\tvalidation_0-rmse:0.23605\n",
      "[0]\tvalidation_0-rmse:0.28331\n",
      "[1]\tvalidation_0-rmse:0.24845\n",
      "[2]\tvalidation_0-rmse:0.22723\n",
      "[3]\tvalidation_0-rmse:0.22119\n",
      "[4]\tvalidation_0-rmse:0.21784\n",
      "[5]\tvalidation_0-rmse:0.21851\n",
      "[6]\tvalidation_0-rmse:0.21843\n",
      "[7]\tvalidation_0-rmse:0.22150\n",
      "[8]\tvalidation_0-rmse:0.22101\n",
      "[9]\tvalidation_0-rmse:0.22164\n",
      "[10]\tvalidation_0-rmse:0.22230\n",
      "[11]\tvalidation_0-rmse:0.22247\n",
      "[12]\tvalidation_0-rmse:0.22464\n",
      "[13]\tvalidation_0-rmse:0.22737\n",
      "[0]\tvalidation_0-rmse:0.29676\n",
      "[1]\tvalidation_0-rmse:0.24923\n",
      "[2]\tvalidation_0-rmse:0.21816\n",
      "[3]\tvalidation_0-rmse:0.19805\n",
      "[4]\tvalidation_0-rmse:0.18960\n",
      "[5]\tvalidation_0-rmse:0.18169\n",
      "[6]\tvalidation_0-rmse:0.17728\n",
      "[7]\tvalidation_0-rmse:0.17641\n",
      "[8]\tvalidation_0-rmse:0.17806\n",
      "[9]\tvalidation_0-rmse:0.17901\n",
      "[10]\tvalidation_0-rmse:0.17869\n",
      "[11]\tvalidation_0-rmse:0.18123\n",
      "[12]\tvalidation_0-rmse:0.18264\n",
      "[13]\tvalidation_0-rmse:0.18295\n",
      "[14]\tvalidation_0-rmse:0.18327\n",
      "[15]\tvalidation_0-rmse:0.18330\n",
      "[16]\tvalidation_0-rmse:0.18192\n",
      "[0]\tvalidation_0-rmse:0.31083\n",
      "[1]\tvalidation_0-rmse:0.27209\n",
      "[2]\tvalidation_0-rmse:0.24555\n",
      "[3]\tvalidation_0-rmse:0.23194\n",
      "[4]\tvalidation_0-rmse:0.22533\n",
      "[5]\tvalidation_0-rmse:0.22632\n",
      "[6]\tvalidation_0-rmse:0.22412\n",
      "[7]\tvalidation_0-rmse:0.22400\n",
      "[8]\tvalidation_0-rmse:0.22055\n",
      "[9]\tvalidation_0-rmse:0.22023\n",
      "[10]\tvalidation_0-rmse:0.22063\n",
      "[11]\tvalidation_0-rmse:0.22000\n",
      "[12]\tvalidation_0-rmse:0.22113\n",
      "[13]\tvalidation_0-rmse:0.22205\n",
      "[14]\tvalidation_0-rmse:0.22117\n",
      "[15]\tvalidation_0-rmse:0.22172\n",
      "[16]\tvalidation_0-rmse:0.22361\n",
      "[17]\tvalidation_0-rmse:0.22376\n",
      "[18]\tvalidation_0-rmse:0.22445\n",
      "[19]\tvalidation_0-rmse:0.22436\n",
      "[20]\tvalidation_0-rmse:0.22424\n",
      "[21]\tvalidation_0-rmse:0.22427\n",
      "[0]\tvalidation_0-rmse:0.31130\n",
      "[1]\tvalidation_0-rmse:0.26584\n",
      "[2]\tvalidation_0-rmse:0.23915\n",
      "[3]\tvalidation_0-rmse:0.22606\n",
      "[4]\tvalidation_0-rmse:0.22178\n",
      "[5]\tvalidation_0-rmse:0.21817\n",
      "[6]\tvalidation_0-rmse:0.21949\n",
      "[7]\tvalidation_0-rmse:0.21905\n",
      "[8]\tvalidation_0-rmse:0.21875\n",
      "[9]\tvalidation_0-rmse:0.21860\n",
      "[10]\tvalidation_0-rmse:0.21926\n",
      "[11]\tvalidation_0-rmse:0.21977\n",
      "[12]\tvalidation_0-rmse:0.21980\n",
      "[13]\tvalidation_0-rmse:0.22017\n",
      "[14]\tvalidation_0-rmse:0.21954\n",
      "[15]\tvalidation_0-rmse:0.21938\n"
     ]
    }
   ],
   "execution_count": 22
  },
  {
   "metadata": {
    "ExecuteTime": {
     "end_time": "2025-03-13T13:56:52.586087Z",
     "start_time": "2025-03-13T13:56:41.166568Z"
    }
   },
   "cell_type": "code",
   "source": [
    "y_pred = regressor.predict(x_valr)\n",
    "rmse = root_mean_squared_error(y_valr, y_pred)\n",
    "models = regressor.get_model()\n",
    "\n",
    "best_iteration = 0\n",
    "\n",
    "xgb_hyperCV = {\n",
    "    \"max_depth\": [4, 5, 6, 7, 8, 9, 10, 11, 12, 13],\n",
    "    \"eta\": [0.1, 0.2, 0.3, 0.4, 0.5, 0.6],\n",
    "    \"n_estimators\": [50, 100, 200, 300, 400, 500],\n",
    "    \"reg_alpha\": [0.0, 0.1, 0.5, 1, 1.5],\n",
    "    \"reg_lambda\": [0.0, 0.1, 0.5, 1, 1.5],\n",
    "    # \"min_samples_split\": [2, 3, 4, 5],\n",
    "    # \"min_samples_leaf\": [1, 2, 3, 4, 5],\n",
    "    # \"bootstrap\": [False, True]\n",
    "}\n",
    "\n",
    "if isinstance(models, list):\n",
    "    hyped_models = []\n",
    "    ensemble = regressor.get_model()\n",
    "    for model in ensemble:\n",
    "        search = HalvingGridSearchCV(estimator=model, factor=2, param_grid=xgb_hyperCV, cv=5,\n",
    "                                     scoring=\"neg_root_mean_squared_error\",\n",
    "                                     n_jobs=20)\n",
    "\n",
    "        search.fit(x_train, y_train)\n",
    "        print(search.best_params_)\n",
    "        hyped_models.append(model)\n",
    "        regressor.set_model(hyped_models, is_trained=True)\n",
    "else:\n",
    "    search = HalvingGridSearchCV(estimator=models, factor=2, param_grid=xgb_hyperCV, cv=5,\n",
    "                                 scoring=\"neg_root_mean_squared_error\",\n",
    "                                 n_jobs=20)\n",
    "    search.fit(x_train, y_train)\n",
    "    print(search.best_params_)\n",
    "    regressor.set_model(models, is_trained=True)\n",
    "\n",
    "    print()"
   ],
   "id": "36f42a0b5355e2d1",
   "outputs": [
    {
     "ename": "ValueError",
     "evalue": "\nAll the 45000 fits failed.\nIt is very likely that your model is misconfigured.\nYou can try to debug the error by setting error_score='raise'.\n\nBelow are more details about the failures:\n--------------------------------------------------------------------------------\n45000 fits failed with the following error:\nTraceback (most recent call last):\n  File \"/opt/conda/conda/envs/MAP/lib/python3.12/site-packages/sklearn/model_selection/_validation.py\", line 866, in _fit_and_score\n    estimator.fit(X_train, y_train, **fit_params)\n  File \"/opt/conda/conda/envs/MAP/lib/python3.12/site-packages/xgboost/core.py\", line 726, in inner_f\n    return func(**kwargs)\n           ^^^^^^^^^^^^^^\n  File \"/opt/conda/conda/envs/MAP/lib/python3.12/site-packages/xgboost/sklearn.py\", line 1170, in fit\n    self._Booster = train(\n                    ^^^^^^\n  File \"/opt/conda/conda/envs/MAP/lib/python3.12/site-packages/xgboost/core.py\", line 726, in inner_f\n    return func(**kwargs)\n           ^^^^^^^^^^^^^^\n  File \"/opt/conda/conda/envs/MAP/lib/python3.12/site-packages/xgboost/training.py\", line 182, in train\n    if cb_container.after_iteration(bst, i, dtrain, evals):\n       ^^^^^^^^^^^^^^^^^^^^^^^^^^^^^^^^^^^^^^^^^^^^^^^^^^^\n  File \"/opt/conda/conda/envs/MAP/lib/python3.12/site-packages/xgboost/callback.py\", line 261, in after_iteration\n    ret = any(c.after_iteration(model, epoch, self.history) for c in self.callbacks)\n          ^^^^^^^^^^^^^^^^^^^^^^^^^^^^^^^^^^^^^^^^^^^^^^^^^^^^^^^^^^^^^^^^^^^^^^^^^^\n  File \"/opt/conda/conda/envs/MAP/lib/python3.12/site-packages/xgboost/callback.py\", line 261, in <genexpr>\n    ret = any(c.after_iteration(model, epoch, self.history) for c in self.callbacks)\n              ^^^^^^^^^^^^^^^^^^^^^^^^^^^^^^^^^^^^^^^^^^^^^\n  File \"/opt/conda/conda/envs/MAP/lib/python3.12/site-packages/xgboost/callback.py\", line 446, in after_iteration\n    raise ValueError(msg)\nValueError: Must have at least 1 validation dataset for early stopping.\n",
     "output_type": "error",
     "traceback": [
      "\u001B[0;31m---------------------------------------------------------------------------\u001B[0m",
      "\u001B[0;31mValueError\u001B[0m                                Traceback (most recent call last)",
      "Cell \u001B[0;32mIn[23], line 26\u001B[0m\n\u001B[1;32m     21\u001B[0m \u001B[38;5;28;01mfor\u001B[39;00m model \u001B[38;5;129;01min\u001B[39;00m ensemble:\n\u001B[1;32m     22\u001B[0m     search \u001B[38;5;241m=\u001B[39m HalvingGridSearchCV(estimator\u001B[38;5;241m=\u001B[39mmodel, factor\u001B[38;5;241m=\u001B[39m\u001B[38;5;241m2\u001B[39m, param_grid\u001B[38;5;241m=\u001B[39mxgb_hyperCV, cv\u001B[38;5;241m=\u001B[39m\u001B[38;5;241m5\u001B[39m,\n\u001B[1;32m     23\u001B[0m                                  scoring\u001B[38;5;241m=\u001B[39m\u001B[38;5;124m\"\u001B[39m\u001B[38;5;124mneg_root_mean_squared_error\u001B[39m\u001B[38;5;124m\"\u001B[39m,\n\u001B[1;32m     24\u001B[0m                                  n_jobs\u001B[38;5;241m=\u001B[39m\u001B[38;5;241m20\u001B[39m)\n\u001B[0;32m---> 26\u001B[0m     \u001B[43msearch\u001B[49m\u001B[38;5;241;43m.\u001B[39;49m\u001B[43mfit\u001B[49m\u001B[43m(\u001B[49m\u001B[43mx_train\u001B[49m\u001B[43m,\u001B[49m\u001B[43m \u001B[49m\u001B[43my_train\u001B[49m\u001B[43m)\u001B[49m\n\u001B[1;32m     27\u001B[0m     \u001B[38;5;28mprint\u001B[39m(search\u001B[38;5;241m.\u001B[39mbest_params_)\n\u001B[1;32m     28\u001B[0m     hyped_models\u001B[38;5;241m.\u001B[39mappend(model)\n",
      "File \u001B[0;32m/opt/conda/conda/envs/MAP/lib/python3.12/site-packages/sklearn/base.py:1389\u001B[0m, in \u001B[0;36m_fit_context.<locals>.decorator.<locals>.wrapper\u001B[0;34m(estimator, *args, **kwargs)\u001B[0m\n\u001B[1;32m   1382\u001B[0m     estimator\u001B[38;5;241m.\u001B[39m_validate_params()\n\u001B[1;32m   1384\u001B[0m \u001B[38;5;28;01mwith\u001B[39;00m config_context(\n\u001B[1;32m   1385\u001B[0m     skip_parameter_validation\u001B[38;5;241m=\u001B[39m(\n\u001B[1;32m   1386\u001B[0m         prefer_skip_nested_validation \u001B[38;5;129;01mor\u001B[39;00m global_skip_validation\n\u001B[1;32m   1387\u001B[0m     )\n\u001B[1;32m   1388\u001B[0m ):\n\u001B[0;32m-> 1389\u001B[0m     \u001B[38;5;28;01mreturn\u001B[39;00m \u001B[43mfit_method\u001B[49m\u001B[43m(\u001B[49m\u001B[43mestimator\u001B[49m\u001B[43m,\u001B[49m\u001B[43m \u001B[49m\u001B[38;5;241;43m*\u001B[39;49m\u001B[43margs\u001B[49m\u001B[43m,\u001B[49m\u001B[43m \u001B[49m\u001B[38;5;241;43m*\u001B[39;49m\u001B[38;5;241;43m*\u001B[39;49m\u001B[43mkwargs\u001B[49m\u001B[43m)\u001B[49m\n",
      "File \u001B[0;32m/opt/conda/conda/envs/MAP/lib/python3.12/site-packages/sklearn/model_selection/_search_successive_halving.py:253\u001B[0m, in \u001B[0;36mBaseSuccessiveHalving.fit\u001B[0;34m(self, X, y, **params)\u001B[0m\n\u001B[1;32m    247\u001B[0m \u001B[38;5;28mself\u001B[39m\u001B[38;5;241m.\u001B[39m_check_input_parameters(\n\u001B[1;32m    248\u001B[0m     X\u001B[38;5;241m=\u001B[39mX, y\u001B[38;5;241m=\u001B[39my, split_params\u001B[38;5;241m=\u001B[39mrouted_params\u001B[38;5;241m.\u001B[39msplitter\u001B[38;5;241m.\u001B[39msplit\n\u001B[1;32m    249\u001B[0m )\n\u001B[1;32m    251\u001B[0m \u001B[38;5;28mself\u001B[39m\u001B[38;5;241m.\u001B[39m_n_samples_orig \u001B[38;5;241m=\u001B[39m _num_samples(X)\n\u001B[0;32m--> 253\u001B[0m \u001B[38;5;28;43msuper\u001B[39;49m\u001B[43m(\u001B[49m\u001B[43m)\u001B[49m\u001B[38;5;241;43m.\u001B[39;49m\u001B[43mfit\u001B[49m\u001B[43m(\u001B[49m\u001B[43mX\u001B[49m\u001B[43m,\u001B[49m\u001B[43m \u001B[49m\u001B[43my\u001B[49m\u001B[38;5;241;43m=\u001B[39;49m\u001B[43my\u001B[49m\u001B[43m,\u001B[49m\u001B[43m \u001B[49m\u001B[38;5;241;43m*\u001B[39;49m\u001B[38;5;241;43m*\u001B[39;49m\u001B[43mparams\u001B[49m\u001B[43m)\u001B[49m\n\u001B[1;32m    255\u001B[0m \u001B[38;5;66;03m# Set best_score_: BaseSearchCV does not set it, as refit is a callable\u001B[39;00m\n\u001B[1;32m    256\u001B[0m \u001B[38;5;28mself\u001B[39m\u001B[38;5;241m.\u001B[39mbest_score_ \u001B[38;5;241m=\u001B[39m \u001B[38;5;28mself\u001B[39m\u001B[38;5;241m.\u001B[39mcv_results_[\u001B[38;5;124m\"\u001B[39m\u001B[38;5;124mmean_test_score\u001B[39m\u001B[38;5;124m\"\u001B[39m][\u001B[38;5;28mself\u001B[39m\u001B[38;5;241m.\u001B[39mbest_index_]\n",
      "File \u001B[0;32m/opt/conda/conda/envs/MAP/lib/python3.12/site-packages/sklearn/base.py:1389\u001B[0m, in \u001B[0;36m_fit_context.<locals>.decorator.<locals>.wrapper\u001B[0;34m(estimator, *args, **kwargs)\u001B[0m\n\u001B[1;32m   1382\u001B[0m     estimator\u001B[38;5;241m.\u001B[39m_validate_params()\n\u001B[1;32m   1384\u001B[0m \u001B[38;5;28;01mwith\u001B[39;00m config_context(\n\u001B[1;32m   1385\u001B[0m     skip_parameter_validation\u001B[38;5;241m=\u001B[39m(\n\u001B[1;32m   1386\u001B[0m         prefer_skip_nested_validation \u001B[38;5;129;01mor\u001B[39;00m global_skip_validation\n\u001B[1;32m   1387\u001B[0m     )\n\u001B[1;32m   1388\u001B[0m ):\n\u001B[0;32m-> 1389\u001B[0m     \u001B[38;5;28;01mreturn\u001B[39;00m \u001B[43mfit_method\u001B[49m\u001B[43m(\u001B[49m\u001B[43mestimator\u001B[49m\u001B[43m,\u001B[49m\u001B[43m \u001B[49m\u001B[38;5;241;43m*\u001B[39;49m\u001B[43margs\u001B[49m\u001B[43m,\u001B[49m\u001B[43m \u001B[49m\u001B[38;5;241;43m*\u001B[39;49m\u001B[38;5;241;43m*\u001B[39;49m\u001B[43mkwargs\u001B[49m\u001B[43m)\u001B[49m\n",
      "File \u001B[0;32m/opt/conda/conda/envs/MAP/lib/python3.12/site-packages/sklearn/model_selection/_search.py:1024\u001B[0m, in \u001B[0;36mBaseSearchCV.fit\u001B[0;34m(self, X, y, **params)\u001B[0m\n\u001B[1;32m   1018\u001B[0m     results \u001B[38;5;241m=\u001B[39m \u001B[38;5;28mself\u001B[39m\u001B[38;5;241m.\u001B[39m_format_results(\n\u001B[1;32m   1019\u001B[0m         all_candidate_params, n_splits, all_out, all_more_results\n\u001B[1;32m   1020\u001B[0m     )\n\u001B[1;32m   1022\u001B[0m     \u001B[38;5;28;01mreturn\u001B[39;00m results\n\u001B[0;32m-> 1024\u001B[0m \u001B[38;5;28;43mself\u001B[39;49m\u001B[38;5;241;43m.\u001B[39;49m\u001B[43m_run_search\u001B[49m\u001B[43m(\u001B[49m\u001B[43mevaluate_candidates\u001B[49m\u001B[43m)\u001B[49m\n\u001B[1;32m   1026\u001B[0m \u001B[38;5;66;03m# multimetric is determined here because in the case of a callable\u001B[39;00m\n\u001B[1;32m   1027\u001B[0m \u001B[38;5;66;03m# self.scoring the return type is only known after calling\u001B[39;00m\n\u001B[1;32m   1028\u001B[0m first_test_score \u001B[38;5;241m=\u001B[39m all_out[\u001B[38;5;241m0\u001B[39m][\u001B[38;5;124m\"\u001B[39m\u001B[38;5;124mtest_scores\u001B[39m\u001B[38;5;124m\"\u001B[39m]\n",
      "File \u001B[0;32m/opt/conda/conda/envs/MAP/lib/python3.12/site-packages/sklearn/model_selection/_search_successive_halving.py:357\u001B[0m, in \u001B[0;36mBaseSuccessiveHalving._run_search\u001B[0;34m(self, evaluate_candidates)\u001B[0m\n\u001B[1;32m    350\u001B[0m     cv \u001B[38;5;241m=\u001B[39m \u001B[38;5;28mself\u001B[39m\u001B[38;5;241m.\u001B[39m_checked_cv_orig\n\u001B[1;32m    352\u001B[0m more_results \u001B[38;5;241m=\u001B[39m {\n\u001B[1;32m    353\u001B[0m     \u001B[38;5;124m\"\u001B[39m\u001B[38;5;124miter\u001B[39m\u001B[38;5;124m\"\u001B[39m: [itr] \u001B[38;5;241m*\u001B[39m n_candidates,\n\u001B[1;32m    354\u001B[0m     \u001B[38;5;124m\"\u001B[39m\u001B[38;5;124mn_resources\u001B[39m\u001B[38;5;124m\"\u001B[39m: [n_resources] \u001B[38;5;241m*\u001B[39m n_candidates,\n\u001B[1;32m    355\u001B[0m }\n\u001B[0;32m--> 357\u001B[0m results \u001B[38;5;241m=\u001B[39m \u001B[43mevaluate_candidates\u001B[49m\u001B[43m(\u001B[49m\n\u001B[1;32m    358\u001B[0m \u001B[43m    \u001B[49m\u001B[43mcandidate_params\u001B[49m\u001B[43m,\u001B[49m\u001B[43m \u001B[49m\u001B[43mcv\u001B[49m\u001B[43m,\u001B[49m\u001B[43m \u001B[49m\u001B[43mmore_results\u001B[49m\u001B[38;5;241;43m=\u001B[39;49m\u001B[43mmore_results\u001B[49m\n\u001B[1;32m    359\u001B[0m \u001B[43m\u001B[49m\u001B[43m)\u001B[49m\n\u001B[1;32m    361\u001B[0m n_candidates_to_keep \u001B[38;5;241m=\u001B[39m ceil(n_candidates \u001B[38;5;241m/\u001B[39m \u001B[38;5;28mself\u001B[39m\u001B[38;5;241m.\u001B[39mfactor)\n\u001B[1;32m    362\u001B[0m candidate_params \u001B[38;5;241m=\u001B[39m _top_k(results, n_candidates_to_keep, itr)\n",
      "File \u001B[0;32m/opt/conda/conda/envs/MAP/lib/python3.12/site-packages/sklearn/model_selection/_search.py:1001\u001B[0m, in \u001B[0;36mBaseSearchCV.fit.<locals>.evaluate_candidates\u001B[0;34m(candidate_params, cv, more_results)\u001B[0m\n\u001B[1;32m    994\u001B[0m \u001B[38;5;28;01melif\u001B[39;00m \u001B[38;5;28mlen\u001B[39m(out) \u001B[38;5;241m!=\u001B[39m n_candidates \u001B[38;5;241m*\u001B[39m n_splits:\n\u001B[1;32m    995\u001B[0m     \u001B[38;5;28;01mraise\u001B[39;00m \u001B[38;5;167;01mValueError\u001B[39;00m(\n\u001B[1;32m    996\u001B[0m         \u001B[38;5;124m\"\u001B[39m\u001B[38;5;124mcv.split and cv.get_n_splits returned \u001B[39m\u001B[38;5;124m\"\u001B[39m\n\u001B[1;32m    997\u001B[0m         \u001B[38;5;124m\"\u001B[39m\u001B[38;5;124minconsistent results. Expected \u001B[39m\u001B[38;5;132;01m{}\u001B[39;00m\u001B[38;5;124m \u001B[39m\u001B[38;5;124m\"\u001B[39m\n\u001B[1;32m    998\u001B[0m         \u001B[38;5;124m\"\u001B[39m\u001B[38;5;124msplits, got \u001B[39m\u001B[38;5;132;01m{}\u001B[39;00m\u001B[38;5;124m\"\u001B[39m\u001B[38;5;241m.\u001B[39mformat(n_splits, \u001B[38;5;28mlen\u001B[39m(out) \u001B[38;5;241m/\u001B[39m\u001B[38;5;241m/\u001B[39m n_candidates)\n\u001B[1;32m    999\u001B[0m     )\n\u001B[0;32m-> 1001\u001B[0m \u001B[43m_warn_or_raise_about_fit_failures\u001B[49m\u001B[43m(\u001B[49m\u001B[43mout\u001B[49m\u001B[43m,\u001B[49m\u001B[43m \u001B[49m\u001B[38;5;28;43mself\u001B[39;49m\u001B[38;5;241;43m.\u001B[39;49m\u001B[43merror_score\u001B[49m\u001B[43m)\u001B[49m\n\u001B[1;32m   1003\u001B[0m \u001B[38;5;66;03m# For callable self.scoring, the return type is only know after\u001B[39;00m\n\u001B[1;32m   1004\u001B[0m \u001B[38;5;66;03m# calling. If the return type is a dictionary, the error scores\u001B[39;00m\n\u001B[1;32m   1005\u001B[0m \u001B[38;5;66;03m# can now be inserted with the correct key. The type checking\u001B[39;00m\n\u001B[1;32m   1006\u001B[0m \u001B[38;5;66;03m# of out will be done in `_insert_error_scores`.\u001B[39;00m\n\u001B[1;32m   1007\u001B[0m \u001B[38;5;28;01mif\u001B[39;00m \u001B[38;5;28mcallable\u001B[39m(\u001B[38;5;28mself\u001B[39m\u001B[38;5;241m.\u001B[39mscoring):\n",
      "File \u001B[0;32m/opt/conda/conda/envs/MAP/lib/python3.12/site-packages/sklearn/model_selection/_validation.py:517\u001B[0m, in \u001B[0;36m_warn_or_raise_about_fit_failures\u001B[0;34m(results, error_score)\u001B[0m\n\u001B[1;32m    510\u001B[0m \u001B[38;5;28;01mif\u001B[39;00m num_failed_fits \u001B[38;5;241m==\u001B[39m num_fits:\n\u001B[1;32m    511\u001B[0m     all_fits_failed_message \u001B[38;5;241m=\u001B[39m (\n\u001B[1;32m    512\u001B[0m         \u001B[38;5;124mf\u001B[39m\u001B[38;5;124m\"\u001B[39m\u001B[38;5;130;01m\\n\u001B[39;00m\u001B[38;5;124mAll the \u001B[39m\u001B[38;5;132;01m{\u001B[39;00mnum_fits\u001B[38;5;132;01m}\u001B[39;00m\u001B[38;5;124m fits failed.\u001B[39m\u001B[38;5;130;01m\\n\u001B[39;00m\u001B[38;5;124m\"\u001B[39m\n\u001B[1;32m    513\u001B[0m         \u001B[38;5;124m\"\u001B[39m\u001B[38;5;124mIt is very likely that your model is misconfigured.\u001B[39m\u001B[38;5;130;01m\\n\u001B[39;00m\u001B[38;5;124m\"\u001B[39m\n\u001B[1;32m    514\u001B[0m         \u001B[38;5;124m\"\u001B[39m\u001B[38;5;124mYou can try to debug the error by setting error_score=\u001B[39m\u001B[38;5;124m'\u001B[39m\u001B[38;5;124mraise\u001B[39m\u001B[38;5;124m'\u001B[39m\u001B[38;5;124m.\u001B[39m\u001B[38;5;130;01m\\n\u001B[39;00m\u001B[38;5;130;01m\\n\u001B[39;00m\u001B[38;5;124m\"\u001B[39m\n\u001B[1;32m    515\u001B[0m         \u001B[38;5;124mf\u001B[39m\u001B[38;5;124m\"\u001B[39m\u001B[38;5;124mBelow are more details about the failures:\u001B[39m\u001B[38;5;130;01m\\n\u001B[39;00m\u001B[38;5;132;01m{\u001B[39;00mfit_errors_summary\u001B[38;5;132;01m}\u001B[39;00m\u001B[38;5;124m\"\u001B[39m\n\u001B[1;32m    516\u001B[0m     )\n\u001B[0;32m--> 517\u001B[0m     \u001B[38;5;28;01mraise\u001B[39;00m \u001B[38;5;167;01mValueError\u001B[39;00m(all_fits_failed_message)\n\u001B[1;32m    519\u001B[0m \u001B[38;5;28;01melse\u001B[39;00m:\n\u001B[1;32m    520\u001B[0m     some_fits_failed_message \u001B[38;5;241m=\u001B[39m (\n\u001B[1;32m    521\u001B[0m         \u001B[38;5;124mf\u001B[39m\u001B[38;5;124m\"\u001B[39m\u001B[38;5;130;01m\\n\u001B[39;00m\u001B[38;5;132;01m{\u001B[39;00mnum_failed_fits\u001B[38;5;132;01m}\u001B[39;00m\u001B[38;5;124m fits failed out of a total of \u001B[39m\u001B[38;5;132;01m{\u001B[39;00mnum_fits\u001B[38;5;132;01m}\u001B[39;00m\u001B[38;5;124m.\u001B[39m\u001B[38;5;130;01m\\n\u001B[39;00m\u001B[38;5;124m\"\u001B[39m\n\u001B[1;32m    522\u001B[0m         \u001B[38;5;124m\"\u001B[39m\u001B[38;5;124mThe score on these train-test partitions for these parameters\u001B[39m\u001B[38;5;124m\"\u001B[39m\n\u001B[0;32m   (...)\u001B[0m\n\u001B[1;32m    526\u001B[0m         \u001B[38;5;124mf\u001B[39m\u001B[38;5;124m\"\u001B[39m\u001B[38;5;124mBelow are more details about the failures:\u001B[39m\u001B[38;5;130;01m\\n\u001B[39;00m\u001B[38;5;132;01m{\u001B[39;00mfit_errors_summary\u001B[38;5;132;01m}\u001B[39;00m\u001B[38;5;124m\"\u001B[39m\n\u001B[1;32m    527\u001B[0m     )\n",
      "\u001B[0;31mValueError\u001B[0m: \nAll the 45000 fits failed.\nIt is very likely that your model is misconfigured.\nYou can try to debug the error by setting error_score='raise'.\n\nBelow are more details about the failures:\n--------------------------------------------------------------------------------\n45000 fits failed with the following error:\nTraceback (most recent call last):\n  File \"/opt/conda/conda/envs/MAP/lib/python3.12/site-packages/sklearn/model_selection/_validation.py\", line 866, in _fit_and_score\n    estimator.fit(X_train, y_train, **fit_params)\n  File \"/opt/conda/conda/envs/MAP/lib/python3.12/site-packages/xgboost/core.py\", line 726, in inner_f\n    return func(**kwargs)\n           ^^^^^^^^^^^^^^\n  File \"/opt/conda/conda/envs/MAP/lib/python3.12/site-packages/xgboost/sklearn.py\", line 1170, in fit\n    self._Booster = train(\n                    ^^^^^^\n  File \"/opt/conda/conda/envs/MAP/lib/python3.12/site-packages/xgboost/core.py\", line 726, in inner_f\n    return func(**kwargs)\n           ^^^^^^^^^^^^^^\n  File \"/opt/conda/conda/envs/MAP/lib/python3.12/site-packages/xgboost/training.py\", line 182, in train\n    if cb_container.after_iteration(bst, i, dtrain, evals):\n       ^^^^^^^^^^^^^^^^^^^^^^^^^^^^^^^^^^^^^^^^^^^^^^^^^^^\n  File \"/opt/conda/conda/envs/MAP/lib/python3.12/site-packages/xgboost/callback.py\", line 261, in after_iteration\n    ret = any(c.after_iteration(model, epoch, self.history) for c in self.callbacks)\n          ^^^^^^^^^^^^^^^^^^^^^^^^^^^^^^^^^^^^^^^^^^^^^^^^^^^^^^^^^^^^^^^^^^^^^^^^^^\n  File \"/opt/conda/conda/envs/MAP/lib/python3.12/site-packages/xgboost/callback.py\", line 261, in <genexpr>\n    ret = any(c.after_iteration(model, epoch, self.history) for c in self.callbacks)\n              ^^^^^^^^^^^^^^^^^^^^^^^^^^^^^^^^^^^^^^^^^^^^^\n  File \"/opt/conda/conda/envs/MAP/lib/python3.12/site-packages/xgboost/callback.py\", line 446, in after_iteration\n    raise ValueError(msg)\nValueError: Must have at least 1 validation dataset for early stopping.\n"
     ]
    }
   ],
   "execution_count": 23
  },
  {
   "metadata": {
    "ExecuteTime": {
     "end_time": "2025-03-13T12:34:53.037656Z",
     "start_time": "2025-03-13T12:34:52.973893Z"
    }
   },
   "cell_type": "code",
   "source": [
    "models = regressor.get_model()\n",
    "\n",
    "if isinstance(models, list):\n",
    "    for i, model in enumerate(models):\n",
    "        x_val = regressor.get_data(prepared=True)[\"x_val\"]\n",
    "        y_pred = model.predict(x_val)\n",
    "        fold_r2 = r2_score(y_valr, y_pred)\n",
    "        fold_rmse = root_mean_squared_error(y_valr, y_pred)\n",
    "        print(i, \". R2:\", round(fold_r2, 3))\n",
    "        print(i, \". RMSE\", round(fold_rmse, 3))\n",
    "\n",
    "y_pred = regressor.predict(x_val)\n",
    "model_r2 = r2_score(y_valr, y_pred)\n",
    "model_rmse = root_mean_squared_error(y_valr, y_pred)\n",
    "print()\n",
    "print(f\"Total Model Performance: {round(model_r2,3)}, {round(model_rmse,3)}\")"
   ],
   "id": "808f4d0afb20b495",
   "outputs": [
    {
     "name": "stdout",
     "output_type": "stream",
     "text": [
      "0 . R2: 0.758\n",
      "0 . RMSE 0.177\n",
      "1 . R2: 0.839\n",
      "1 . RMSE 0.144\n",
      "2 . R2: 0.749\n",
      "2 . RMSE 0.18\n",
      "3 . R2: 0.793\n",
      "3 . RMSE 0.163\n",
      "4 . R2: 0.821\n",
      "4 . RMSE 0.152\n",
      "\n",
      "Total Model Performance: 0.851, 0.138\n"
     ]
    }
   ],
   "execution_count": 16
  },
  {
   "metadata": {},
   "cell_type": "code",
   "outputs": [],
   "execution_count": null,
   "source": "\"\"\"Apply early stopping on models\"\"\"",
   "id": "dba7e5a8c49d8c04"
  }
 ],
 "metadata": {
  "kernelspec": {
   "display_name": "Python 3",
   "language": "python",
   "name": "python3"
  },
  "language_info": {
   "codemirror_mode": {
    "name": "ipython",
    "version": 2
   },
   "file_extension": ".py",
   "mimetype": "text/x-python",
   "name": "python",
   "nbconvert_exporter": "python",
   "pygments_lexer": "ipython2",
   "version": "2.7.6"
  }
 },
 "nbformat": 4,
 "nbformat_minor": 5
}
