{
 "cells": [
  {
   "cell_type": "code",
   "id": "initial_id",
   "metadata": {
    "collapsed": true,
    "ExecuteTime": {
     "end_time": "2025-05-12T07:46:10.845202Z",
     "start_time": "2025-05-12T07:46:08.830832Z"
    }
   },
   "source": [
    "import random\n",
    "\n",
    "from matplotlib.pyplot import minorticks_on\n",
    "from tqdm import tqdm\n",
    "import src.generate_encodings as ge\n",
    "import src.prediction_models as pm\n",
    "import src.predictor_optimizer as pop\n",
    "import src.mutant_discovery as dis\n",
    "import numpy as np\n",
    "import torch\n",
    "import warnings\n",
    "import os, sys\n",
    "from sklearn.metrics import root_mean_squared_error"
   ],
   "outputs": [],
   "execution_count": 3
  },
  {
   "cell_type": "code",
   "id": "363fadc630185b18",
   "metadata": {
    "ExecuteTime": {
     "end_time": "2025-05-12T07:46:12.409479Z",
     "start_time": "2025-05-12T07:46:12.407454Z"
    }
   },
   "source": [
    "\"\"\"Identified esmc-Params\"\"\"\n",
    "params = {\n",
    "    \"rf\": {},\n",
    "    \"xgboost\": {'max_depth': 8, 'min_child_weight': 3.2593353403912118, 'subsample': 0.8486626985820169, 'colsample_bytree': 0.5808341075955024, 'eta': 0.23818695386489855},\n",
    "    \"lightgbm\": {'num_boost_round': 263, 'learning_rate': 0.06834905202765895, 'num_leaves': 246, 'bagging_fraction': 0.7767804359356935, 'max_depth': 17, 'max_bin': 898}\n",
    "}\n",
    "\n",
    "n_layers = 36  #esmc_600 has 36 layers\n",
    "results = []\n",
    "data_set = \"GRB2_HUMAN_Faure_2021\"\n",
    "mapping_file = f\"../Data/Embeddings/{data_set}/pairings.csv\"\n",
    "method = \"esmc_600m\"\n",
    "cv_folds = 5\n",
    "\n",
    "\n",
    "\n"
   ],
   "outputs": [],
   "execution_count": 4
  },
  {
   "cell_type": "code",
   "id": "cee68673",
   "metadata": {
    "ExecuteTime": {
     "end_time": "2025-05-12T07:46:16.252372Z",
     "start_time": "2025-05-12T07:46:16.249974Z"
    }
   },
   "source": [
    "class HiddenPrints:\n",
    "    def __enter__(self):\n",
    "        self._original_stdout = sys.stdout\n",
    "        sys.stdout = open(os.devnull, 'w')\n",
    "\n",
    "    def __exit__(self, exc_type, exc_val, exc_tb):\n",
    "        sys.stdout.close()\n",
    "        sys.stdout = self._original_stdout\n",
    "\n",
    "\n",
    "class HiddenWarnings():\n",
    "    def __enter__(self):\n",
    "        # Save the current filter settings before changing them\n",
    "        self._previous_filters = warnings.filters[:]\n",
    "        # Ignore all warnings\n",
    "        warnings.filterwarnings(\"ignore\")\n",
    "\n",
    "    def __exit__(self, exc_type, exc_val, exc_tb):\n",
    "        # Restore the original warning filter settings\n",
    "        warnings.filters = self._previous_filters"
   ],
   "outputs": [],
   "execution_count": 5
  },
  {
   "cell_type": "code",
   "id": "192c1338",
   "metadata": {
    "ExecuteTime": {
     "end_time": "2025-05-13T03:55:57.119227Z",
     "start_time": "2025-05-12T07:48:29.112112Z"
    }
   },
   "source": [
    "\"\"\"iterate through all embedding layers of esmc represenations from the dataset and test them out with different models\"\"\"\n",
    "\n",
    "data_set_name_shortened = data_set.split(\"_\")[0]\n",
    "\n",
    "with open(f\"../Results/esmc_600m_layer_comparison_{data_set_name_shortened}.csv\", \"w\") as f:\n",
    "    f.write(f\"Comparing all layers of esmc_600m for {data_set} Dataset\\n\")\n",
    "    f.write(\"\\n\")\n",
    "\n",
    "for i in range(n_layers - 1, 0, -1):\n",
    "\n",
    "    #load Embeddings\n",
    "    representations = []\n",
    "    scores = []\n",
    "    repr_layer = i\n",
    "    path_to_embeddings = f\"../Data/Embeddings/{data_set}/{method}/{repr_layer}\"\n",
    "\n",
    "    with open(mapping_file) as f:\n",
    "        data_pairs = [line[:-1] for line in f.readlines()[1:]]\n",
    "\n",
    "    with tqdm(total=len(data_pairs), desc=f\"loading embeddings of layer {i} to cpu...\") as pbar:\n",
    "        for line in data_pairs:\n",
    "            line = line[:-1].split(',')\n",
    "            embedding = f\"{path_to_embeddings}/{line[0][1:]}\"\n",
    "            representations.append(torch.load(embedding).to(dtype=torch.float32).cpu())\n",
    "            scores.append(float(line[1]))\n",
    "            pbar.update(1)\n",
    "\n",
    "    #create the models and test them out over whole dataset with tuned hyperparams:\n",
    "    for m_type in [\"xgboost\", \"lightgbm\"]:\n",
    "        print(f\"Now comparing layer {i} to {m_type} with tuned hyperparams\")\n",
    "        model = pm.ActivityPredictor(model_type=m_type,\n",
    "                                     x_arr=representations,\n",
    "                                     y_arr=scores,\n",
    "                                     shuffle_data=True,\n",
    "                                     early_stopping=15,\n",
    "                                     params=params[m_type],\n",
    "                                     seed=random.seed())\n",
    "\n",
    "        with HiddenPrints():\n",
    "            with HiddenWarnings():\n",
    "                model.train(k_folds=cv_folds)\n",
    "        r2 = round(model.get_performance()[0], 3)\n",
    "        rmse = round(model.get_performance()[1], 3)\n",
    "\n",
    "        result = [m_type, repr_layer, \"tuned_hyperparams\", r2, rmse]\n",
    "        with open(f\"../Results/esmc_600m_layer_comparison_{data_set_name_shortened}.csv\", \"a\") as f:\n",
    "            f.write(f\"{result}\\n\")\n",
    "\n",
    "    #create the models and test them out over whole dataset with default hyperparams:\n",
    "    for m_type in [\"xgboost\", \"lightgbm\", \"rf\", \"adaboost\"]:\n",
    "        print(f\"Now comparing layer {i} to {m_type} with default hyperparams\")\n",
    "        model = pm.ActivityPredictor(model_type=m_type,\n",
    "                                     x_arr=representations,\n",
    "                                     y_arr=scores,\n",
    "                                     shuffle_data=True,\n",
    "                                     early_stopping=15,\n",
    "                                     params={},\n",
    "                                     seed=random.seed())\n",
    "\n",
    "        with HiddenPrints():\n",
    "            with HiddenWarnings():\n",
    "                model.train(k_folds=cv_folds)\n",
    "        r2 = round(model.get_performance()[0], 3)\n",
    "        rmse = round(model.get_performance()[1], 3)\n",
    "\n",
    "        result = [m_type, repr_layer, \"default_hyperparams\", r2, rmse]\n",
    "        with open(f\"../Results/esmc_600m_layer_comparison_{data_set_name_shortened}.csv\", \"a\") as f:\n",
    "            f.write(f\"{[field for field in result]}\\n\")"
   ],
   "outputs": [
    {
     "name": "stderr",
     "output_type": "stream",
     "text": [
      "loading embeddings of layer 35 to cpu...: 100%|██████████| 63366/63366 [00:42<00:00, 1483.84it/s]\n"
     ]
    },
    {
     "name": "stdout",
     "output_type": "stream",
     "text": [
      "Now comparing layer 35 to xgboost with tuned hyperparams\n",
      "Now comparing layer 35 to lightgbm with tuned hyperparams\n",
      "Now comparing layer 35 to xgboost with default hyperparams\n",
      "Now comparing layer 35 to lightgbm with default hyperparams\n",
      "Now comparing layer 35 to rf with default hyperparams\n",
      "Now comparing layer 35 to adaboost with default hyperparams\n"
     ]
    },
    {
     "name": "stderr",
     "output_type": "stream",
     "text": [
      "loading embeddings of layer 34 to cpu...: 100%|██████████| 63366/63366 [00:40<00:00, 1558.21it/s]\n"
     ]
    },
    {
     "name": "stdout",
     "output_type": "stream",
     "text": [
      "Now comparing layer 34 to xgboost with tuned hyperparams\n",
      "Now comparing layer 34 to lightgbm with tuned hyperparams\n",
      "Now comparing layer 34 to xgboost with default hyperparams\n",
      "Now comparing layer 34 to lightgbm with default hyperparams\n",
      "Now comparing layer 34 to rf with default hyperparams\n",
      "Now comparing layer 34 to adaboost with default hyperparams\n"
     ]
    },
    {
     "name": "stderr",
     "output_type": "stream",
     "text": [
      "loading embeddings of layer 33 to cpu...: 100%|██████████| 63366/63366 [00:40<00:00, 1556.24it/s]\n"
     ]
    },
    {
     "name": "stdout",
     "output_type": "stream",
     "text": [
      "Now comparing layer 33 to xgboost with tuned hyperparams\n",
      "Now comparing layer 33 to lightgbm with tuned hyperparams\n",
      "Now comparing layer 33 to xgboost with default hyperparams\n",
      "Now comparing layer 33 to lightgbm with default hyperparams\n",
      "Now comparing layer 33 to rf with default hyperparams\n",
      "Now comparing layer 33 to adaboost with default hyperparams\n"
     ]
    },
    {
     "name": "stderr",
     "output_type": "stream",
     "text": [
      "loading embeddings of layer 32 to cpu...: 100%|██████████| 63366/63366 [00:40<00:00, 1549.76it/s]\n"
     ]
    },
    {
     "name": "stdout",
     "output_type": "stream",
     "text": [
      "Now comparing layer 32 to xgboost with tuned hyperparams\n",
      "Now comparing layer 32 to lightgbm with tuned hyperparams\n",
      "Now comparing layer 32 to xgboost with default hyperparams\n",
      "Now comparing layer 32 to lightgbm with default hyperparams\n",
      "Now comparing layer 32 to rf with default hyperparams\n",
      "Now comparing layer 32 to adaboost with default hyperparams\n"
     ]
    },
    {
     "name": "stderr",
     "output_type": "stream",
     "text": [
      "loading embeddings of layer 31 to cpu...: 100%|██████████| 63366/63366 [00:40<00:00, 1566.50it/s]\n"
     ]
    },
    {
     "name": "stdout",
     "output_type": "stream",
     "text": [
      "Now comparing layer 31 to xgboost with tuned hyperparams\n",
      "Now comparing layer 31 to lightgbm with tuned hyperparams\n",
      "Now comparing layer 31 to xgboost with default hyperparams\n",
      "Now comparing layer 31 to lightgbm with default hyperparams\n",
      "Now comparing layer 31 to rf with default hyperparams\n",
      "Now comparing layer 31 to adaboost with default hyperparams\n"
     ]
    },
    {
     "name": "stderr",
     "output_type": "stream",
     "text": [
      "loading embeddings of layer 30 to cpu...: 100%|██████████| 63366/63366 [00:41<00:00, 1541.42it/s]\n"
     ]
    },
    {
     "name": "stdout",
     "output_type": "stream",
     "text": [
      "Now comparing layer 30 to xgboost with tuned hyperparams\n",
      "Now comparing layer 30 to lightgbm with tuned hyperparams\n",
      "Now comparing layer 30 to xgboost with default hyperparams\n",
      "Now comparing layer 30 to lightgbm with default hyperparams\n",
      "Now comparing layer 30 to rf with default hyperparams\n",
      "Now comparing layer 30 to adaboost with default hyperparams\n"
     ]
    },
    {
     "name": "stderr",
     "output_type": "stream",
     "text": [
      "loading embeddings of layer 29 to cpu...: 100%|██████████| 63366/63366 [00:40<00:00, 1554.83it/s]\n"
     ]
    },
    {
     "name": "stdout",
     "output_type": "stream",
     "text": [
      "Now comparing layer 29 to xgboost with tuned hyperparams\n",
      "Now comparing layer 29 to lightgbm with tuned hyperparams\n",
      "Now comparing layer 29 to xgboost with default hyperparams\n",
      "Now comparing layer 29 to lightgbm with default hyperparams\n",
      "Now comparing layer 29 to rf with default hyperparams\n",
      "Now comparing layer 29 to adaboost with default hyperparams\n"
     ]
    },
    {
     "name": "stderr",
     "output_type": "stream",
     "text": [
      "loading embeddings of layer 28 to cpu...: 100%|██████████| 63366/63366 [00:41<00:00, 1540.87it/s]\n"
     ]
    },
    {
     "name": "stdout",
     "output_type": "stream",
     "text": [
      "Now comparing layer 28 to xgboost with tuned hyperparams\n",
      "Now comparing layer 28 to lightgbm with tuned hyperparams\n",
      "Now comparing layer 28 to xgboost with default hyperparams\n",
      "Now comparing layer 28 to lightgbm with default hyperparams\n",
      "Now comparing layer 28 to rf with default hyperparams\n",
      "Now comparing layer 28 to adaboost with default hyperparams\n"
     ]
    },
    {
     "name": "stderr",
     "output_type": "stream",
     "text": [
      "loading embeddings of layer 27 to cpu...: 100%|██████████| 63366/63366 [00:40<00:00, 1548.11it/s]\n"
     ]
    },
    {
     "name": "stdout",
     "output_type": "stream",
     "text": [
      "Now comparing layer 27 to xgboost with tuned hyperparams\n",
      "Now comparing layer 27 to lightgbm with tuned hyperparams\n",
      "Now comparing layer 27 to xgboost with default hyperparams\n",
      "Now comparing layer 27 to lightgbm with default hyperparams\n",
      "Now comparing layer 27 to rf with default hyperparams\n",
      "Now comparing layer 27 to adaboost with default hyperparams\n"
     ]
    },
    {
     "name": "stderr",
     "output_type": "stream",
     "text": [
      "loading embeddings of layer 26 to cpu...: 100%|██████████| 63366/63366 [00:41<00:00, 1523.16it/s]\n"
     ]
    },
    {
     "name": "stdout",
     "output_type": "stream",
     "text": [
      "Now comparing layer 26 to xgboost with tuned hyperparams\n",
      "Now comparing layer 26 to lightgbm with tuned hyperparams\n",
      "Now comparing layer 26 to xgboost with default hyperparams\n",
      "Now comparing layer 26 to lightgbm with default hyperparams\n",
      "Now comparing layer 26 to rf with default hyperparams\n",
      "Now comparing layer 26 to adaboost with default hyperparams\n"
     ]
    },
    {
     "name": "stderr",
     "output_type": "stream",
     "text": [
      "loading embeddings of layer 25 to cpu...: 100%|██████████| 63366/63366 [00:41<00:00, 1544.02it/s]\n"
     ]
    },
    {
     "name": "stdout",
     "output_type": "stream",
     "text": [
      "Now comparing layer 25 to xgboost with tuned hyperparams\n",
      "Now comparing layer 25 to lightgbm with tuned hyperparams\n",
      "Now comparing layer 25 to xgboost with default hyperparams\n",
      "Now comparing layer 25 to lightgbm with default hyperparams\n",
      "Now comparing layer 25 to rf with default hyperparams\n",
      "Now comparing layer 25 to adaboost with default hyperparams\n"
     ]
    },
    {
     "name": "stderr",
     "output_type": "stream",
     "text": [
      "loading embeddings of layer 24 to cpu...: 100%|██████████| 63366/63366 [00:41<00:00, 1542.15it/s]\n"
     ]
    },
    {
     "name": "stdout",
     "output_type": "stream",
     "text": [
      "Now comparing layer 24 to xgboost with tuned hyperparams\n",
      "Now comparing layer 24 to lightgbm with tuned hyperparams\n",
      "Now comparing layer 24 to xgboost with default hyperparams\n",
      "Now comparing layer 24 to lightgbm with default hyperparams\n",
      "Now comparing layer 24 to rf with default hyperparams\n",
      "Now comparing layer 24 to adaboost with default hyperparams\n"
     ]
    },
    {
     "name": "stderr",
     "output_type": "stream",
     "text": [
      "loading embeddings of layer 23 to cpu...: 100%|██████████| 63366/63366 [00:40<00:00, 1546.61it/s]\n"
     ]
    },
    {
     "name": "stdout",
     "output_type": "stream",
     "text": [
      "Now comparing layer 23 to xgboost with tuned hyperparams\n",
      "Now comparing layer 23 to lightgbm with tuned hyperparams\n",
      "Now comparing layer 23 to xgboost with default hyperparams\n",
      "Now comparing layer 23 to lightgbm with default hyperparams\n",
      "Now comparing layer 23 to rf with default hyperparams\n",
      "Now comparing layer 23 to adaboost with default hyperparams\n"
     ]
    },
    {
     "name": "stderr",
     "output_type": "stream",
     "text": [
      "loading embeddings of layer 22 to cpu...: 100%|██████████| 63366/63366 [00:41<00:00, 1538.71it/s]\n"
     ]
    },
    {
     "name": "stdout",
     "output_type": "stream",
     "text": [
      "Now comparing layer 22 to xgboost with tuned hyperparams\n",
      "Now comparing layer 22 to lightgbm with tuned hyperparams\n",
      "Now comparing layer 22 to xgboost with default hyperparams\n",
      "Now comparing layer 22 to lightgbm with default hyperparams\n",
      "Now comparing layer 22 to rf with default hyperparams\n",
      "Now comparing layer 22 to adaboost with default hyperparams\n"
     ]
    },
    {
     "name": "stderr",
     "output_type": "stream",
     "text": [
      "loading embeddings of layer 21 to cpu...: 100%|██████████| 63366/63366 [00:40<00:00, 1549.41it/s]\n"
     ]
    },
    {
     "name": "stdout",
     "output_type": "stream",
     "text": [
      "Now comparing layer 21 to xgboost with tuned hyperparams\n",
      "Now comparing layer 21 to lightgbm with tuned hyperparams\n",
      "Now comparing layer 21 to xgboost with default hyperparams\n",
      "Now comparing layer 21 to lightgbm with default hyperparams\n",
      "Now comparing layer 21 to rf with default hyperparams\n",
      "Now comparing layer 21 to adaboost with default hyperparams\n"
     ]
    },
    {
     "name": "stderr",
     "output_type": "stream",
     "text": [
      "loading embeddings of layer 20 to cpu...: 100%|██████████| 63366/63366 [00:41<00:00, 1534.64it/s]\n"
     ]
    },
    {
     "name": "stdout",
     "output_type": "stream",
     "text": [
      "Now comparing layer 20 to xgboost with tuned hyperparams\n",
      "Now comparing layer 20 to lightgbm with tuned hyperparams\n",
      "Now comparing layer 20 to xgboost with default hyperparams\n",
      "Now comparing layer 20 to lightgbm with default hyperparams\n",
      "Now comparing layer 20 to rf with default hyperparams\n",
      "Now comparing layer 20 to adaboost with default hyperparams\n"
     ]
    },
    {
     "name": "stderr",
     "output_type": "stream",
     "text": [
      "loading embeddings of layer 19 to cpu...: 100%|██████████| 63366/63366 [00:41<00:00, 1541.89it/s]\n"
     ]
    },
    {
     "name": "stdout",
     "output_type": "stream",
     "text": [
      "Now comparing layer 19 to xgboost with tuned hyperparams\n",
      "Now comparing layer 19 to lightgbm with tuned hyperparams\n",
      "Now comparing layer 19 to xgboost with default hyperparams\n",
      "Now comparing layer 19 to lightgbm with default hyperparams\n",
      "Now comparing layer 19 to rf with default hyperparams\n",
      "Now comparing layer 19 to adaboost with default hyperparams\n"
     ]
    },
    {
     "name": "stderr",
     "output_type": "stream",
     "text": [
      "loading embeddings of layer 18 to cpu...: 100%|██████████| 63366/63366 [00:41<00:00, 1539.49it/s]\n"
     ]
    },
    {
     "name": "stdout",
     "output_type": "stream",
     "text": [
      "Now comparing layer 18 to xgboost with tuned hyperparams\n",
      "Now comparing layer 18 to lightgbm with tuned hyperparams\n",
      "Now comparing layer 18 to xgboost with default hyperparams\n",
      "Now comparing layer 18 to lightgbm with default hyperparams\n",
      "Now comparing layer 18 to rf with default hyperparams\n",
      "Now comparing layer 18 to adaboost with default hyperparams\n"
     ]
    },
    {
     "name": "stderr",
     "output_type": "stream",
     "text": [
      "loading embeddings of layer 17 to cpu...: 100%|██████████| 63366/63366 [00:41<00:00, 1541.07it/s]\n"
     ]
    },
    {
     "name": "stdout",
     "output_type": "stream",
     "text": [
      "Now comparing layer 17 to xgboost with tuned hyperparams\n",
      "Now comparing layer 17 to lightgbm with tuned hyperparams\n",
      "Now comparing layer 17 to xgboost with default hyperparams\n",
      "Now comparing layer 17 to lightgbm with default hyperparams\n",
      "Now comparing layer 17 to rf with default hyperparams\n",
      "Now comparing layer 17 to adaboost with default hyperparams\n"
     ]
    },
    {
     "name": "stderr",
     "output_type": "stream",
     "text": [
      "loading embeddings of layer 16 to cpu...: 100%|██████████| 63366/63366 [00:41<00:00, 1529.66it/s]\n"
     ]
    },
    {
     "name": "stdout",
     "output_type": "stream",
     "text": [
      "Now comparing layer 16 to xgboost with tuned hyperparams\n",
      "Now comparing layer 16 to lightgbm with tuned hyperparams\n",
      "Now comparing layer 16 to xgboost with default hyperparams\n",
      "Now comparing layer 16 to lightgbm with default hyperparams\n",
      "Now comparing layer 16 to rf with default hyperparams\n",
      "Now comparing layer 16 to adaboost with default hyperparams\n"
     ]
    },
    {
     "name": "stderr",
     "output_type": "stream",
     "text": [
      "loading embeddings of layer 15 to cpu...: 100%|██████████| 63366/63366 [00:41<00:00, 1527.93it/s]\n"
     ]
    },
    {
     "name": "stdout",
     "output_type": "stream",
     "text": [
      "Now comparing layer 15 to xgboost with tuned hyperparams\n",
      "Now comparing layer 15 to lightgbm with tuned hyperparams\n",
      "Now comparing layer 15 to xgboost with default hyperparams\n",
      "Now comparing layer 15 to lightgbm with default hyperparams\n",
      "Now comparing layer 15 to rf with default hyperparams\n",
      "Now comparing layer 15 to adaboost with default hyperparams\n"
     ]
    },
    {
     "name": "stderr",
     "output_type": "stream",
     "text": [
      "loading embeddings of layer 14 to cpu...: 100%|██████████| 63366/63366 [00:41<00:00, 1532.96it/s]\n"
     ]
    },
    {
     "name": "stdout",
     "output_type": "stream",
     "text": [
      "Now comparing layer 14 to xgboost with tuned hyperparams\n",
      "Now comparing layer 14 to lightgbm with tuned hyperparams\n",
      "Now comparing layer 14 to xgboost with default hyperparams\n",
      "Now comparing layer 14 to lightgbm with default hyperparams\n",
      "Now comparing layer 14 to rf with default hyperparams\n",
      "Now comparing layer 14 to adaboost with default hyperparams\n"
     ]
    },
    {
     "name": "stderr",
     "output_type": "stream",
     "text": [
      "loading embeddings of layer 13 to cpu...: 100%|██████████| 63366/63366 [00:41<00:00, 1539.11it/s]\n"
     ]
    },
    {
     "name": "stdout",
     "output_type": "stream",
     "text": [
      "Now comparing layer 13 to xgboost with tuned hyperparams\n",
      "Now comparing layer 13 to lightgbm with tuned hyperparams\n",
      "Now comparing layer 13 to xgboost with default hyperparams\n",
      "Now comparing layer 13 to lightgbm with default hyperparams\n",
      "Now comparing layer 13 to rf with default hyperparams\n",
      "Now comparing layer 13 to adaboost with default hyperparams\n"
     ]
    },
    {
     "name": "stderr",
     "output_type": "stream",
     "text": [
      "loading embeddings of layer 12 to cpu...: 100%|██████████| 63366/63366 [00:41<00:00, 1538.21it/s]\n"
     ]
    },
    {
     "name": "stdout",
     "output_type": "stream",
     "text": [
      "Now comparing layer 12 to xgboost with tuned hyperparams\n",
      "Now comparing layer 12 to lightgbm with tuned hyperparams\n",
      "Now comparing layer 12 to xgboost with default hyperparams\n",
      "Now comparing layer 12 to lightgbm with default hyperparams\n",
      "Now comparing layer 12 to rf with default hyperparams\n",
      "Now comparing layer 12 to adaboost with default hyperparams\n"
     ]
    },
    {
     "name": "stderr",
     "output_type": "stream",
     "text": [
      "loading embeddings of layer 11 to cpu...: 100%|██████████| 63366/63366 [00:40<00:00, 1545.69it/s]\n"
     ]
    },
    {
     "name": "stdout",
     "output_type": "stream",
     "text": [
      "Now comparing layer 11 to xgboost with tuned hyperparams\n",
      "Now comparing layer 11 to lightgbm with tuned hyperparams\n",
      "Now comparing layer 11 to xgboost with default hyperparams\n",
      "Now comparing layer 11 to lightgbm with default hyperparams\n",
      "Now comparing layer 11 to rf with default hyperparams\n",
      "Now comparing layer 11 to adaboost with default hyperparams\n"
     ]
    },
    {
     "name": "stderr",
     "output_type": "stream",
     "text": [
      "loading embeddings of layer 10 to cpu...: 100%|██████████| 63366/63366 [00:41<00:00, 1533.23it/s]\n"
     ]
    },
    {
     "name": "stdout",
     "output_type": "stream",
     "text": [
      "Now comparing layer 10 to xgboost with tuned hyperparams\n",
      "Now comparing layer 10 to lightgbm with tuned hyperparams\n",
      "Now comparing layer 10 to xgboost with default hyperparams\n",
      "Now comparing layer 10 to lightgbm with default hyperparams\n",
      "Now comparing layer 10 to rf with default hyperparams\n",
      "Now comparing layer 10 to adaboost with default hyperparams\n"
     ]
    },
    {
     "name": "stderr",
     "output_type": "stream",
     "text": [
      "loading embeddings of layer 9 to cpu...: 100%|██████████| 63366/63366 [00:41<00:00, 1541.86it/s]\n"
     ]
    },
    {
     "name": "stdout",
     "output_type": "stream",
     "text": [
      "Now comparing layer 9 to xgboost with tuned hyperparams\n",
      "Now comparing layer 9 to lightgbm with tuned hyperparams\n",
      "Now comparing layer 9 to xgboost with default hyperparams\n",
      "Now comparing layer 9 to lightgbm with default hyperparams\n",
      "Now comparing layer 9 to rf with default hyperparams\n",
      "Now comparing layer 9 to adaboost with default hyperparams\n"
     ]
    },
    {
     "name": "stderr",
     "output_type": "stream",
     "text": [
      "loading embeddings of layer 8 to cpu...: 100%|██████████| 63366/63366 [00:41<00:00, 1530.86it/s]\n"
     ]
    },
    {
     "name": "stdout",
     "output_type": "stream",
     "text": [
      "Now comparing layer 8 to xgboost with tuned hyperparams\n",
      "Now comparing layer 8 to lightgbm with tuned hyperparams\n",
      "Now comparing layer 8 to xgboost with default hyperparams\n",
      "Now comparing layer 8 to lightgbm with default hyperparams\n",
      "Now comparing layer 8 to rf with default hyperparams\n",
      "Now comparing layer 8 to adaboost with default hyperparams\n"
     ]
    },
    {
     "name": "stderr",
     "output_type": "stream",
     "text": [
      "loading embeddings of layer 7 to cpu...: 100%|██████████| 63366/63366 [00:41<00:00, 1538.78it/s]\n"
     ]
    },
    {
     "name": "stdout",
     "output_type": "stream",
     "text": [
      "Now comparing layer 7 to xgboost with tuned hyperparams\n",
      "Now comparing layer 7 to lightgbm with tuned hyperparams\n",
      "Now comparing layer 7 to xgboost with default hyperparams\n",
      "Now comparing layer 7 to lightgbm with default hyperparams\n",
      "Now comparing layer 7 to rf with default hyperparams\n",
      "Now comparing layer 7 to adaboost with default hyperparams\n"
     ]
    },
    {
     "name": "stderr",
     "output_type": "stream",
     "text": [
      "loading embeddings of layer 6 to cpu...: 100%|██████████| 63366/63366 [00:41<00:00, 1545.08it/s]\n"
     ]
    },
    {
     "name": "stdout",
     "output_type": "stream",
     "text": [
      "Now comparing layer 6 to xgboost with tuned hyperparams\n",
      "Now comparing layer 6 to lightgbm with tuned hyperparams\n",
      "Now comparing layer 6 to xgboost with default hyperparams\n",
      "Now comparing layer 6 to lightgbm with default hyperparams\n",
      "Now comparing layer 6 to rf with default hyperparams\n",
      "Now comparing layer 6 to adaboost with default hyperparams\n"
     ]
    },
    {
     "name": "stderr",
     "output_type": "stream",
     "text": [
      "loading embeddings of layer 5 to cpu...: 100%|██████████| 63366/63366 [00:41<00:00, 1545.33it/s]\n"
     ]
    },
    {
     "name": "stdout",
     "output_type": "stream",
     "text": [
      "Now comparing layer 5 to xgboost with tuned hyperparams\n",
      "Now comparing layer 5 to lightgbm with tuned hyperparams\n",
      "Now comparing layer 5 to xgboost with default hyperparams\n",
      "Now comparing layer 5 to lightgbm with default hyperparams\n",
      "Now comparing layer 5 to rf with default hyperparams\n",
      "Now comparing layer 5 to adaboost with default hyperparams\n"
     ]
    },
    {
     "name": "stderr",
     "output_type": "stream",
     "text": [
      "loading embeddings of layer 4 to cpu...: 100%|██████████| 63366/63366 [00:41<00:00, 1528.19it/s]\n"
     ]
    },
    {
     "name": "stdout",
     "output_type": "stream",
     "text": [
      "Now comparing layer 4 to xgboost with tuned hyperparams\n",
      "Now comparing layer 4 to lightgbm with tuned hyperparams\n",
      "Now comparing layer 4 to xgboost with default hyperparams\n",
      "Now comparing layer 4 to lightgbm with default hyperparams\n",
      "Now comparing layer 4 to rf with default hyperparams\n",
      "Now comparing layer 4 to adaboost with default hyperparams\n"
     ]
    },
    {
     "name": "stderr",
     "output_type": "stream",
     "text": [
      "loading embeddings of layer 3 to cpu...: 100%|██████████| 63366/63366 [00:41<00:00, 1528.90it/s]\n"
     ]
    },
    {
     "name": "stdout",
     "output_type": "stream",
     "text": [
      "Now comparing layer 3 to xgboost with tuned hyperparams\n",
      "Now comparing layer 3 to lightgbm with tuned hyperparams\n",
      "Now comparing layer 3 to xgboost with default hyperparams\n",
      "Now comparing layer 3 to lightgbm with default hyperparams\n",
      "Now comparing layer 3 to rf with default hyperparams\n",
      "Now comparing layer 3 to adaboost with default hyperparams\n"
     ]
    },
    {
     "name": "stderr",
     "output_type": "stream",
     "text": [
      "loading embeddings of layer 2 to cpu...: 100%|██████████| 63366/63366 [00:41<00:00, 1529.37it/s]\n"
     ]
    },
    {
     "name": "stdout",
     "output_type": "stream",
     "text": [
      "Now comparing layer 2 to xgboost with tuned hyperparams\n",
      "Now comparing layer 2 to lightgbm with tuned hyperparams\n",
      "Now comparing layer 2 to xgboost with default hyperparams\n",
      "Now comparing layer 2 to lightgbm with default hyperparams\n",
      "Now comparing layer 2 to rf with default hyperparams\n",
      "Now comparing layer 2 to adaboost with default hyperparams\n"
     ]
    },
    {
     "name": "stderr",
     "output_type": "stream",
     "text": [
      "loading embeddings of layer 1 to cpu...: 100%|██████████| 63366/63366 [00:37<00:00, 1705.60it/s]\n"
     ]
    },
    {
     "name": "stdout",
     "output_type": "stream",
     "text": [
      "Now comparing layer 1 to xgboost with tuned hyperparams\n",
      "Now comparing layer 1 to lightgbm with tuned hyperparams\n",
      "Now comparing layer 1 to xgboost with default hyperparams\n",
      "Now comparing layer 1 to lightgbm with default hyperparams\n",
      "Now comparing layer 1 to rf with default hyperparams\n",
      "Now comparing layer 1 to adaboost with default hyperparams\n"
     ]
    }
   ],
   "execution_count": 10
  },
  {
   "cell_type": "code",
   "id": "f52e38e878a45011",
   "metadata": {
    "ExecuteTime": {
     "end_time": "2025-05-13T13:18:00.073481Z",
     "start_time": "2025-05-13T13:18:00.070443Z"
    }
   },
   "source": [
    "# for saved resultsfile\n",
    "with open(f\"../Results/esmc_600m_layer_comparison_{data_set_name_shortened}.csv\", \"r\") as f:\n",
    "    lines = f.readlines()[2:]\n",
    "results = []\n",
    "for line in lines:\n",
    "    line = line[:-1].split(\",\")\n",
    "    line[1] = int(float(line[1]))\n",
    "    line[3] = float(line[3])\n",
    "    line[4] = float(line[4])\n",
    "    results.append(line)\n",
    "\n",
    "models_tested = list(set([(result[0], result[2]) for result in results]))\n",
    "# print(models_tested)\n",
    "results = sorted(results, key=lambda x: x[1])\n",
    "print(results)"
   ],
   "outputs": [
    {
     "name": "stdout",
     "output_type": "stream",
     "text": [
      "[['xgboost', 1, ' tuned_hyperparams', 0.741, 0.215], ['lightgbm', 1, ' tuned_hyperparams', 0.755, 0.208], ['xgboost', 1, ' default_hyperparams', 0.73, 0.219], ['lightgbm', 1, ' default_hyperparams', 0.674, 0.239], ['rf', 1, ' default_hyperparams', 0.623, 0.264], ['adaboost', 1, ' default_hyperparams', 0.17, 0.385], ['xgboost', 2, ' tuned_hyperparams', 0.761, 0.207], ['lightgbm', 2, ' tuned_hyperparams', 0.783, 0.196], ['xgboost', 2, ' default_hyperparams', 0.759, 0.206], ['lightgbm', 2, ' default_hyperparams', 0.712, 0.228], ['rf', 2, ' default_hyperparams', 0.639, 0.253], ['adaboost', 2, ' default_hyperparams', 0.27, 0.363], ['xgboost', 3, ' tuned_hyperparams', 0.764, 0.206], ['lightgbm', 3, ' tuned_hyperparams', 0.786, 0.196], ['xgboost', 3, ' default_hyperparams', 0.756, 0.209], ['lightgbm', 3, ' default_hyperparams', 0.709, 0.231], ['rf', 3, ' default_hyperparams', 0.647, 0.251], ['adaboost', 3, ' default_hyperparams', 0.274, 0.359], ['xgboost', 4, ' tuned_hyperparams', 0.761, 0.206], ['lightgbm', 4, ' tuned_hyperparams', 0.777, 0.2], ['xgboost', 4, ' default_hyperparams', 0.757, 0.21], ['lightgbm', 4, ' default_hyperparams', 0.714, 0.228], ['rf', 4, ' default_hyperparams', 0.645, 0.252], ['adaboost', 4, ' default_hyperparams', 0.274, 0.364], ['xgboost', 5, ' tuned_hyperparams', 0.768, 0.202], ['lightgbm', 5, ' tuned_hyperparams', 0.772, 0.203], ['xgboost', 5, ' default_hyperparams', 0.755, 0.209], ['lightgbm', 5, ' default_hyperparams', 0.702, 0.231], ['rf', 5, ' default_hyperparams', 0.633, 0.258], ['adaboost', 5, ' default_hyperparams', 0.276, 0.361], ['xgboost', 6, ' tuned_hyperparams', 0.748, 0.212], ['lightgbm', 6, ' tuned_hyperparams', 0.761, 0.207], ['xgboost', 6, ' default_hyperparams', 0.749, 0.214], ['lightgbm', 6, ' default_hyperparams', 0.688, 0.236], ['rf', 6, ' default_hyperparams', 0.641, 0.251], ['adaboost', 6, ' default_hyperparams', 0.291, 0.357], ['xgboost', 7, ' tuned_hyperparams', 0.739, 0.219], ['lightgbm', 7, ' tuned_hyperparams', 0.755, 0.212], ['xgboost', 7, ' default_hyperparams', 0.743, 0.215], ['lightgbm', 7, ' default_hyperparams', 0.696, 0.237], ['rf', 7, ' default_hyperparams', 0.635, 0.257], ['adaboost', 7, ' default_hyperparams', 0.256, 0.363], ['xgboost', 8, ' tuned_hyperparams', 0.743, 0.214], ['lightgbm', 8, ' tuned_hyperparams', 0.765, 0.205], ['xgboost', 8, ' default_hyperparams', 0.738, 0.217], ['lightgbm', 8, ' default_hyperparams', 0.676, 0.238], ['rf', 8, ' default_hyperparams', 0.636, 0.253], ['adaboost', 8, ' default_hyperparams', 0.256, 0.362], ['xgboost', 9, ' tuned_hyperparams', 0.743, 0.212], ['lightgbm', 9, ' tuned_hyperparams', 0.76, 0.208], ['xgboost', 9, ' default_hyperparams', 0.745, 0.214], ['lightgbm', 9, ' default_hyperparams', 0.693, 0.235], ['rf', 9, ' default_hyperparams', 0.635, 0.255], ['adaboost', 9, ' default_hyperparams', 0.267, 0.359], ['xgboost', 10, ' tuned_hyperparams', 0.755, 0.21], ['lightgbm', 10, ' tuned_hyperparams', 0.77, 0.203], ['xgboost', 10, ' default_hyperparams', 0.749, 0.212], ['lightgbm', 10, ' default_hyperparams', 0.699, 0.233], ['rf', 10, ' default_hyperparams', 0.642, 0.253], ['adaboost', 10, ' default_hyperparams', 0.28, 0.357], ['xgboost', 11, ' tuned_hyperparams', 0.763, 0.204], ['lightgbm', 11, ' tuned_hyperparams', 0.777, 0.199], ['xgboost', 11, ' default_hyperparams', 0.763, 0.208], ['lightgbm', 11, ' default_hyperparams', 0.713, 0.226], ['rf', 11, ' default_hyperparams', 0.675, 0.244], ['adaboost', 11, ' default_hyperparams', 0.312, 0.35], ['xgboost', 12, ' tuned_hyperparams', 0.772, 0.202], ['lightgbm', 12, ' tuned_hyperparams', 0.788, 0.196], ['xgboost', 12, ' default_hyperparams', 0.783, 0.197], ['lightgbm', 12, ' default_hyperparams', 0.719, 0.223], ['rf', 12, ' default_hyperparams', 0.676, 0.239], ['adaboost', 12, ' default_hyperparams', 0.337, 0.347], ['xgboost', 13, ' tuned_hyperparams', 0.783, 0.197], ['lightgbm', 13, ' tuned_hyperparams', 0.782, 0.195], ['xgboost', 13, ' default_hyperparams', 0.773, 0.201], ['lightgbm', 13, ' default_hyperparams', 0.746, 0.215], ['rf', 13, ' default_hyperparams', 0.688, 0.239], ['adaboost', 13, ' default_hyperparams', 0.357, 0.339], ['xgboost', 14, ' tuned_hyperparams', 0.786, 0.195], ['lightgbm', 14, ' tuned_hyperparams', 0.804, 0.189], ['xgboost', 14, ' default_hyperparams', 0.777, 0.2], ['lightgbm', 14, ' default_hyperparams', 0.731, 0.216], ['rf', 14, ' default_hyperparams', 0.71, 0.23], ['adaboost', 14, ' default_hyperparams', 0.409, 0.325], ['xgboost', 15, ' tuned_hyperparams', 0.781, 0.196], ['lightgbm', 15, ' tuned_hyperparams', 0.801, 0.19], ['xgboost', 15, ' default_hyperparams', 0.773, 0.198], ['lightgbm', 15, ' default_hyperparams', 0.757, 0.206], ['rf', 15, ' default_hyperparams', 0.703, 0.231], ['adaboost', 15, ' default_hyperparams', 0.419, 0.322], ['xgboost', 16, ' tuned_hyperparams', 0.786, 0.195], ['lightgbm', 16, ' tuned_hyperparams', 0.796, 0.193], ['xgboost', 16, ' default_hyperparams', 0.789, 0.195], ['lightgbm', 16, ' default_hyperparams', 0.747, 0.213], ['rf', 16, ' default_hyperparams', 0.714, 0.225], ['adaboost', 16, ' default_hyperparams', 0.423, 0.327], ['xgboost', 17, ' tuned_hyperparams', 0.779, 0.197], ['lightgbm', 17, ' tuned_hyperparams', 0.791, 0.193], ['xgboost', 17, ' default_hyperparams', 0.786, 0.196], ['lightgbm', 17, ' default_hyperparams', 0.739, 0.215], ['rf', 17, ' default_hyperparams', 0.722, 0.226], ['adaboost', 17, ' default_hyperparams', 0.449, 0.313], ['xgboost', 18, ' tuned_hyperparams', 0.788, 0.196], ['lightgbm', 18, ' tuned_hyperparams', 0.791, 0.192], ['xgboost', 18, ' default_hyperparams', 0.767, 0.205], ['lightgbm', 18, ' default_hyperparams', 0.733, 0.217], ['rf', 18, ' default_hyperparams', 0.713, 0.225], ['adaboost', 18, ' default_hyperparams', 0.43, 0.321], ['xgboost', 19, ' tuned_hyperparams', 0.779, 0.2], ['lightgbm', 19, ' tuned_hyperparams', 0.781, 0.196], ['xgboost', 19, ' default_hyperparams', 0.782, 0.196], ['lightgbm', 19, ' default_hyperparams', 0.738, 0.217], ['rf', 19, ' default_hyperparams', 0.686, 0.236], ['adaboost', 19, ' default_hyperparams', 0.445, 0.317], ['xgboost', 20, ' tuned_hyperparams', 0.778, 0.2], ['lightgbm', 20, ' tuned_hyperparams', 0.782, 0.199], ['xgboost', 20, ' default_hyperparams', 0.773, 0.2], ['lightgbm', 20, ' default_hyperparams', 0.737, 0.219], ['rf', 20, ' default_hyperparams', 0.697, 0.233], ['adaboost', 20, ' default_hyperparams', 0.435, 0.314], ['xgboost', 21, ' tuned_hyperparams', 0.772, 0.203], ['lightgbm', 21, ' tuned_hyperparams', 0.784, 0.197], ['xgboost', 21, ' default_hyperparams', 0.762, 0.204], ['lightgbm', 21, ' default_hyperparams', 0.728, 0.222], ['rf', 21, ' default_hyperparams', 0.687, 0.234], ['adaboost', 21, ' default_hyperparams', 0.419, 0.322], ['xgboost', 22, ' tuned_hyperparams', 0.76, 0.206], ['lightgbm', 22, ' tuned_hyperparams', 0.791, 0.194], ['xgboost', 22, ' default_hyperparams', 0.759, 0.208], ['lightgbm', 22, ' default_hyperparams', 0.725, 0.221], ['rf', 22, ' default_hyperparams', 0.683, 0.24], ['adaboost', 22, ' default_hyperparams', 0.436, 0.319], ['xgboost', 23, ' tuned_hyperparams', 0.776, 0.202], ['lightgbm', 23, ' tuned_hyperparams', 0.769, 0.201], ['xgboost', 23, ' default_hyperparams', 0.752, 0.21], ['lightgbm', 23, ' default_hyperparams', 0.719, 0.224], ['rf', 23, ' default_hyperparams', 0.676, 0.242], ['adaboost', 23, ' default_hyperparams', 0.457, 0.312], ['xgboost', 24, ' tuned_hyperparams', 0.767, 0.204], ['lightgbm', 24, ' tuned_hyperparams', 0.769, 0.201], ['xgboost', 24, ' default_hyperparams', 0.75, 0.211], ['lightgbm', 24, ' default_hyperparams', 0.724, 0.221], ['rf', 24, ' default_hyperparams', 0.66, 0.247], ['adaboost', 24, ' default_hyperparams', 0.435, 0.318], ['xgboost', 25, ' tuned_hyperparams', 0.75, 0.215], ['lightgbm', 25, ' tuned_hyperparams', 0.765, 0.205], ['xgboost', 25, ' default_hyperparams', 0.76, 0.209], ['lightgbm', 25, ' default_hyperparams', 0.721, 0.225], ['rf', 25, ' default_hyperparams', 0.674, 0.244], ['adaboost', 25, ' default_hyperparams', 0.445, 0.317], ['xgboost', 26, ' tuned_hyperparams', 0.755, 0.208], ['lightgbm', 26, ' tuned_hyperparams', 0.767, 0.206], ['xgboost', 26, ' default_hyperparams', 0.763, 0.208], ['lightgbm', 26, ' default_hyperparams', 0.723, 0.221], ['rf', 26, ' default_hyperparams', 0.671, 0.245], ['adaboost', 26, ' default_hyperparams', 0.434, 0.319], ['xgboost', 27, ' tuned_hyperparams', 0.765, 0.205], ['lightgbm', 27, ' tuned_hyperparams', 0.773, 0.203], ['xgboost', 27, ' default_hyperparams', 0.761, 0.206], ['lightgbm', 27, ' default_hyperparams', 0.727, 0.221], ['rf', 27, ' default_hyperparams', 0.672, 0.243], ['adaboost', 27, ' default_hyperparams', 0.449, 0.315], ['xgboost', 28, ' tuned_hyperparams', 0.767, 0.205], ['lightgbm', 28, ' tuned_hyperparams', 0.765, 0.207], ['xgboost', 28, ' default_hyperparams', 0.756, 0.206], ['lightgbm', 28, ' default_hyperparams', 0.727, 0.222], ['rf', 28, ' default_hyperparams', 0.678, 0.24], ['adaboost', 28, ' default_hyperparams', 0.432, 0.317], ['xgboost', 29, ' tuned_hyperparams', 0.761, 0.206], ['lightgbm', 29, ' tuned_hyperparams', 0.775, 0.2], ['xgboost', 29, ' default_hyperparams', 0.773, 0.204], ['lightgbm', 29, ' default_hyperparams', 0.718, 0.226], ['rf', 29, ' default_hyperparams', 0.673, 0.241], ['adaboost', 29, ' default_hyperparams', 0.443, 0.315], ['xgboost', 30, ' tuned_hyperparams', 0.775, 0.203], ['lightgbm', 30, ' tuned_hyperparams', 0.772, 0.2], ['xgboost', 30, ' default_hyperparams', 0.766, 0.203], ['lightgbm', 30, ' default_hyperparams', 0.744, 0.215], ['rf', 30, ' default_hyperparams', 0.691, 0.234], ['adaboost', 30, ' default_hyperparams', 0.449, 0.313], ['xgboost', 31, ' tuned_hyperparams', 0.784, 0.196], ['lightgbm', 31, ' tuned_hyperparams', 0.795, 0.19], ['xgboost', 31, ' default_hyperparams', 0.779, 0.199], ['lightgbm', 31, ' default_hyperparams', 0.755, 0.21], ['rf', 31, ' default_hyperparams', 0.683, 0.238], ['adaboost', 31, ' default_hyperparams', 0.469, 0.31], ['xgboost', 32, ' tuned_hyperparams', 0.794, 0.191], ['lightgbm', 32, ' tuned_hyperparams', 0.81, 0.186], ['xgboost', 32, ' default_hyperparams', 0.787, 0.194], ['lightgbm', 32, ' default_hyperparams', 0.778, 0.204], ['rf', 32, ' default_hyperparams', 0.713, 0.226], ['adaboost', 32, ' default_hyperparams', 0.497, 0.302], ['xgboost', 33, ' tuned_hyperparams', 0.814, 0.182], ['lightgbm', 33, ' tuned_hyperparams', 0.826, 0.179], ['xgboost', 33, ' default_hyperparams', 0.821, 0.182], ['lightgbm', 33, ' default_hyperparams', 0.786, 0.195], ['rf', 33, ' default_hyperparams', 0.736, 0.217], ['adaboost', 33, ' default_hyperparams', 0.535, 0.29], ['xgboost', 34, ' tuned_hyperparams', 0.818, 0.179], ['lightgbm', 34, ' tuned_hyperparams', 0.829, 0.176], ['xgboost', 34, ' default_hyperparams', 0.828, 0.176], ['lightgbm', 34, ' default_hyperparams', 0.803, 0.188], ['rf', 34, ' default_hyperparams', 0.764, 0.205], ['adaboost', 34, ' default_hyperparams', 0.584, 0.271], ['xgboost', 35, ' tuned_hyperparams', 0.815, 0.182], ['lightgbm', 35, ' tuned_hyperparams', 0.83, 0.174], ['xgboost', 35, ' default_hyperparams', 0.817, 0.183], ['lightgbm', 35, ' default_hyperparams', 0.792, 0.193], ['rf', 35, ' default_hyperparams', 0.776, 0.202], ['adaboost', 35, ' default_hyperparams', 0.579, 0.277]]\n"
     ]
    }
   ],
   "execution_count": 11
  },
  {
   "cell_type": "code",
   "id": "9e7e05535b71506",
   "metadata": {
    "ExecuteTime": {
     "end_time": "2025-05-13T13:18:04.556890Z",
     "start_time": "2025-05-13T13:18:02.744294Z"
    }
   },
   "source": [
    "\"\"\"Display Results: Modelperformance for every Layer in esmc_600m\"\"\"\n",
    "\n",
    "from plotly.subplots import make_subplots\n",
    "import plotly.graph_objects as go\n",
    "\n",
    "results_plot = make_subplots(\n",
    "    rows=1, cols=1)\n",
    "\n",
    "colors = {\n",
    "    ('xgboost', ' default_hyperparams'): \"cyan\",\n",
    "    ('xgboost', ' tuned_hyperparams'): \"darkcyan\",\n",
    "    ('rf', ' default_hyperparams'): \"yellow\",\n",
    "    ('lightgbm', ' default_hyperparams'): \"red\",\n",
    "    ('lightgbm', ' tuned_hyperparams'): \"darkred\",\n",
    "    ('adaboost', ' default_hyperparams'): \"grey\"\n",
    "}\n",
    "\n",
    "for i, model in enumerate(models_tested):\n",
    "    x= [result[1] for result in results if result[0] in model and result[2] in model]\n",
    "    y= [result[3] for result in results if result[0] in model and result[2] in model]\n",
    "\n",
    "    results_plot.append_trace(\n",
    "        go.Scatter(name=\"_\".join(model),\n",
    "                   x=x,\n",
    "                   y=y,\n",
    "                   marker=dict(color=colors[model], size=3),\n",
    "                   mode=\"lines\"), row=1, col=1)\n",
    "\n",
    "#\n",
    "results_plot.update_layout(\n",
    "    title_text=f\"Performance of selected tested models for {data_set} Dataset for all sequence representation layers for {method}.\",\n",
    "    title_font=dict(color=\"black\", size=20),\n",
    "    showlegend=True,\n",
    "    paper_bgcolor='rgb(233,233,233)',\n",
    "    plot_bgcolor='rgb(233,233,233)',\n",
    "    width=1400,\n",
    "    height=1000,\n",
    "    legend=dict(font=dict(color=\"black\",\n",
    "                          size=12)))\n",
    "#\n",
    "results_plot.update_yaxes(\n",
    "    dict(\n",
    "        title_text=\"R2 Performance\",\n",
    "        title_font=dict(color=\"black\"),\n",
    "        range=[0, 1],\n",
    "        color='black',\n",
    "        showgrid=True,\n",
    "        gridcolor='grey',\n",
    "        griddash=\"dot\",\n",
    "        dtick=0.1,\n",
    "        gridwidth=1)\n",
    ")\n",
    "\n",
    "results_plot.update_xaxes(\n",
    "    dict(\n",
    "        title_text=\"cycles\",\n",
    "        title_font=dict(color=\"black\"),\n",
    "        range=[1, 35],\n",
    "        color='black',\n",
    "        showgrid=True,\n",
    "        gridcolor='grey',\n",
    "        dtick=1,\n",
    "        griddash=\"dot\",\n",
    "        gridwidth=1)\n",
    ")\n",
    "\n",
    "import plotly.io as pio\n",
    "\n",
    "pio.renderers.default = \"browser\"\n",
    "with HiddenWarnings():\n",
    "    results_plot.show()\n",
    "\n",
    "import kaleido\n",
    "results_plot.write_image(f\"ESMC_600m_layer_comparison_{data_set_name_shortened}.jpg\")"
   ],
   "outputs": [
    {
     "name": "stderr",
     "output_type": "stream",
     "text": [
      "Gtk-Message: 15:18:03.705: Not loading module \"atk-bridge\": The functionality is provided by GTK natively. Please try to not load it.\n",
      "[255482, Main Thread] WARNING: GTK+ module /snap/firefox/6103/gnome-platform/usr/lib/gtk-2.0/modules/libcanberra-gtk-module.so cannot be loaded.\n",
      "GTK+ 2.x symbols detected. Using GTK+ 2.x and GTK+ 3 in the same process is not supported.: 'glib warning', file /build/firefox/parts/firefox/build/toolkit/xre/nsSigHandlers.cpp:201\n",
      "\n",
      "(firefox_firefox:255482): Gtk-WARNING **: 15:18:03.755: GTK+ module /snap/firefox/6103/gnome-platform/usr/lib/gtk-2.0/modules/libcanberra-gtk-module.so cannot be loaded.\n",
      "GTK+ 2.x symbols detected. Using GTK+ 2.x and GTK+ 3 in the same process is not supported.\n",
      "Gtk-Message: 15:18:03.755: Failed to load module \"canberra-gtk-module\"\n",
      "[255482, Main Thread] WARNING: GTK+ module /snap/firefox/6103/gnome-platform/usr/lib/gtk-2.0/modules/libcanberra-gtk-module.so cannot be loaded.\n",
      "GTK+ 2.x symbols detected. Using GTK+ 2.x and GTK+ 3 in the same process is not supported.: 'glib warning', file /build/firefox/parts/firefox/build/toolkit/xre/nsSigHandlers.cpp:201\n",
      "\n",
      "(firefox_firefox:255482): Gtk-WARNING **: 15:18:03.756: GTK+ module /snap/firefox/6103/gnome-platform/usr/lib/gtk-2.0/modules/libcanberra-gtk-module.so cannot be loaded.\n",
      "GTK+ 2.x symbols detected. Using GTK+ 2.x and GTK+ 3 in the same process is not supported.\n",
      "Gtk-Message: 15:18:03.756: Failed to load module \"canberra-gtk-module\"\n"
     ]
    }
   ],
   "execution_count": 12
  }
 ],
 "metadata": {
  "kernelspec": {
   "display_name": "MAP",
   "language": "python",
   "name": "python3"
  },
  "language_info": {
   "codemirror_mode": {
    "name": "ipython",
    "version": 3
   },
   "file_extension": ".py",
   "mimetype": "text/x-python",
   "name": "python",
   "nbconvert_exporter": "python",
   "pygments_lexer": "ipython3",
   "version": "3.12.9"
  }
 },
 "nbformat": 4,
 "nbformat_minor": 5
}
