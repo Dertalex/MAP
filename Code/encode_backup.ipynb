{
 "cells": [
  {
   "cell_type": "code",
   "id": "initial_id",
   "metadata": {
    "collapsed": true,
    "ExecuteTime": {
     "end_time": "2025-02-21T16:08:09.514306Z",
     "start_time": "2025-02-21T16:08:09.512671Z"
    }
   },
   "source": [
    "import src.generate_encodings as ge\n",
    "import src.prediction_models as pm\n",
    "import tqdm\n",
    "import os, sys\n",
    "import ast\n",
    "import torch\n"
   ],
   "outputs": [],
   "execution_count": 9
  },
  {
   "metadata": {
    "ExecuteTime": {
     "end_time": "2025-02-21T16:07:02.205423Z",
     "start_time": "2025-02-21T16:07:01.238210Z"
    }
   },
   "cell_type": "code",
   "source": [
    "import_data = \"../Data/HIS7_YEAST_Pokusaeva_2019.csv\"\n",
    "input_data = []\n",
    "with open(import_data, \"r\") as infile:\n",
    "    for line in infile.readlines():\n",
    "        input_data.append(line[:-1].split(\",\"))\n"
   ],
   "id": "48fff39a67af6cf7",
   "outputs": [],
   "execution_count": 3
  },
  {
   "metadata": {
    "ExecuteTime": {
     "end_time": "2025-02-21T16:08:44.921942Z",
     "start_time": "2025-02-21T16:08:44.827359Z"
    }
   },
   "cell_type": "code",
   "source": [
    "embedding_methods = [\"esmc_600m\"]\n",
    "to_encode = [line[1] for line in input_data[1:]]\n",
    "encoding_tuples = []\n",
    "for i, sequence in enumerate(to_encode):\n",
    "    encoding_tuples.append((i, sequence))\n"
   ],
   "id": "f0936ff744ed9919",
   "outputs": [],
   "execution_count": 10
  },
  {
   "metadata": {
    "ExecuteTime": {
     "end_time": "2025-02-21T16:10:56.533256Z",
     "start_time": "2025-02-21T16:08:54.335092Z"
    }
   },
   "cell_type": "code",
   "source": [
    "import math\n",
    "batch_size = 50\n",
    "n_batches = math.ceil(len(to_encode) / batch_size)\n",
    "for e_type in embedding_methods:\n",
    "    pad = 1 + math.floor(math.log(len(to_encode), 10))\n",
    "    with tqdm.tqdm(total=n_batches) as pbar:\n",
    "\n",
    "        for i in range(0, len(encoding_tuples), batch_size):\n",
    "            batch = encoding_tuples[i:i + batch_size]\n",
    "            batch_sequences = [sequence[1] for sequence in batch]\n",
    "            batch_indices = [index[0] for index in batch]\n",
    "            encodings = ge.generate_sequence_encodings(method=e_type, sequences=batch_sequences)\n",
    "            for i, encoding in encodings:\n",
    "                outfile = f\"{batch_indices[i]:0{pad}d}\"\n",
    "                torch.save(encoding, f\"../Data/Embeddings/HIS7_YEAST_Pokusaeva_2019/{e_type}/{outfile}\", _use_new_zipfile_serialization=False)\n",
    "        pbar.update(1)\n"
   ],
   "id": "2865a84f0135e387",
   "outputs": [
    {
     "name": "stderr",
     "output_type": "stream",
     "text": [
      "  0%|          | 0/9923 [00:00<?, ?it/s]/tmp/ipykernel_42514/702746486.py:10: RuntimeWarning: assigning None to unbound local 'index'\n",
      "  batch_indices = [index[0] for index in encoding_tuples[i:i + batch_size]]\n",
      "/tmp/ipykernel_42514/702746486.py:10: RuntimeWarning: assigning None to unbound local 'index'\n",
      "  batch_indices = [index[0] for index in encoding_tuples[i:i + batch_size]]\n",
      "  0%|          | 0/9923 [01:52<?, ?it/s]\n"
     ]
    },
    {
     "ename": "TypeError",
     "evalue": "'NoneType' object is not iterable",
     "output_type": "error",
     "traceback": [
      "\u001B[0;31m---------------------------------------------------------------------------\u001B[0m",
      "\u001B[0;31mTypeError\u001B[0m                                 Traceback (most recent call last)",
      "Cell \u001B[0;32mIn[12], line 12\u001B[0m\n\u001B[1;32m     10\u001B[0m batch_indices \u001B[38;5;241m=\u001B[39m [index[\u001B[38;5;241m0\u001B[39m] \u001B[38;5;28;01mfor\u001B[39;00m index \u001B[38;5;129;01min\u001B[39;00m encoding_tuples[i:i \u001B[38;5;241m+\u001B[39m batch_size]]\n\u001B[1;32m     11\u001B[0m encodings \u001B[38;5;241m=\u001B[39m ge\u001B[38;5;241m.\u001B[39mgenerate_sequence_encodings(method\u001B[38;5;241m=\u001B[39me_type, sequences\u001B[38;5;241m=\u001B[39mbatch_sequences)\n\u001B[0;32m---> 12\u001B[0m \u001B[43m\u001B[49m\u001B[38;5;28;43;01mfor\u001B[39;49;00m\u001B[43m \u001B[49m\u001B[43mi\u001B[49m\u001B[43m,\u001B[49m\u001B[43m \u001B[49m\u001B[43mencoding\u001B[49m\u001B[43m \u001B[49m\u001B[38;5;129;43;01min\u001B[39;49;00m\u001B[43m \u001B[49m\u001B[43mencodings\u001B[49m\u001B[43m:\u001B[49m\n\u001B[1;32m     13\u001B[0m \u001B[43m    \u001B[49m\u001B[43moutfile\u001B[49m\u001B[43m \u001B[49m\u001B[38;5;241;43m=\u001B[39;49m\u001B[43m \u001B[49m\u001B[38;5;124;43mf\u001B[39;49m\u001B[38;5;124;43m\"\u001B[39;49m\u001B[38;5;132;43;01m{\u001B[39;49;00m\u001B[43mbatch_indices\u001B[49m\u001B[43m[\u001B[49m\u001B[43mi\u001B[49m\u001B[43m]\u001B[49m\u001B[38;5;132;43;01m:\u001B[39;49;00m\u001B[38;5;124;43m0\u001B[39;49m\u001B[38;5;132;43;01m{\u001B[39;49;00m\u001B[43mpad\u001B[49m\u001B[38;5;132;43;01m}\u001B[39;49;00m\u001B[38;5;124;43md\u001B[39;49m\u001B[38;5;132;43;01m}\u001B[39;49;00m\u001B[38;5;124;43m\"\u001B[39;49m\n\u001B[1;32m     14\u001B[0m \u001B[43m    \u001B[49m\u001B[43mtorch\u001B[49m\u001B[38;5;241;43m.\u001B[39;49m\u001B[43msave\u001B[49m\u001B[43m(\u001B[49m\u001B[43mencoding\u001B[49m\u001B[43m,\u001B[49m\u001B[43m \u001B[49m\u001B[38;5;124;43mf\u001B[39;49m\u001B[38;5;124;43m\"\u001B[39;49m\u001B[38;5;124;43m../Data/Embeddings/HIS7_YEAST_Pokusaeva_2019/\u001B[39;49m\u001B[38;5;132;43;01m{\u001B[39;49;00m\u001B[43me_type\u001B[49m\u001B[38;5;132;43;01m}\u001B[39;49;00m\u001B[38;5;124;43m/\u001B[39;49m\u001B[38;5;132;43;01m{\u001B[39;49;00m\u001B[43moutfile\u001B[49m\u001B[38;5;132;43;01m}\u001B[39;49;00m\u001B[38;5;124;43m\"\u001B[39;49m\u001B[43m,\u001B[49m\u001B[43m \u001B[49m\u001B[43m_use_new_zipfile_serialization\u001B[49m\u001B[38;5;241;43m=\u001B[39;49m\u001B[38;5;28;43;01mFalse\u001B[39;49;00m\u001B[43m)\u001B[49m\n",
      "\u001B[0;31mTypeError\u001B[0m: 'NoneType' object is not iterable"
     ]
    }
   ],
   "execution_count": 12
  }
 ],
 "metadata": {
  "kernelspec": {
   "display_name": "Python 3",
   "language": "python",
   "name": "python3"
  },
  "language_info": {
   "codemirror_mode": {
    "name": "ipython",
    "version": 2
   },
   "file_extension": ".py",
   "mimetype": "text/x-python",
   "name": "python",
   "nbconvert_exporter": "python",
   "pygments_lexer": "ipython2",
   "version": "2.7.6"
  }
 },
 "nbformat": 4,
 "nbformat_minor": 5
}
