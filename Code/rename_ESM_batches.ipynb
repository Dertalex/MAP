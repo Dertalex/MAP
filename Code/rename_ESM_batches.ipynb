{
 "cells": [
  {
   "cell_type": "code",
   "id": "initial_id",
   "metadata": {
    "collapsed": true,
    "ExecuteTime": {
     "end_time": "2025-02-13T14:33:31.489038Z",
     "start_time": "2025-02-13T14:33:29.384637Z"
    }
   },
   "source": [
    "import src.generate_encodings as ge\n",
    "import src.prediction_models as pm\n",
    "import tqdm\n",
    "import os, sys\n",
    "from joblib import parallel_backend\n",
    "import ast\n",
    "import sys\n",
    "import math"
   ],
   "outputs": [
    {
     "name": "stderr",
     "output_type": "stream",
     "text": [
      "/opt/conda/conda/envs/MAP/lib/python3.12/site-packages/tqdm/auto.py:21: TqdmWarning: IProgress not found. Please update jupyter and ipywidgets. See https://ipywidgets.readthedocs.io/en/stable/user_install.html\n",
      "  from .autonotebook import tqdm as notebook_tqdm\n"
     ]
    }
   ],
   "execution_count": 1
  },
  {
   "cell_type": "code",
   "id": "9cdfd7558e5b447f",
   "metadata": {
    "ExecuteTime": {
     "end_time": "2025-02-13T14:33:32.335666Z",
     "start_time": "2025-02-13T14:33:32.333837Z"
    }
   },
   "source": [
    "# for pLM in [\"esm2_650M\", \"esm1b\"]:\n",
    "\n",
    "pLM = \"esm1b\"\n",
    "path_to_batches =  f\"../../Data/Embeddings/HIS7_YEAST_Pokusaeva_2019/{pLM}/\"\n",
    "batches = os.listdir(path_to_batches)"
   ],
   "outputs": [],
   "execution_count": 2
  },
  {
   "cell_type": "code",
   "id": "e9dda2b84674fa5c",
   "metadata": {
    "ExecuteTime": {
     "end_time": "2025-02-13T14:12:00.779827Z",
     "start_time": "2025-02-13T14:12:00.775930Z"
    }
   },
   "source": [
    "#pad Patches is necessary:\n",
    "\n",
    "l_batches = len(batches)\n",
    "pad = 1+ math.floor(math.log(l_batches, 10))\n",
    "for i, batch in enumerate(batches):\n",
    "    suffix = batch.split(\"_\")[-1]\n",
    "    batch_padded = f\"batch_{int(i+1):0{pad}d}\"\n",
    "    old_file_name = os.path.join(path_to_batches,batch)\n",
    "    new_file_name = os.path.join(path_to_batches,batch_padded)\n",
    "    os.rename(old_file_name,new_file_name)"
   ],
   "outputs": [],
   "execution_count": 4
  },
  {
   "cell_type": "code",
   "execution_count": 5,
   "id": "9542ded9ead2624c",
   "metadata": {
    "ExecuteTime": {
     "end_time": "2025-02-11T10:17:31.330711Z",
     "start_time": "2025-02-11T10:17:23.883780Z"
    }
   },
   "outputs": [
    {
     "name": "stdout",
     "output_type": "stream",
     "text": [
      "batch_001\n",
      "../Data/Encodings/HIS7_YEAST_Pokusaeva_2019/esm1b/batch_001\n",
      "0997\n",
      "batch_002\n",
      "../Data/Encodings/HIS7_YEAST_Pokusaeva_2019/esm1b/batch_002\n",
      "06836\n",
      "batch_003\n",
      "../Data/Encodings/HIS7_YEAST_Pokusaeva_2019/esm1b/batch_003\n",
      "06836\n"
     ]
    }
   ],
   "source": [
    "#pad Patches is necessary:\n",
    "batches = sorted(os.listdir(path_to_batches))\n",
    "for batch in batches[:3]:\n",
    "    path_to_batch = os.path.join(path_to_batches,batch)\n",
    "    for embedding in os.listdir(path_to_batch):\n",
    "        l_batch = len(os.listdir(path_to_batch))\n",
    "        pad = 1+math.floor(math.log(l_batch,10))\n",
    "        embedding_padded = f\"{int(embedding):0{pad}d}\"\n",
    "\n",
    "        old_file_name = os.path.join(path_to_batch,embedding)\n",
    "        new_file_name = os.path.join(path_to_batch, embedding_padded)\n",
    "        os.rename(old_file_name,new_file_name)"
   ]
  },
  {
   "metadata": {
    "ExecuteTime": {
     "end_time": "2025-02-13T14:35:30.411180Z",
     "start_time": "2025-02-13T14:34:18.678976Z"
    }
   },
   "cell_type": "code",
   "source": [
    "encodings = []\n",
    "batches = sorted(os.listdir(path_to_batches))\n",
    "for batch in batches:\n",
    "    encodings += ge.load_encodings(os.path.join(path_to_batches,batch))"
   ],
   "id": "25341f7bbcec45ac",
   "outputs": [],
   "execution_count": 4
  }
 ],
 "metadata": {
  "kernelspec": {
   "display_name": "MAP",
   "language": "python",
   "name": "python3"
  },
  "language_info": {
   "codemirror_mode": {
    "name": "ipython",
    "version": 3
   },
   "file_extension": ".py",
   "mimetype": "text/x-python",
   "name": "python",
   "nbconvert_exporter": "python",
   "pygments_lexer": "ipython3",
   "version": "3.12.0"
  }
 },
 "nbformat": 4,
 "nbformat_minor": 5
}
