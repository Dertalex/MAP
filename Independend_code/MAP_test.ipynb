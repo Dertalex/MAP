{
 "cells": [
  {
   "cell_type": "code",
   "id": "initial_id",
   "metadata": {
    "collapsed": true,
    "ExecuteTime": {
     "end_time": "2024-12-19T15:30:04.834899Z",
     "start_time": "2024-12-19T15:30:03.735840Z"
    }
   },
   "source": [
    "import os\n",
    "import sys\n",
    "import generate_encodings as ge\n",
    "import prediction_models as pm\n",
    "import numpy as np"
   ],
   "outputs": [],
   "execution_count": 1
  },
  {
   "metadata": {
    "ExecuteTime": {
     "end_time": "2024-12-19T15:30:04.839821Z",
     "start_time": "2024-12-19T15:30:04.837700Z"
    }
   },
   "cell_type": "code",
   "source": [
    "# will initiate storage space - else in memory\n",
    "import_data = \"../data/NOD.csv\"\n",
    "input_data = []\n",
    "with open(import_data, \"r\") as infile:\n",
    "    for line in infile.readlines():\n",
    "        input_data.append(line[:-1].split(\",\"))"
   ],
   "id": "689c486d623f961e",
   "outputs": [],
   "execution_count": 2
  },
  {
   "metadata": {
    "ExecuteTime": {
     "end_time": "2024-12-19T15:30:25.466829Z",
     "start_time": "2024-12-19T15:30:04.886146Z"
    }
   },
   "cell_type": "code",
   "source": [
    "to_encode = [line[0] for line in input_data[1:]]\n",
    "# print(to_encode)\n",
    "encodings = ge.generate_sequence_encodings(method=\"esm1b\", sequences=to_encode)\n",
    "# print(ohe_encodings[0])"
   ],
   "id": "aa2d741850e626f2",
   "outputs": [],
   "execution_count": 3
  },
  {
   "metadata": {
    "ExecuteTime": {
     "end_time": "2024-12-19T15:31:07.215609Z",
     "start_time": "2024-12-19T15:31:07.213908Z"
    }
   },
   "cell_type": "code",
   "source": [
    "for i, encoding in enumerate(encodings):\n",
    "    # index i+1 because of header line, [0] to replace the sequence line\n",
    "    input_data[i+1][0] = encoding\n"
   ],
   "id": "48fff39a67af6cf7",
   "outputs": [],
   "execution_count": 6
  },
  {
   "metadata": {
    "ExecuteTime": {
     "end_time": "2024-12-19T15:31:33.756838Z",
     "start_time": "2024-12-19T15:31:16.842399Z"
    }
   },
   "cell_type": "code",
   "source": [
    "rf_model = pm.ActivityPredictor(model_type = \"rf\",data = input_data, x_column_index = 0, y_column_index = 2, seed=42)\n",
    "rf_model.train_scikit_model()\n"
   ],
   "id": "f908ba921db4190f",
   "outputs": [
    {
     "name": "stdout",
     "output_type": "stream",
     "text": [
      "R^2 : -0.07888522878897253, RSME 0.2818714077712939\n"
     ]
    }
   ],
   "execution_count": 7
  },
  {
   "metadata": {},
   "cell_type": "markdown",
   "source": "",
   "id": "f474068ad3bbee23"
  },
  {
   "metadata": {
    "ExecuteTime": {
     "end_time": "2024-12-19T15:30:42.164749Z",
     "start_time": "2024-12-19T15:30:42.163553Z"
    }
   },
   "cell_type": "code",
   "source": "",
   "id": "2fa8f66644b681c4",
   "outputs": [],
   "execution_count": null
  }
 ],
 "metadata": {
  "kernelspec": {
   "display_name": "Python 3",
   "language": "python",
   "name": "python3"
  },
  "language_info": {
   "codemirror_mode": {
    "name": "ipython",
    "version": 2
   },
   "file_extension": ".py",
   "mimetype": "text/x-python",
   "name": "python",
   "nbconvert_exporter": "python",
   "pygments_lexer": "ipython2",
   "version": "2.7.6"
  }
 },
 "nbformat": 4,
 "nbformat_minor": 5
}
