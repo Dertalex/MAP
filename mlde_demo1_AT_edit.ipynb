{
 "cells": [
  {
   "cell_type": "code",
   "id": "initial_id",
   "metadata": {
    "collapsed": true
   },
   "source": [
    "import os\n",
    "import sys\n",
    "\n",
    "\"\"\"\n",
    "Prediction Script for the proteusAI MLDE package.\n",
    "This script is based on the proteus mlde_demo-file and therefore uses proteusAI libraries and requires the proteusAI environment to be activated.\n",
    "To install and create the proteusAI environment, please follow the instructions in the proteusAI documentation at:\n",
    "    https://github.com/jonfunk21/ProteusAI\n",
    "\n",
    "The script is designed to be run in a Jupyter Notebook or as a standalone Python script.\n",
    "It uses a labeled csv-file as input, including at least the sequence and the label columns. A name or description column for the provided AA-sequence is not mandatory but highly recommended, since proteus requires a \"names_column\" for a description.\n",
    "\n",
    "The output is a dataframe with the training results and the predicted labels for the input data.\"\"\"\n",
    "\n",
    "# os.system(\"conda init bash\")\n",
    "# os.system(\"conda activate proteusAI\")\n",
    "import proteusAI as pai\n",
    "\n",
    "print(os.getcwd())\n",
    "sys.path.append(\"src/\")"
   ],
   "outputs": [],
   "execution_count": null
  },
  {
   "metadata": {},
   "cell_type": "code",
   "source": [
    "# will initiate storage space - else in memory\n",
    "dataset = \"NOD_AT_edit.csv\"\n",
    "y_column = \"Data\""
   ],
   "id": "689c486d623f961e",
   "outputs": [],
   "execution_count": null
  },
  {
   "metadata": {},
   "cell_type": "code",
   "source": [
    "# load data from csv or excel: x should be sequences, y should be labels, y_type class or num\n",
    "library = pai.Library(\n",
    "    source=dataset,\n",
    "    seqs_col=\"Sequence\",\n",
    "    y_col=y_column,\n",
    "    y_type=\"num\",\n",
    "    names_col=\"Description\",\n",
    ")"
   ],
   "id": "aa2d741850e626f2",
   "outputs": [],
   "execution_count": null
  },
  {
   "metadata": {},
   "cell_type": "code",
   "source": [
    "# proteus includes the following encoding methods: \"esm1v\", \"esm2\", \"esm2_650M\", \"esm2_150M\", \"esm2_35M\", \"esm2_8M\", \"ohe\", \"blosum62\", \"blosum50\" and \"vae\"\n",
    "# compute and save ESM-2 representations at example_lib/representations/esm2\n",
    "library.compute(method=\"ohe\", batch_size=10)\n"
   ],
   "id": "48fff39a67af6cf7",
   "outputs": [],
   "execution_count": null
  },
  {
   "metadata": {},
   "cell_type": "code",
   "source": [
    "\n",
    "# proteus includes the following model types: \"rf\", \"knn\", \"svm\", \"ffnn\", \"ridge\", \"gp\" and for clustering: \"hdbscan\"\n",
    "# possible in memory representations (x): \"ohe\", \"blosum50\", \"blosum62\"\n",
    "model = pai.Model(library=library, k_folds=5, model_type=\"rf\", x=\"blosum62\")\n",
    "\n",
    "# train model\n",
    "model.train()"
   ],
   "id": "f908ba921db4190f",
   "outputs": [],
   "execution_count": null
  },
  {
   "metadata": {},
   "cell_type": "code",
   "source": [
    "training_df = model.out_df\n",
    "print(training_df)"
   ],
   "id": "9fbb2e11d07a3ecf",
   "outputs": [],
   "execution_count": null
  },
  {
   "metadata": {},
   "cell_type": "code",
   "source": [
    "outpath = \"test/demo_results/\"\n",
    "if not os.path.exists(outpath):\n",
    "    os.makedirs(outpath, exist_ok=True)\n",
    "training_df.to_csv(os.path.join(outpath, \"training_test_results.csv\"))"
   ],
   "id": "bba7ae7cb3e34e87",
   "outputs": [],
   "execution_count": null
  },
  {
   "metadata": {},
   "cell_type": "code",
   "source": [
    "# search for new mutants\n",
    "# out_search = model.search(optim_problem=\"max\")"
   ],
   "id": "c8454b537aa5211b",
   "outputs": [],
   "execution_count": null
  },
  {
   "metadata": {},
   "cell_type": "code",
   "source": [
    "# save searching results\n",
    "# outpath = \"test/results/\"\n",
    "# if not os.path.exists(outpath):\n",
    "#     os.makedirs(outpath, exist_ok=True)\n",
    "#\n",
    "# out_search.to_csv(os.path.join(outpath, \"results.csv\"))"
   ],
   "id": "e0035a94ca472113",
   "outputs": [],
   "execution_count": null
  }
 ],
 "metadata": {
  "kernelspec": {
   "display_name": "Python 3",
   "language": "python",
   "name": "python3"
  },
  "language_info": {
   "codemirror_mode": {
    "name": "ipython",
    "version": 2
   },
   "file_extension": ".py",
   "mimetype": "text/x-python",
   "name": "python",
   "nbconvert_exporter": "python",
   "pygments_lexer": "ipython2",
   "version": "2.7.6"
  }
 },
 "nbformat": 4,
 "nbformat_minor": 5
}
