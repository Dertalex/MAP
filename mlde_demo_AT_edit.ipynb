{
 "cells": [
  {
   "cell_type": "code",
   "id": "initial_id",
   "metadata": {
    "collapsed": true,
    "ExecuteTime": {
     "end_time": "2024-12-12T10:35:29.725978Z",
     "start_time": "2024-12-12T10:35:29.723452Z"
    }
   },
   "source": [
    "import os\n",
    "import sys\n",
    "\n",
    "\"\"\"\n",
    "Prediction Script for the proteusAI MLDE package.\n",
    "This script is based on the proteus mlde_demo-file and therefore uses proteusAI libraries and requires the proteusAI environment to be activated.\n",
    "To install and create the proteusAI environment, please follow the instructions in the proteusAI documentation at:\n",
    "    https://github.com/jonfunk21/ProteusAI\n",
    "\n",
    "The script is designed to be run in a Jupyter Notebook or as a standalone Python script.\n",
    "It uses a labeled csv-file as input, including at least the sequence and the label columns. A name or description column for the provided AA-sequence is not mandatory but highly recommended, since proteus requires a \"names_column\" for a description.\n",
    "\n",
    "The output is a dataframe with the training results and the predicted labels for the input data.\"\"\"\n",
    "\n",
    "# os.system(\"conda init bash\")\n",
    "# os.system(\"conda activate proteusAI\")\n",
    "import proteusAI as pai\n",
    "\n",
    "print(os.getcwd())\n",
    "sys.path.append(\"src/\")"
   ],
   "outputs": [
    {
     "name": "stdout",
     "output_type": "stream",
     "text": [
      "/home/iwe80/Documents/Enzyme_Activity_Prediction/02_Playground/MAP\n"
     ]
    }
   ],
   "execution_count": 24
  },
  {
   "metadata": {
    "ExecuteTime": {
     "end_time": "2024-12-12T10:35:29.769275Z",
     "start_time": "2024-12-12T10:35:29.767386Z"
    }
   },
   "cell_type": "code",
   "source": [
    "# will initiate storage space - else in memory\n",
    "dataset = \"data/NOD_AT_edit.csv\"\n",
    "y_column = \"Data\""
   ],
   "id": "689c486d623f961e",
   "outputs": [],
   "execution_count": 25
  },
  {
   "metadata": {
    "ExecuteTime": {
     "end_time": "2024-12-12T10:35:29.836342Z",
     "start_time": "2024-12-12T10:35:29.826873Z"
    }
   },
   "cell_type": "code",
   "source": [
    "# load data from csv or excel: x should be sequences, y should be labels, y_type class or num\n",
    "library = pai.Library(\n",
    "    source=dataset,\n",
    "    seqs_col=\"Sequence\",\n",
    "    y_col=y_column,\n",
    "    y_type=\"num\",\n",
    "    names_col=\"Description\",\n",
    ")"
   ],
   "id": "aa2d741850e626f2",
   "outputs": [],
   "execution_count": 26
  },
  {
   "metadata": {
    "ExecuteTime": {
     "end_time": "2024-12-12T12:40:13.898663Z",
     "start_time": "2024-12-12T10:43:26.373002Z"
    }
   },
   "cell_type": "code",
   "source": [
    "# proteus includes the following encoding methods: \"esm1v\", \"esm2\", \"esm2_650M\", \"esm2_150M\", \"esm2_35M\", \"esm2_8M\", \"ohe\", \"blosum62\", \"blosum50\" and \"vae (variational autoencoder)\"\n",
    "# compute and save ESM-2 representations at example_lib/representations/esm2\n",
    "library.compute(method=\"ohe\", batch_size=10)\n"
   ],
   "id": "48fff39a67af6cf7",
   "outputs": [
    {
     "ename": "KeyboardInterrupt",
     "evalue": "",
     "output_type": "error",
     "traceback": [
      "\u001B[0;31m---------------------------------------------------------------------------\u001B[0m",
      "\u001B[0;31mKeyboardInterrupt\u001B[0m                         Traceback (most recent call last)",
      "Cell \u001B[0;32mIn[36], line 3\u001B[0m\n\u001B[1;32m      1\u001B[0m \u001B[38;5;66;03m# proteus includes the following encoding methods: \"esm1v\", \"esm2\", \"esm2_650M\", \"esm2_150M\", \"esm2_35M\", \"esm2_8M\", \"ohe\", \"blosum62\", \"blosum50\" and \"vae\"\u001B[39;00m\n\u001B[1;32m      2\u001B[0m \u001B[38;5;66;03m# compute and save ESM-2 representations at example_lib/representations/esm2\u001B[39;00m\n\u001B[0;32m----> 3\u001B[0m \u001B[43mlibrary\u001B[49m\u001B[38;5;241m.\u001B[39mcompute(method\u001B[38;5;241m=\u001B[39m\u001B[38;5;124m\"\u001B[39m\u001B[38;5;124mohe\u001B[39m\u001B[38;5;124m\"\u001B[39m, batch_size\u001B[38;5;241m=\u001B[39m\u001B[38;5;241m10\u001B[39m)\n",
      "Cell \u001B[0;32mIn[36], line 3\u001B[0m\n\u001B[1;32m      1\u001B[0m \u001B[38;5;66;03m# proteus includes the following encoding methods: \"esm1v\", \"esm2\", \"esm2_650M\", \"esm2_150M\", \"esm2_35M\", \"esm2_8M\", \"ohe\", \"blosum62\", \"blosum50\" and \"vae\"\u001B[39;00m\n\u001B[1;32m      2\u001B[0m \u001B[38;5;66;03m# compute and save ESM-2 representations at example_lib/representations/esm2\u001B[39;00m\n\u001B[0;32m----> 3\u001B[0m \u001B[43mlibrary\u001B[49m\u001B[38;5;241m.\u001B[39mcompute(method\u001B[38;5;241m=\u001B[39m\u001B[38;5;124m\"\u001B[39m\u001B[38;5;124mohe\u001B[39m\u001B[38;5;124m\"\u001B[39m, batch_size\u001B[38;5;241m=\u001B[39m\u001B[38;5;241m10\u001B[39m)\n",
      "File \u001B[0;32m/snap/pycharm-professional/440/plugins/python-ce/helpers/pydev/_pydevd_bundle/pydevd_frame.py:755\u001B[0m, in \u001B[0;36mPyDBFrame.trace_dispatch\u001B[0;34m(self, frame, event, arg)\u001B[0m\n\u001B[1;32m    753\u001B[0m \u001B[38;5;66;03m# if thread has a suspend flag, we suspend with a busy wait\u001B[39;00m\n\u001B[1;32m    754\u001B[0m \u001B[38;5;28;01mif\u001B[39;00m info\u001B[38;5;241m.\u001B[39mpydev_state \u001B[38;5;241m==\u001B[39m STATE_SUSPEND:\n\u001B[0;32m--> 755\u001B[0m     \u001B[38;5;28;43mself\u001B[39;49m\u001B[38;5;241;43m.\u001B[39;49m\u001B[43mdo_wait_suspend\u001B[49m\u001B[43m(\u001B[49m\u001B[43mthread\u001B[49m\u001B[43m,\u001B[49m\u001B[43m \u001B[49m\u001B[43mframe\u001B[49m\u001B[43m,\u001B[49m\u001B[43m \u001B[49m\u001B[43mevent\u001B[49m\u001B[43m,\u001B[49m\u001B[43m \u001B[49m\u001B[43marg\u001B[49m\u001B[43m)\u001B[49m\n\u001B[1;32m    756\u001B[0m     \u001B[38;5;66;03m# No need to reset frame.f_trace to keep the same trace function.\u001B[39;00m\n\u001B[1;32m    757\u001B[0m     \u001B[38;5;28;01mreturn\u001B[39;00m \u001B[38;5;28mself\u001B[39m\u001B[38;5;241m.\u001B[39mtrace_dispatch\n",
      "File \u001B[0;32m/snap/pycharm-professional/440/plugins/python-ce/helpers/pydev/_pydevd_bundle/pydevd_frame.py:412\u001B[0m, in \u001B[0;36mPyDBFrame.do_wait_suspend\u001B[0;34m(self, *args, **kwargs)\u001B[0m\n\u001B[1;32m    411\u001B[0m \u001B[38;5;28;01mdef\u001B[39;00m \u001B[38;5;21mdo_wait_suspend\u001B[39m(\u001B[38;5;28mself\u001B[39m, \u001B[38;5;241m*\u001B[39margs, \u001B[38;5;241m*\u001B[39m\u001B[38;5;241m*\u001B[39mkwargs):\n\u001B[0;32m--> 412\u001B[0m     \u001B[38;5;28;43mself\u001B[39;49m\u001B[38;5;241;43m.\u001B[39;49m\u001B[43m_args\u001B[49m\u001B[43m[\u001B[49m\u001B[38;5;241;43m0\u001B[39;49m\u001B[43m]\u001B[49m\u001B[38;5;241;43m.\u001B[39;49m\u001B[43mdo_wait_suspend\u001B[49m\u001B[43m(\u001B[49m\u001B[38;5;241;43m*\u001B[39;49m\u001B[43margs\u001B[49m\u001B[43m,\u001B[49m\u001B[43m \u001B[49m\u001B[38;5;241;43m*\u001B[39;49m\u001B[38;5;241;43m*\u001B[39;49m\u001B[43mkwargs\u001B[49m\u001B[43m)\u001B[49m\n",
      "File \u001B[0;32m/snap/pycharm-professional/440/plugins/python-ce/helpers/pydev/pydevd.py:1220\u001B[0m, in \u001B[0;36mPyDB.do_wait_suspend\u001B[0;34m(self, thread, frame, event, arg, send_suspend_message, is_unhandled_exception)\u001B[0m\n\u001B[1;32m   1217\u001B[0m         from_this_thread\u001B[38;5;241m.\u001B[39mappend(frame_id)\n\u001B[1;32m   1219\u001B[0m \u001B[38;5;28;01mwith\u001B[39;00m \u001B[38;5;28mself\u001B[39m\u001B[38;5;241m.\u001B[39m_threads_suspended_single_notification\u001B[38;5;241m.\u001B[39mnotify_thread_suspended(thread_id, stop_reason):\n\u001B[0;32m-> 1220\u001B[0m     \u001B[38;5;28;43mself\u001B[39;49m\u001B[38;5;241;43m.\u001B[39;49m\u001B[43m_do_wait_suspend\u001B[49m\u001B[43m(\u001B[49m\u001B[43mthread\u001B[49m\u001B[43m,\u001B[49m\u001B[43m \u001B[49m\u001B[43mframe\u001B[49m\u001B[43m,\u001B[49m\u001B[43m \u001B[49m\u001B[43mevent\u001B[49m\u001B[43m,\u001B[49m\u001B[43m \u001B[49m\u001B[43marg\u001B[49m\u001B[43m,\u001B[49m\u001B[43m \u001B[49m\u001B[43msuspend_type\u001B[49m\u001B[43m,\u001B[49m\u001B[43m \u001B[49m\u001B[43mfrom_this_thread\u001B[49m\u001B[43m)\u001B[49m\n",
      "File \u001B[0;32m/snap/pycharm-professional/440/plugins/python-ce/helpers/pydev/pydevd.py:1235\u001B[0m, in \u001B[0;36mPyDB._do_wait_suspend\u001B[0;34m(self, thread, frame, event, arg, suspend_type, from_this_thread)\u001B[0m\n\u001B[1;32m   1232\u001B[0m             \u001B[38;5;28mself\u001B[39m\u001B[38;5;241m.\u001B[39m_call_mpl_hook()\n\u001B[1;32m   1234\u001B[0m         \u001B[38;5;28mself\u001B[39m\u001B[38;5;241m.\u001B[39mprocess_internal_commands()\n\u001B[0;32m-> 1235\u001B[0m         \u001B[43mtime\u001B[49m\u001B[38;5;241;43m.\u001B[39;49m\u001B[43msleep\u001B[49m\u001B[43m(\u001B[49m\u001B[38;5;241;43m0.01\u001B[39;49m\u001B[43m)\u001B[49m\n\u001B[1;32m   1237\u001B[0m \u001B[38;5;28mself\u001B[39m\u001B[38;5;241m.\u001B[39mcancel_async_evaluation(get_current_thread_id(thread), \u001B[38;5;28mstr\u001B[39m(\u001B[38;5;28mid\u001B[39m(frame)))\n\u001B[1;32m   1239\u001B[0m \u001B[38;5;66;03m# process any stepping instructions\u001B[39;00m\n",
      "\u001B[0;31mKeyboardInterrupt\u001B[0m: "
     ]
    }
   ],
   "execution_count": 36
  },
  {
   "metadata": {
    "ExecuteTime": {
     "end_time": "2024-12-12T10:35:37.904210Z",
     "start_time": "2024-12-12T10:35:30.126958Z"
    }
   },
   "cell_type": "code",
   "source": [
    "\n",
    "# proteus includes the following model types: \"rf\", \"knn\", \"svm\", \"ffnn\", \"ridge\", \"gp\" and for clustering: \"hdbscan\"\n",
    "# possible in memory representations (x): \"ohe\", \"blosum50\", \"blosum62\"\n",
    "model = pai.Model(library=library, k_folds=5, model_type=\"rf\", x=\"blosum62\")\n",
    "\n",
    "# train model\n",
    "model.train()"
   ],
   "id": "f908ba921db4190f",
   "outputs": [
    {
     "name": "stdout",
     "output_type": "stream",
     "text": [
      "Training completed:\n",
      "val_r2:\t0.6262769129985778\n"
     ]
    },
    {
     "data": {
      "text/plain": [
       "{'df':                                    name  \\\n",
       " 0    Y32G+F46S+L56S+V97G+P49P+R51R+I53L   \n",
       " 1    Y32G+F46S+L56S+V97G+P49P+R51G+I53L   \n",
       " 2    Y32G+F46S+L56S+V97G+P49P+R51F+I53L   \n",
       " 3    Y32G+F46S+L56S+V97G+P49P+R51G+I53F   \n",
       " 4    Y32G+F46S+L56S+V97G+P49P+R51F+I53F   \n",
       " ..                                  ...   \n",
       " 561  Y32V+F46C+L56H+V97V+P49H+R51L+I53C   \n",
       " 562  Y32V+F46C+L56H+V97V+P49I+R51F+I53L   \n",
       " 563  Y32V+F46C+L56H+V97V+P49N+R51R+I53I   \n",
       " 564  Y32V+F46C+L56H+V97V+P49N+R51V+I53V   \n",
       " 565  Y32V+F46C+L56H+V97V+P49Y+R51V+I53F   \n",
       " \n",
       "                                               sequence  y_true  y_predicted  \\\n",
       " 0    MAPTLSEQTRQLVRASVPALQKHSVAISATMGRLLFERYPETRSLS...   0.873     0.793416   \n",
       " 1    MAPTLSEQTRQLVRASVPALQKHSVAISATMGRLLFERYPETRSLS...   0.822     0.781641   \n",
       " 2    MAPTLSEQTRQLVRASVPALQKHSVAISATMGRLLFERYPETRSLS...   0.789     0.771142   \n",
       " 3    MAPTLSEQTRQLVRASVPALQKHSVAISATMGRLLFERYPETRSLS...   0.841     0.768365   \n",
       " 4    MAPTLSEQTRQLVRASVPALQKHSVAISATMGRLLFERYPETRSLS...   0.809     0.765243   \n",
       " ..                                                 ...     ...          ...   \n",
       " 561  MAPTLSEQTRQLVRASVPALQKHSVAISATMVRLLFERYPETRSLC...  -0.137    -0.527866   \n",
       " 562  MAPTLSEQTRQLVRASVPALQKHSVAISATMVRLLFERYPETRSLC...  -0.462    -0.554058   \n",
       " 563  MAPTLSEQTRQLVRASVPALQKHSVAISATMVRLLFERYPETRSLC...  -0.665    -0.610757   \n",
       " 564  MAPTLSEQTRQLVRASVPALQKHSVAISATMVRLLFERYPETRSLC...  -0.790    -0.732118   \n",
       " 565  MAPTLSEQTRQLVRASVPALQKHSVAISATMVRLLFERYPETRSLC...  -0.862    -0.823742   \n",
       " \n",
       "       y_sigma  split  \n",
       " 0    0.053563  train  \n",
       " 1    0.035355  train  \n",
       " 2    0.014403  train  \n",
       " 3    0.041473  train  \n",
       " 4    0.031102  train  \n",
       " ..        ...    ...  \n",
       " 561  0.050096    val  \n",
       " 562  0.032225    val  \n",
       " 563  0.073877    val  \n",
       " 564  0.022288    val  \n",
       " 565  0.022298    val  \n",
       " \n",
       " [566 rows x 6 columns],\n",
       " 'rep_path': '/home/iwe80/ProteusAI/usrs/guest/NOD_AT_edit/library/rep',\n",
       " 'struc_path': '/home/iwe80/ProteusAI/usrs/guest/NOD_AT_edit/library/struc',\n",
       " 'y_type': 'num',\n",
       " 'y_col': 'y_true',\n",
       " 'y_pred_col': 'y_predicted',\n",
       " 'y_sigma_col': 'y_sigma',\n",
       " 'seqs_col': 'sequence',\n",
       " 'names_col': 'name',\n",
       " 'reps': ['esm2', 'ohe', 'blosum62', 'blosum50'],\n",
       " 'class_dict': None}"
      ]
     },
     "execution_count": 28,
     "metadata": {},
     "output_type": "execute_result"
    }
   ],
   "execution_count": 28
  },
  {
   "metadata": {
    "ExecuteTime": {
     "end_time": "2024-12-12T10:35:38.022099Z",
     "start_time": "2024-12-12T10:35:38.018692Z"
    }
   },
   "cell_type": "code",
   "source": [
    "training_df = model.out_df\n",
    "print(training_df)"
   ],
   "id": "9fbb2e11d07a3ecf",
   "outputs": [
    {
     "name": "stdout",
     "output_type": "stream",
     "text": [
      "                                   name  \\\n",
      "0    Y32G+F46S+L56S+V97G+P49P+R51R+I53L   \n",
      "1    Y32G+F46S+L56S+V97G+P49P+R51G+I53L   \n",
      "2    Y32G+F46S+L56S+V97G+P49P+R51F+I53L   \n",
      "3    Y32G+F46S+L56S+V97G+P49P+R51G+I53F   \n",
      "4    Y32G+F46S+L56S+V97G+P49P+R51F+I53F   \n",
      "..                                  ...   \n",
      "561  Y32V+F46C+L56H+V97V+P49H+R51L+I53C   \n",
      "562  Y32V+F46C+L56H+V97V+P49I+R51F+I53L   \n",
      "563  Y32V+F46C+L56H+V97V+P49N+R51R+I53I   \n",
      "564  Y32V+F46C+L56H+V97V+P49N+R51V+I53V   \n",
      "565  Y32V+F46C+L56H+V97V+P49Y+R51V+I53F   \n",
      "\n",
      "                                              sequence  y_true  y_predicted  \\\n",
      "0    MAPTLSEQTRQLVRASVPALQKHSVAISATMGRLLFERYPETRSLS...   0.873     0.793416   \n",
      "1    MAPTLSEQTRQLVRASVPALQKHSVAISATMGRLLFERYPETRSLS...   0.822     0.781641   \n",
      "2    MAPTLSEQTRQLVRASVPALQKHSVAISATMGRLLFERYPETRSLS...   0.789     0.771142   \n",
      "3    MAPTLSEQTRQLVRASVPALQKHSVAISATMGRLLFERYPETRSLS...   0.841     0.768365   \n",
      "4    MAPTLSEQTRQLVRASVPALQKHSVAISATMGRLLFERYPETRSLS...   0.809     0.765243   \n",
      "..                                                 ...     ...          ...   \n",
      "561  MAPTLSEQTRQLVRASVPALQKHSVAISATMVRLLFERYPETRSLC...  -0.137    -0.527866   \n",
      "562  MAPTLSEQTRQLVRASVPALQKHSVAISATMVRLLFERYPETRSLC...  -0.462    -0.554058   \n",
      "563  MAPTLSEQTRQLVRASVPALQKHSVAISATMVRLLFERYPETRSLC...  -0.665    -0.610757   \n",
      "564  MAPTLSEQTRQLVRASVPALQKHSVAISATMVRLLFERYPETRSLC...  -0.790    -0.732118   \n",
      "565  MAPTLSEQTRQLVRASVPALQKHSVAISATMVRLLFERYPETRSLC...  -0.862    -0.823742   \n",
      "\n",
      "      y_sigma  split  \n",
      "0    0.053563  train  \n",
      "1    0.035355  train  \n",
      "2    0.014403  train  \n",
      "3    0.041473  train  \n",
      "4    0.031102  train  \n",
      "..        ...    ...  \n",
      "561  0.050096    val  \n",
      "562  0.032225    val  \n",
      "563  0.073877    val  \n",
      "564  0.022288    val  \n",
      "565  0.022298    val  \n",
      "\n",
      "[566 rows x 6 columns]\n"
     ]
    }
   ],
   "execution_count": 29
  },
  {
   "metadata": {
    "ExecuteTime": {
     "end_time": "2024-12-12T10:35:38.098026Z",
     "start_time": "2024-12-12T10:35:38.093524Z"
    }
   },
   "cell_type": "code",
   "source": [
    "outpath = \"test/demo_results/\"\n",
    "if not os.path.exists(outpath):\n",
    "    os.makedirs(outpath, exist_ok=True)\n",
    "training_df.to_csv(os.path.join(outpath, \"training_test_results.csv\"))"
   ],
   "id": "bba7ae7cb3e34e87",
   "outputs": [],
   "execution_count": 30
  },
  {
   "metadata": {
    "ExecuteTime": {
     "end_time": "2024-12-12T10:35:38.139422Z",
     "start_time": "2024-12-12T10:35:38.137181Z"
    }
   },
   "cell_type": "code",
   "source": [
    "# predict binding affinity of new sequences with the trained model\n",
    "infile_to_predict = \"data/to_predict.csv\"\n",
    "new_sequences = dict()\n",
    "with open(infile_to_predict, \"r\") as infile:\n",
    "    for line in infile.readlines()[1:]:\n",
    "        new_sequences.update({line.split(\",\")[0] : line.split(\",\")[1][:-1]})\n",
    "        \n",
    "proteins = []\n",
    "for entry in new_sequences:\n",
    "    #     if no encodings are provided, protein model.score will determine the proper encoding of the sequences before automatically\n",
    "    proteins.append(pai.Protein(name=entry, seq=new_sequences[entry]))\n",
    "    \n",
    "# for entry in new_sequences:\n",
    "#     print(new_sequences[entry])\n"
   ],
   "id": "1dd622fcf9664aaa",
   "outputs": [],
   "execution_count": 31
  },
  {
   "metadata": {
    "ExecuteTime": {
     "end_time": "2024-12-12T10:35:38.197573Z",
     "start_time": "2024-12-12T10:35:38.182109Z"
    }
   },
   "cell_type": "code",
   "source": [
    "scores = model.predict(proteins)\n",
    "print(scores)"
   ],
   "id": "d3076e6a38dc962a",
   "outputs": [
    {
     "name": "stdout",
     "output_type": "stream",
     "text": [
      "([proteusAI.Protein():\n",
      "____________________\n",
      "name\t: Y32G+F46S+L56S+V97G+P49P+R51N+I53T+G32P\n",
      "seq\t: MAPTLSEQTRQLVRASVPALQKHSVAISATMPRLLFERYPETRSLSELPENQTHKSASALLAYARSIDNPSALQAAIRRMVLSHARAGVQAVHYPLGWECLRDAIKEVLGPDATETLLQAWKEAYDFLAHLLSTKEAQVYAVLAE\n",
      "rep\t: []\n",
      "y:\tNone\n",
      "y_pred:\t0.46240821428571444\n",
      "y_sig:\t0.08809159419870555\n",
      "struc:\tNone\n",
      ", proteusAI.Protein():\n",
      "____________________\n",
      "name\t: Y32G+F46S+L56S+V97G+P49P+R51R+I53A+L60E\n",
      "seq\t: MAPTLSEQTRQLVRASVPALQKHSVAISDDAEGFERYPETRSLSELPERQAHKSASAELAYARSIDNPSALQAAIRRMVLSHARAGVQAVHYPLGWECLRDAIKEVLGPDATETLLQAWKEAYDFLAHLLSTKEAQVYAVLAE\n",
      "rep\t: []\n",
      "y:\tNone\n",
      "y_pred:\t0.06011\n",
      "y_sig:\t0.04630254291073008\n",
      "struc:\tNone\n",
      ", proteusAI.Protein():\n",
      "____________________\n",
      "name\t: Y32G+F46S+L56S+V97G+S46T\n",
      "seq\t: MAPTLSEQTRQLVRASVPALQKHSVAISATAAAFERYPETRSLTELPERQIHKSASALLAYARSIDNPSALQAAIRRMVLSHARAGVQAVHYPLGWECLRDAIKEVLGPDATETLLQAWKEAYDFLAHLLSTKEAQVYAVLAE\n",
      "rep\t: []\n",
      "y:\tNone\n",
      "y_pred:\t0.03443999999999999\n",
      "y_sig:\t0.07944710970198977\n",
      "struc:\tNone\n",
      ", proteusAI.Protein():\n",
      "____________________\n",
      "name\t: Y32V+F46R+L56C+V97I+P49Q\n",
      "seq\t: MAPTLSEQTRQLVRASVPALQKHSVAISATMVRLLFERYPETRSLRELQEQIHKCASALLAYARSIDNPSALQAAIRRMVLSHARAGVQAVHYPLIDDECLRDAIKEVLGPDATETLLQAWKEAYDFLAHLLSTKEAQVYAVLAE\n",
      "rep\t: []\n",
      "y:\tNone\n",
      "y_pred:\t0.007761666666666669\n",
      "y_sig:\t0.03774221762312214\n",
      "struc:\tNone\n",
      ", proteusAI.Protein():\n",
      "____________________\n",
      "name\t: Y32G+F46S+L56S+V97G+P49L+R51D+I53L+D112P\n",
      "seq\t: MAPTLSEQTRQLVRASVPALQKHSVAISATMGRLLFERYPETRSLSSSELLEDQLHKSASALLAYARSIDNPSALQAAIRRMVLSHARAGVQAVHYPLGWECLRDAIKEVLGPPATELQAWKEAYDFLAHLLSTKEAQVYAVLAE\n",
      "rep\t: []\n",
      "y:\tNone\n",
      "y_pred:\t-0.07341840000000004\n",
      "y_sig:\t0.1011698667105972\n",
      "struc:\tNone\n",
      ", proteusAI.Protein():\n",
      "____________________\n",
      "name\t: Y32F+F46F+L56L+V97Y+R43V\n",
      "seq\t: MAPTLSEQTRQLVRASVPALQKHSVAISATMFRLLFERYPETVSLFELPERQIHKLASALLAYARSIDNPSALQLSHARAGVQAVHYPLYWECLRDAIKEVLGPDATETLLQAWKEAYDFLAHLLSTKEAQVYAVLAE\n",
      "rep\t: []\n",
      "y:\tNone\n",
      "y_pred:\t-0.09274033333333334\n",
      "y_sig:\t0.03401535222676834\n",
      "struc:\tNone\n",
      "], array([ 0.46240821,  0.06011   ,  0.03444   ,  0.00776167, -0.0734184 ,\n",
      "       -0.09274033]), array([0.08809159, 0.04630254, 0.07944711, 0.03774222, 0.10116987,\n",
      "       0.03401535]), [None, None, None, None, None, None], array([ 0.46240821,  0.06011   ,  0.03444   ,  0.00776167, -0.0734184 ,\n",
      "       -0.09274033]))\n"
     ]
    }
   ],
   "execution_count": 32
  },
  {
   "metadata": {},
   "cell_type": "markdown",
   "source": "",
   "id": "f474068ad3bbee23"
  },
  {
   "metadata": {
    "ExecuteTime": {
     "end_time": "2024-12-12T10:35:38.229500Z",
     "start_time": "2024-12-12T10:35:38.228138Z"
    }
   },
   "cell_type": "code",
   "source": [
    "# search for new mutants\n",
    "# out_search = model.search(optim_problem=\"max\")"
   ],
   "id": "c8454b537aa5211b",
   "outputs": [],
   "execution_count": 33
  },
  {
   "metadata": {
    "ExecuteTime": {
     "end_time": "2024-12-12T10:35:38.272119Z",
     "start_time": "2024-12-12T10:35:38.270726Z"
    }
   },
   "cell_type": "code",
   "source": [
    "# save searching results\n",
    "# outpath = \"test/results/\"\n",
    "# if not os.path.exists(outpath):\n",
    "#     os.makedirs(outpath, exist_ok=True)\n",
    "#\n",
    "# out_search.to_csv(os.path.join(outpath, \"results.csv\"))"
   ],
   "id": "e0035a94ca472113",
   "outputs": [],
   "execution_count": 34
  }
 ],
 "metadata": {
  "kernelspec": {
   "display_name": "Python 3",
   "language": "python",
   "name": "python3"
  },
  "language_info": {
   "codemirror_mode": {
    "name": "ipython",
    "version": 2
   },
   "file_extension": ".py",
   "mimetype": "text/x-python",
   "name": "python",
   "nbconvert_exporter": "python",
   "pygments_lexer": "ipython2",
   "version": "2.7.6"
  }
 },
 "nbformat": 4,
 "nbformat_minor": 5
}
