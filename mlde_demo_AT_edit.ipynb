{
 "cells": [
  {
   "cell_type": "code",
   "id": "initial_id",
   "metadata": {
    "collapsed": true,
    "ExecuteTime": {
     "end_time": "2024-12-18T13:57:51.394303Z",
     "start_time": "2024-12-18T13:57:47.221115Z"
    }
   },
   "source": [
    "import os\n",
    "import sys\n",
    "\n",
    "import numpy as np\n",
    "\n",
    "\"\"\"\n",
    "Prediction Script for the proteusAI MLDE package.\n",
    "This script is based on the proteus mlde_demo-file and therefore uses proteusAI libraries and requires the proteusAI environment to be activated.\n",
    "To install and create the proteusAI environment, please follow the instructions in the proteusAI documentation at:\n",
    "    https://github.com/jonfunk21/ProteusAI\n",
    "\n",
    "The script is designed to be run in a Jupyter Notebook or as a standalone Python script.\n",
    "It uses a labeled csv-file as input, including at least the sequence and the label columns. A name or description column for the provided AA-sequence is not mandatory but highly recommended, since proteus requires a \"names_column\" for a description.\n",
    "\n",
    "The output is a dataframe with the training results and the predicted labels for the input data.\"\"\"\n",
    "\n",
    "# os.system(\"conda init bash\")\n",
    "# os.system(\"conda activate proteusAI\")\n",
    "import proteusAI as pai\n",
    "\n",
    "print(os.getcwd())\n",
    "sys.path.append(\"src/\")"
   ],
   "outputs": [
    {
     "name": "stderr",
     "output_type": "stream",
     "text": [
      "/home/iwe80/Documents/Enzyme_Activity_Prediction/02_Playground/ProteusAI/src/proteusAI/ml_tools/esm_tools/esm_tools.py:40: FutureWarning: You are using `torch.load` with `weights_only=False` (the current default value), which uses the default pickle module implicitly. It is possible to construct malicious pickle data which will execute arbitrary code during unpickling (See https://github.com/pytorch/pytorch/blob/main/SECURITY.md#untrusted-models for more details). In a future release, the default value for `weights_only` will be flipped to `True`. This limits the functions that could be executed during unpickling. Arbitrary objects will no longer be allowed to be loaded via this mode unless they are explicitly allowlisted by the user via `torch.serialization.add_safe_globals`. We recommend you start setting `weights_only=True` for any use case where you don't have full control of the loaded file. Please open an issue on GitHub for any issues related to this experimental feature.\n",
      "  alphabet = torch.load(os.path.join(Path(__file__).parent, \"alphabet.pt\"))\n"
     ]
    },
    {
     "name": "stdout",
     "output_type": "stream",
     "text": [
      "/home/iwe80/Documents/Enzyme_Activity_Prediction/02_Playground/MAP\n"
     ]
    }
   ],
   "execution_count": 2
  },
  {
   "metadata": {
    "ExecuteTime": {
     "end_time": "2024-12-18T13:57:51.487552Z",
     "start_time": "2024-12-18T13:57:51.485907Z"
    }
   },
   "cell_type": "code",
   "source": [
    "# will initiate storage space - else in memory\n",
    "dataset = \"data/NOD_AT_edit.csv\"\n",
    "y_column = \"Data\""
   ],
   "id": "689c486d623f961e",
   "outputs": [],
   "execution_count": 3
  },
  {
   "metadata": {
    "ExecuteTime": {
     "end_time": "2024-12-18T13:57:53.718328Z",
     "start_time": "2024-12-18T13:57:53.709269Z"
    }
   },
   "cell_type": "code",
   "source": [
    "# load data from csv or excel: x should be sequences, y should be labels, y_type class or num\n",
    "library = pai.Library(\n",
    "    source=dataset,\n",
    "    seqs_col=\"Sequence\",\n",
    "    y_col=y_column,\n",
    "    y_type=\"num\",\n",
    "    names_col=\"Description\",\n",
    ")"
   ],
   "id": "aa2d741850e626f2",
   "outputs": [],
   "execution_count": 4
  },
  {
   "metadata": {
    "ExecuteTime": {
     "end_time": "2024-12-18T13:57:56.057187Z",
     "start_time": "2024-12-18T13:57:55.782723Z"
    }
   },
   "cell_type": "code",
   "source": [
    "# proteus includes the following encoding methods: \"esm1v\", \"esm2\", \"esm2_650M\", \"esm2_150M\", \"esm2_35M\", \"esm2_8M\", \"ohe\", \"blosum62\", \"blosum50\" and \"vae (variational autoencoder)\"\n",
    "# compute and save ESM-2 representations at example_lib/representations/esm2\n",
    "library.compute(method=\"ohe\", batch_size=10)\n"
   ],
   "id": "48fff39a67af6cf7",
   "outputs": [
    {
     "data": {
      "text/plain": [
       "tensor([[[0., 0., 0.,  ..., 0., 0., 0.],\n",
       "         [1., 0., 0.,  ..., 0., 0., 0.],\n",
       "         [0., 0., 0.,  ..., 0., 0., 0.],\n",
       "         ...,\n",
       "         [0., 0., 0.,  ..., 0., 0., 0.],\n",
       "         [1., 0., 0.,  ..., 0., 0., 0.],\n",
       "         [0., 0., 0.,  ..., 0., 0., 0.]],\n",
       "\n",
       "        [[0., 0., 0.,  ..., 0., 0., 0.],\n",
       "         [1., 0., 0.,  ..., 0., 0., 0.],\n",
       "         [0., 0., 0.,  ..., 0., 0., 0.],\n",
       "         ...,\n",
       "         [0., 0., 0.,  ..., 0., 0., 0.],\n",
       "         [1., 0., 0.,  ..., 0., 0., 0.],\n",
       "         [0., 0., 0.,  ..., 0., 0., 0.]],\n",
       "\n",
       "        [[0., 0., 0.,  ..., 0., 0., 0.],\n",
       "         [1., 0., 0.,  ..., 0., 0., 0.],\n",
       "         [0., 0., 0.,  ..., 0., 0., 0.],\n",
       "         ...,\n",
       "         [0., 0., 0.,  ..., 0., 0., 0.],\n",
       "         [1., 0., 0.,  ..., 0., 0., 0.],\n",
       "         [0., 0., 0.,  ..., 0., 0., 0.]],\n",
       "\n",
       "        ...,\n",
       "\n",
       "        [[0., 0., 0.,  ..., 0., 0., 0.],\n",
       "         [1., 0., 0.,  ..., 0., 0., 0.],\n",
       "         [0., 0., 0.,  ..., 0., 0., 0.],\n",
       "         ...,\n",
       "         [0., 0., 0.,  ..., 0., 0., 0.],\n",
       "         [1., 0., 0.,  ..., 0., 0., 0.],\n",
       "         [0., 0., 0.,  ..., 0., 0., 0.]],\n",
       "\n",
       "        [[0., 0., 0.,  ..., 0., 0., 0.],\n",
       "         [1., 0., 0.,  ..., 0., 0., 0.],\n",
       "         [0., 0., 0.,  ..., 0., 0., 0.],\n",
       "         ...,\n",
       "         [0., 0., 0.,  ..., 0., 0., 0.],\n",
       "         [1., 0., 0.,  ..., 0., 0., 0.],\n",
       "         [0., 0., 0.,  ..., 0., 0., 0.]],\n",
       "\n",
       "        [[0., 0., 0.,  ..., 0., 0., 0.],\n",
       "         [1., 0., 0.,  ..., 0., 0., 0.],\n",
       "         [0., 0., 0.,  ..., 0., 0., 0.],\n",
       "         ...,\n",
       "         [0., 0., 0.,  ..., 0., 0., 0.],\n",
       "         [1., 0., 0.,  ..., 0., 0., 0.],\n",
       "         [0., 0., 0.,  ..., 0., 0., 0.]]])"
      ]
     },
     "execution_count": 5,
     "metadata": {},
     "output_type": "execute_result"
    }
   ],
   "execution_count": 5
  },
  {
   "metadata": {
    "ExecuteTime": {
     "end_time": "2024-12-18T15:21:59.185503Z",
     "start_time": "2024-12-18T13:58:18.142203Z"
    }
   },
   "cell_type": "code",
   "source": [
    "\n",
    "# proteus includes the following model types: \"rf\", \"knn\", \"svm\", \"ffnn\", \"ridge\", \"gp\" and for clustering: \"hdbscan\"\n",
    "# possible in memory representations (x): \"ohe\", \"blosum50\", \"blosum62\"\n",
    "model = pai.Model(library=library, k_folds=5, model_type=\"rf\", x=\"blosum62\")\n",
    "\n",
    "# train model\n",
    "model.train()"
   ],
   "id": "f908ba921db4190f",
   "outputs": [
    {
     "name": "stderr",
     "output_type": "stream",
     "text": [
      "\n",
      "KeyboardInterrupt\n",
      "\n"
     ]
    },
    {
     "ename": "KeyboardInterrupt",
     "evalue": "",
     "output_type": "error",
     "traceback": [
      "\u001B[0;31m---------------------------------------------------------------------------\u001B[0m",
      "\u001B[0;31mKeyboardInterrupt\u001B[0m                         Traceback (most recent call last)",
      "File \u001B[0;32m/opt/conda/conda/envs/proteusAI/lib/python3.8/site-packages/IPython/core/async_helpers.py:129\u001B[0m, in \u001B[0;36m_pseudo_sync_runner\u001B[0;34m(coro)\u001B[0m\n\u001B[1;32m    121\u001B[0m \u001B[38;5;250m\u001B[39m\u001B[38;5;124;03m\"\"\"\u001B[39;00m\n\u001B[1;32m    122\u001B[0m \u001B[38;5;124;03mA runner that does not really allow async execution, and just advance the coroutine.\u001B[39;00m\n\u001B[1;32m    123\u001B[0m \n\u001B[0;32m   (...)\u001B[0m\n\u001B[1;32m    126\u001B[0m \u001B[38;5;124;03mCredit to Nathaniel Smith\u001B[39;00m\n\u001B[1;32m    127\u001B[0m \u001B[38;5;124;03m\"\"\"\u001B[39;00m\n\u001B[1;32m    128\u001B[0m \u001B[38;5;28;01mtry\u001B[39;00m:\n\u001B[0;32m--> 129\u001B[0m     \u001B[43mcoro\u001B[49m\u001B[38;5;241;43m.\u001B[39;49m\u001B[43msend\u001B[49m\u001B[43m(\u001B[49m\u001B[38;5;28;43;01mNone\u001B[39;49;00m\u001B[43m)\u001B[49m\n\u001B[1;32m    130\u001B[0m \u001B[38;5;28;01mexcept\u001B[39;00m \u001B[38;5;167;01mStopIteration\u001B[39;00m \u001B[38;5;28;01mas\u001B[39;00m exc:\n\u001B[1;32m    131\u001B[0m     \u001B[38;5;28;01mreturn\u001B[39;00m exc\u001B[38;5;241m.\u001B[39mvalue\n",
      "File \u001B[0;32m/opt/conda/conda/envs/proteusAI/lib/python3.8/site-packages/IPython/core/interactiveshell.py:3269\u001B[0m, in \u001B[0;36mInteractiveShell.run_cell_async\u001B[0;34m(self, raw_cell, store_history, silent, shell_futures, transformed_cell, preprocessing_exc_tuple, cell_id)\u001B[0m\n\u001B[1;32m   3265\u001B[0m \u001B[38;5;66;03m# Execute the user code\u001B[39;00m\n\u001B[1;32m   3266\u001B[0m interactivity \u001B[38;5;241m=\u001B[39m \u001B[38;5;124m\"\u001B[39m\u001B[38;5;124mnone\u001B[39m\u001B[38;5;124m\"\u001B[39m \u001B[38;5;28;01mif\u001B[39;00m silent \u001B[38;5;28;01melse\u001B[39;00m \u001B[38;5;28mself\u001B[39m\u001B[38;5;241m.\u001B[39mast_node_interactivity\n\u001B[0;32m-> 3269\u001B[0m has_raised \u001B[38;5;241m=\u001B[39m \u001B[38;5;28;01mawait\u001B[39;00m \u001B[38;5;28mself\u001B[39m\u001B[38;5;241m.\u001B[39mrun_ast_nodes(code_ast\u001B[38;5;241m.\u001B[39mbody, cell_name,\n\u001B[1;32m   3270\u001B[0m        interactivity\u001B[38;5;241m=\u001B[39minteractivity, compiler\u001B[38;5;241m=\u001B[39mcompiler, result\u001B[38;5;241m=\u001B[39mresult)\n\u001B[1;32m   3272\u001B[0m \u001B[38;5;28mself\u001B[39m\u001B[38;5;241m.\u001B[39mlast_execution_succeeded \u001B[38;5;241m=\u001B[39m \u001B[38;5;129;01mnot\u001B[39;00m has_raised\n\u001B[1;32m   3273\u001B[0m \u001B[38;5;28mself\u001B[39m\u001B[38;5;241m.\u001B[39mlast_execution_result \u001B[38;5;241m=\u001B[39m result\n",
      "\u001B[0;31mKeyboardInterrupt\u001B[0m: "
     ]
    }
   ],
   "execution_count": 6
  },
  {
   "metadata": {
    "ExecuteTime": {
     "end_time": "2024-12-12T10:35:38.022099Z",
     "start_time": "2024-12-12T10:35:38.018692Z"
    }
   },
   "cell_type": "code",
   "source": [
    "training_df = model.out_df\n",
    "print(training_df)"
   ],
   "id": "9fbb2e11d07a3ecf",
   "outputs": [
    {
     "name": "stdout",
     "output_type": "stream",
     "text": [
      "                                   name  \\\n",
      "0    Y32G+F46S+L56S+V97G+P49P+R51R+I53L   \n",
      "1    Y32G+F46S+L56S+V97G+P49P+R51G+I53L   \n",
      "2    Y32G+F46S+L56S+V97G+P49P+R51F+I53L   \n",
      "3    Y32G+F46S+L56S+V97G+P49P+R51G+I53F   \n",
      "4    Y32G+F46S+L56S+V97G+P49P+R51F+I53F   \n",
      "..                                  ...   \n",
      "561  Y32V+F46C+L56H+V97V+P49H+R51L+I53C   \n",
      "562  Y32V+F46C+L56H+V97V+P49I+R51F+I53L   \n",
      "563  Y32V+F46C+L56H+V97V+P49N+R51R+I53I   \n",
      "564  Y32V+F46C+L56H+V97V+P49N+R51V+I53V   \n",
      "565  Y32V+F46C+L56H+V97V+P49Y+R51V+I53F   \n",
      "\n",
      "                                              sequence  y_true  y_predicted  \\\n",
      "0    MAPTLSEQTRQLVRASVPALQKHSVAISATMGRLLFERYPETRSLS...   0.873     0.793416   \n",
      "1    MAPTLSEQTRQLVRASVPALQKHSVAISATMGRLLFERYPETRSLS...   0.822     0.781641   \n",
      "2    MAPTLSEQTRQLVRASVPALQKHSVAISATMGRLLFERYPETRSLS...   0.789     0.771142   \n",
      "3    MAPTLSEQTRQLVRASVPALQKHSVAISATMGRLLFERYPETRSLS...   0.841     0.768365   \n",
      "4    MAPTLSEQTRQLVRASVPALQKHSVAISATMGRLLFERYPETRSLS...   0.809     0.765243   \n",
      "..                                                 ...     ...          ...   \n",
      "561  MAPTLSEQTRQLVRASVPALQKHSVAISATMVRLLFERYPETRSLC...  -0.137    -0.527866   \n",
      "562  MAPTLSEQTRQLVRASVPALQKHSVAISATMVRLLFERYPETRSLC...  -0.462    -0.554058   \n",
      "563  MAPTLSEQTRQLVRASVPALQKHSVAISATMVRLLFERYPETRSLC...  -0.665    -0.610757   \n",
      "564  MAPTLSEQTRQLVRASVPALQKHSVAISATMVRLLFERYPETRSLC...  -0.790    -0.732118   \n",
      "565  MAPTLSEQTRQLVRASVPALQKHSVAISATMVRLLFERYPETRSLC...  -0.862    -0.823742   \n",
      "\n",
      "      y_sigma  split  \n",
      "0    0.053563  train  \n",
      "1    0.035355  train  \n",
      "2    0.014403  train  \n",
      "3    0.041473  train  \n",
      "4    0.031102  train  \n",
      "..        ...    ...  \n",
      "561  0.050096    val  \n",
      "562  0.032225    val  \n",
      "563  0.073877    val  \n",
      "564  0.022288    val  \n",
      "565  0.022298    val  \n",
      "\n",
      "[566 rows x 6 columns]\n"
     ]
    }
   ],
   "execution_count": 29
  },
  {
   "metadata": {
    "ExecuteTime": {
     "end_time": "2024-12-12T10:35:38.098026Z",
     "start_time": "2024-12-12T10:35:38.093524Z"
    }
   },
   "cell_type": "code",
   "source": [
    "outpath = \"test/demo_results/\"\n",
    "if not os.path.exists(outpath):\n",
    "    os.makedirs(outpath, exist_ok=True)\n",
    "training_df.to_csv(os.path.join(outpath, \"training_test_results.csv\"))"
   ],
   "id": "bba7ae7cb3e34e87",
   "outputs": [],
   "execution_count": 30
  },
  {
   "metadata": {
    "ExecuteTime": {
     "end_time": "2024-12-12T10:35:38.139422Z",
     "start_time": "2024-12-12T10:35:38.137181Z"
    }
   },
   "cell_type": "code",
   "source": [
    "# predict binding affinity of new sequences with the trained model\n",
    "infile_to_predict = \"data/to_predict.csv\"\n",
    "new_sequences = dict()\n",
    "with open(infile_to_predict, \"r\") as infile:\n",
    "    for line in infile.readlines()[1:]:\n",
    "        new_sequences.update({line.split(\",\")[0]: line.split(\",\")[1][:-1]})\n",
    "\n",
    "proteins = []\n",
    "for entry in new_sequences:\n",
    "    #     if no encodings are provided, protein model.score will determine the proper encoding of the sequences before automatically\n",
    "    proteins.append(pai.Protein(name=entry, seq=new_sequences[entry]))\n",
    "\n",
    "# for entry in new_sequences:\n",
    "#     print(new_sequences[entry])\n"
   ],
   "id": "1dd622fcf9664aaa",
   "outputs": [],
   "execution_count": 31
  },
  {
   "metadata": {
    "ExecuteTime": {
     "end_time": "2024-12-12T10:35:38.197573Z",
     "start_time": "2024-12-12T10:35:38.182109Z"
    }
   },
   "cell_type": "code",
   "source": [
    "scores = model.predict(proteins)\n",
    "print(scores)"
   ],
   "id": "d3076e6a38dc962a",
   "outputs": [
    {
     "name": "stdout",
     "output_type": "stream",
     "text": [
      "([proteusAI.Protein():\n",
      "____________________\n",
      "name\t: Y32G+F46S+L56S+V97G+P49P+R51N+I53T+G32P\n",
      "seq\t: MAPTLSEQTRQLVRASVPALQKHSVAISATMPRLLFERYPETRSLSELPENQTHKSASALLAYARSIDNPSALQAAIRRMVLSHARAGVQAVHYPLGWECLRDAIKEVLGPDATETLLQAWKEAYDFLAHLLSTKEAQVYAVLAE\n",
      "rep\t: []\n",
      "y:\tNone\n",
      "y_pred:\t0.46240821428571444\n",
      "y_sig:\t0.08809159419870555\n",
      "struc:\tNone\n",
      ", proteusAI.Protein():\n",
      "____________________\n",
      "name\t: Y32G+F46S+L56S+V97G+P49P+R51R+I53A+L60E\n",
      "seq\t: MAPTLSEQTRQLVRASVPALQKHSVAISDDAEGFERYPETRSLSELPERQAHKSASAELAYARSIDNPSALQAAIRRMVLSHARAGVQAVHYPLGWECLRDAIKEVLGPDATETLLQAWKEAYDFLAHLLSTKEAQVYAVLAE\n",
      "rep\t: []\n",
      "y:\tNone\n",
      "y_pred:\t0.06011\n",
      "y_sig:\t0.04630254291073008\n",
      "struc:\tNone\n",
      ", proteusAI.Protein():\n",
      "____________________\n",
      "name\t: Y32G+F46S+L56S+V97G+S46T\n",
      "seq\t: MAPTLSEQTRQLVRASVPALQKHSVAISATAAAFERYPETRSLTELPERQIHKSASALLAYARSIDNPSALQAAIRRMVLSHARAGVQAVHYPLGWECLRDAIKEVLGPDATETLLQAWKEAYDFLAHLLSTKEAQVYAVLAE\n",
      "rep\t: []\n",
      "y:\tNone\n",
      "y_pred:\t0.03443999999999999\n",
      "y_sig:\t0.07944710970198977\n",
      "struc:\tNone\n",
      ", proteusAI.Protein():\n",
      "____________________\n",
      "name\t: Y32V+F46R+L56C+V97I+P49Q\n",
      "seq\t: MAPTLSEQTRQLVRASVPALQKHSVAISATMVRLLFERYPETRSLRELQEQIHKCASALLAYARSIDNPSALQAAIRRMVLSHARAGVQAVHYPLIDDECLRDAIKEVLGPDATETLLQAWKEAYDFLAHLLSTKEAQVYAVLAE\n",
      "rep\t: []\n",
      "y:\tNone\n",
      "y_pred:\t0.007761666666666669\n",
      "y_sig:\t0.03774221762312214\n",
      "struc:\tNone\n",
      ", proteusAI.Protein():\n",
      "____________________\n",
      "name\t: Y32G+F46S+L56S+V97G+P49L+R51D+I53L+D112P\n",
      "seq\t: MAPTLSEQTRQLVRASVPALQKHSVAISATMGRLLFERYPETRSLSSSELLEDQLHKSASALLAYARSIDNPSALQAAIRRMVLSHARAGVQAVHYPLGWECLRDAIKEVLGPPATELQAWKEAYDFLAHLLSTKEAQVYAVLAE\n",
      "rep\t: []\n",
      "y:\tNone\n",
      "y_pred:\t-0.07341840000000004\n",
      "y_sig:\t0.1011698667105972\n",
      "struc:\tNone\n",
      ", proteusAI.Protein():\n",
      "____________________\n",
      "name\t: Y32F+F46F+L56L+V97Y+R43V\n",
      "seq\t: MAPTLSEQTRQLVRASVPALQKHSVAISATMFRLLFERYPETVSLFELPERQIHKLASALLAYARSIDNPSALQLSHARAGVQAVHYPLYWECLRDAIKEVLGPDATETLLQAWKEAYDFLAHLLSTKEAQVYAVLAE\n",
      "rep\t: []\n",
      "y:\tNone\n",
      "y_pred:\t-0.09274033333333334\n",
      "y_sig:\t0.03401535222676834\n",
      "struc:\tNone\n",
      "], array([ 0.46240821,  0.06011   ,  0.03444   ,  0.00776167, -0.0734184 ,\n",
      "       -0.09274033]), array([0.08809159, 0.04630254, 0.07944711, 0.03774222, 0.10116987,\n",
      "       0.03401535]), [None, None, None, None, None, None], array([ 0.46240821,  0.06011   ,  0.03444   ,  0.00776167, -0.0734184 ,\n",
      "       -0.09274033]))\n"
     ]
    }
   ],
   "execution_count": 32
  },
  {
   "metadata": {},
   "cell_type": "markdown",
   "source": "",
   "id": "f474068ad3bbee23"
  },
  {
   "metadata": {
    "ExecuteTime": {
     "end_time": "2024-12-12T10:35:38.229500Z",
     "start_time": "2024-12-12T10:35:38.228138Z"
    }
   },
   "cell_type": "code",
   "source": [
    "# search for new mutants\n",
    "# out_search = model.search(optim_problem=\"max\")"
   ],
   "id": "c8454b537aa5211b",
   "outputs": [],
   "execution_count": 33
  },
  {
   "metadata": {
    "ExecuteTime": {
     "end_time": "2024-12-12T10:35:38.272119Z",
     "start_time": "2024-12-12T10:35:38.270726Z"
    }
   },
   "cell_type": "code",
   "source": [
    "# save searching results\n",
    "# outpath = \"test/results/\"\n",
    "# if not os.path.exists(outpath):\n",
    "#     os.makedirs(outpath, exist_ok=True)\n",
    "#\n",
    "# out_search.to_csv(os.path.join(outpath, \"results.csv\"))"
   ],
   "id": "e0035a94ca472113",
   "outputs": [],
   "execution_count": 34
  },
  {
   "metadata": {
    "ExecuteTime": {
     "end_time": "2024-12-18T13:19:17.231916Z",
     "start_time": "2024-12-18T13:19:17.229479Z"
    }
   },
   "cell_type": "code",
   "source": [
    "import numpy as np\n",
    "tensor = [[[1, 2, 3], [2, 2, 3]], [[1, 2, 3], [4, 3, 2]], [[4, 2, 4], [3, 4, 2]]]\n",
    "np_tensor = np.array(tensor)\n",
    "print(np_tensor.shape)"
   ],
   "id": "6046b886c3268cca",
   "outputs": [
    {
     "name": "stdout",
     "output_type": "stream",
     "text": [
      "(3, 2, 3)\n"
     ]
    }
   ],
   "execution_count": 14
  }
 ],
 "metadata": {
  "kernelspec": {
   "display_name": "Python 3",
   "language": "python",
   "name": "python3"
  },
  "language_info": {
   "codemirror_mode": {
    "name": "ipython",
    "version": 2
   },
   "file_extension": ".py",
   "mimetype": "text/x-python",
   "name": "python",
   "nbconvert_exporter": "python",
   "pygments_lexer": "ipython2",
   "version": "2.7.6"
  }
 },
 "nbformat": 4,
 "nbformat_minor": 5
}
